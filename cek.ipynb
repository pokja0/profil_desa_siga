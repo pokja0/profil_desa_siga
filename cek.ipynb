{
 "cells": [
  {
   "cell_type": "code",
   "execution_count": 3,
   "metadata": {},
   "outputs": [],
   "source": [
    "import polars as pl\n",
    "\n",
    "data_desa = pl.read_csv('data/profil_poktan.csv')"
   ]
  },
  {
   "cell_type": "code",
   "execution_count": 6,
   "metadata": {},
   "outputs": [
    {
     "data": {
      "text/html": [
       "<div><style>\n",
       ".dataframe > thead > tr,\n",
       ".dataframe > tbody > tr {\n",
       "  text-align: right;\n",
       "  white-space: pre-wrap;\n",
       "}\n",
       "</style>\n",
       "<small>shape: (2, 13)</small><table border=\"1\" class=\"dataframe\"><thead><tr><th>KABUPATEN</th><th>KECAMATAN</th><th>KELURAHAN</th><th>LATITUDE</th><th>LONGITUDE</th><th>PUS</th><th>Kampung KB</th><th>Rumah DataKU</th><th>BKB</th><th>BKR</th><th>BKL</th><th>UPPKA</th><th>PIK-R</th></tr><tr><td>str</td><td>str</td><td>str</td><td>str</td><td>f64</td><td>i64</td><td>str</td><td>str</td><td>str</td><td>str</td><td>str</td><td>str</td><td>str</td></tr></thead><tbody><tr><td>&quot;MAMUJU TENGAH&quot;</td><td>&quot;TOBADAK&quot;</td><td>&quot;MAHAHE&quot;</td><td>&quot;-2.122958&quot;</td><td>119.365442</td><td>1</td><td>&quot;Ada&quot;</td><td>&quot;Tidak ada&quot;</td><td>&quot;Ada&quot;</td><td>&quot;Ada&quot;</td><td>&quot;Tidak ada&quot;</td><td>&quot;Ada&quot;</td><td>&quot;Tidak ada&quot;</td></tr><tr><td>&quot;MAMUJU TENGAH&quot;</td><td>&quot;TOBADAK&quot;</td><td>&quot;SALOBAJA&quot;</td><td>&quot;-2.156691&quot;</td><td>119.336074</td><td>1</td><td>&quot;Ada&quot;</td><td>&quot;Tidak ada&quot;</td><td>&quot;Ada&quot;</td><td>&quot;Ada&quot;</td><td>&quot;Tidak ada&quot;</td><td>&quot;Ada&quot;</td><td>&quot;Tidak ada&quot;</td></tr></tbody></table></div>"
      ],
      "text/plain": [
       "shape: (2, 13)\n",
       "┌───────────────┬───────────┬───────────┬───────────┬───┬─────┬───────────┬───────┬───────────┐\n",
       "│ KABUPATEN     ┆ KECAMATAN ┆ KELURAHAN ┆ LATITUDE  ┆ … ┆ BKR ┆ BKL       ┆ UPPKA ┆ PIK-R     │\n",
       "│ ---           ┆ ---       ┆ ---       ┆ ---       ┆   ┆ --- ┆ ---       ┆ ---   ┆ ---       │\n",
       "│ str           ┆ str       ┆ str       ┆ str       ┆   ┆ str ┆ str       ┆ str   ┆ str       │\n",
       "╞═══════════════╪═══════════╪═══════════╪═══════════╪═══╪═════╪═══════════╪═══════╪═══════════╡\n",
       "│ MAMUJU TENGAH ┆ TOBADAK   ┆ MAHAHE    ┆ -2.122958 ┆ … ┆ Ada ┆ Tidak ada ┆ Ada   ┆ Tidak ada │\n",
       "│ MAMUJU TENGAH ┆ TOBADAK   ┆ SALOBAJA  ┆ -2.156691 ┆ … ┆ Ada ┆ Tidak ada ┆ Ada   ┆ Tidak ada │\n",
       "└───────────────┴───────────┴───────────┴───────────┴───┴─────┴───────────┴───────┴───────────┘"
      ]
     },
     "execution_count": 6,
     "metadata": {},
     "output_type": "execute_result"
    }
   ],
   "source": [
    "data_desa.head(2)"
   ]
  },
  {
   "cell_type": "code",
   "execution_count": 11,
   "metadata": {},
   "outputs": [
    {
     "name": "stdout",
     "output_type": "stream",
     "text": [
      "['POLEWALI MANDAR', 'MAMUJU TENGAH', 'MAMASA', 'PASANGKAYU', 'MAJENE', 'MAMUJU']\n"
     ]
    }
   ],
   "source": [
    "kondisi_input = \"SEMUA KABUPATEN\"\n",
    "if kondisi_input == \"SEMUA KABUPATEN\":\n",
    "    filter_kabupaten = data_desa.select(\"KABUPATEN\").unique().to_series().to_list()\n",
    "else:\n",
    "    filter_kabupaten = \"POLEWALI MANDAR\"\n",
    "print(filter_kabupaten)"
   ]
  },
  {
   "cell_type": "code",
   "execution_count": 18,
   "metadata": {},
   "outputs": [
    {
     "name": "stdout",
     "output_type": "stream",
     "text": [
      "['BULU TABA', 'TAMMERODO SENDANA', 'TAPALANG BARAT', 'PANGALE', 'BALLA', 'ULUMANDA', 'PANA', 'SENDANA', 'MAMASA', 'MEHALAAN', 'BANGGAE TIMUR', 'BULO', 'TAPALANG', 'DURIPOKU', 'BONEHAU', 'RANTEBULAHAN TIMUR', 'TIKKE RAYA', 'BUDONG-BUDONG', 'BANGGAE', 'BALANIPA', 'ANREAPI', 'KALUMPANG', 'ARALLE', 'TOBADAK', 'TANDUK KALUA', 'KEP. BALA BALAKANG', 'PEDONGGA', 'BAMBALAMOTU', 'MAMBI', 'SUMARORONG', 'TINAMBUNG', 'TAWALIAN', 'KALUKKU', 'POLEWALI', 'MAPILLI', 'PASANGKAYU', 'SARJO', 'SIMBORO DAN KEPULAUAN', 'MAMUJU', 'LUYO', 'MATAKALI', 'WONOMULYO', 'TOMMO', 'BAMBAIRA', 'PAMBOANG', 'BARAS', 'BUNTUMALANGKA', 'TABANG', 'TUBO SENDANA', 'BINUANG', 'MATANGNGA', 'LARIANG', 'CAMPALAGIAN', 'NOSU', 'TOPOYO', 'LIMBORO', 'TABULAHAN', 'ALLU', 'PAPALANG', 'BAMBANG', 'MESSAWA', 'DAPURANG', 'MALUNDA', 'SARUDU', 'SAMPAGA', 'SESENAPADANG', 'KAROSSA', 'TAPANGO', 'TUTAR']\n"
     ]
    }
   ],
   "source": [
    "kondisi_input = \"SEMUA KECAMATAN\"\n",
    "if kondisi_input == \"SEMUA KECAMATAN\":\n",
    "    filter_kecamatan = data_desa.filter(pl.col(\"KABUPATEN\").is_in(filter_kabupaten),\n",
    "                                        pl.col(\"KECAMATAN\").is_in(data_desa.select(\"KECAMATAN\").unique().to_series().to_list()))\n",
    "    filter_kecamatan = filter_kecamatan.select(\"KECAMATAN\").unique().to_series().to_list()\n",
    "else:\n",
    "    filter_kecamatan = \"POLEWALI MANDAR\"\n",
    "print(filter_kecamatan)"
   ]
  },
  {
   "cell_type": "code",
   "execution_count": 14,
   "metadata": {},
   "outputs": [
    {
     "data": {
      "text/html": [
       "<div><style>\n",
       ".dataframe > thead > tr,\n",
       ".dataframe > tbody > tr {\n",
       "  text-align: right;\n",
       "  white-space: pre-wrap;\n",
       "}\n",
       "</style>\n",
       "<small>shape: (20, 13)</small><table border=\"1\" class=\"dataframe\"><thead><tr><th>KABUPATEN</th><th>KECAMATAN</th><th>KELURAHAN</th><th>LATITUDE</th><th>LONGITUDE</th><th>PUS</th><th>Kampung KB</th><th>Rumah DataKU</th><th>BKB</th><th>BKR</th><th>BKL</th><th>UPPKA</th><th>PIK-R</th></tr><tr><td>str</td><td>str</td><td>str</td><td>str</td><td>f64</td><td>i64</td><td>str</td><td>str</td><td>str</td><td>str</td><td>str</td><td>str</td><td>str</td></tr></thead><tbody><tr><td>&quot;MAJENE&quot;</td><td>&quot;BANGGAE&quot;</td><td>&quot;BANGGAE&quot;</td><td>&quot;-3.535722&quot;</td><td>118.940153</td><td>1</td><td>&quot;Ada&quot;</td><td>&quot;Tidak ada&quot;</td><td>&quot;Ada&quot;</td><td>&quot;Ada&quot;</td><td>&quot;Tidak ada&quot;</td><td>&quot;Ada&quot;</td><td>&quot;Tidak ada&quot;</td></tr><tr><td>&quot;MAJENE&quot;</td><td>&quot;BANGGAE&quot;</td><td>&quot;BARU&quot;</td><td>&quot;-3.531953&quot;</td><td>118.940496</td><td>1</td><td>&quot;Ada&quot;</td><td>&quot;Tidak ada&quot;</td><td>&quot;Ada&quot;</td><td>&quot;Ada&quot;</td><td>&quot;Tidak ada&quot;</td><td>&quot;Ada&quot;</td><td>&quot;Tidak ada&quot;</td></tr><tr><td>&quot;MAJENE&quot;</td><td>&quot;BANGGAE&quot;</td><td>&quot;PANGALI ALI&quot;</td><td>&quot;-3.533911&quot;</td><td>118.952528</td><td>1</td><td>&quot;Ada&quot;</td><td>&quot;Tidak ada&quot;</td><td>&quot;Ada&quot;</td><td>&quot;Ada&quot;</td><td>&quot;Tidak ada&quot;</td><td>&quot;Ada&quot;</td><td>&quot;Tidak ada&quot;</td></tr><tr><td>&quot;MAJENE&quot;</td><td>&quot;BANGGAE&quot;</td><td>&quot;TOTOLI&quot;</td><td>&quot;-3.543346&quot;</td><td>118.932885</td><td>1</td><td>&quot;Ada&quot;</td><td>&quot;Tidak ada&quot;</td><td>&quot;Ada&quot;</td><td>&quot;Ada&quot;</td><td>&quot;Tidak ada&quot;</td><td>&quot;Ada&quot;</td><td>&quot;Tidak ada&quot;</td></tr><tr><td>&quot;MAJENE&quot;</td><td>&quot;BANGGAE&quot;</td><td>&quot;RANGAS&quot;</td><td>&quot;-3.567695&quot;</td><td>118.935262</td><td>1</td><td>&quot;Ada&quot;</td><td>&quot;Tidak ada&quot;</td><td>&quot;Ada&quot;</td><td>&quot;Ada&quot;</td><td>&quot;Tidak ada&quot;</td><td>&quot;Ada&quot;</td><td>&quot;Tidak ada&quot;</td></tr><tr><td>&quot;MAJENE&quot;</td><td>&quot;BANGGAE&quot;</td><td>&quot;GALUNG&quot;</td><td>&quot;-3.533555&quot;</td><td>118.970948</td><td>1</td><td>&quot;Ada&quot;</td><td>&quot;Tidak ada&quot;</td><td>&quot;Ada&quot;</td><td>&quot;Ada&quot;</td><td>&quot;Tidak ada&quot;</td><td>&quot;Ada&quot;</td><td>&quot;Tidak ada&quot;</td></tr><tr><td>&quot;MAJENE&quot;</td><td>&quot;BANGGAE&quot;</td><td>&quot;PALIPI SOREANG…</td><td>&quot;-3.557869&quot;</td><td>118.927816</td><td>1</td><td>&quot;Ada&quot;</td><td>&quot;Tidak ada&quot;</td><td>&quot;Ada&quot;</td><td>&quot;Ada&quot;</td><td>&quot;Tidak ada&quot;</td><td>&quot;Ada&quot;</td><td>&quot;Tidak ada&quot;</td></tr><tr><td>&quot;MAJENE&quot;</td><td>&quot;BANGGAE&quot;</td><td>&quot;PAMBOBORANG&quot;</td><td>&quot;-3.533015&quot;</td><td>118.94113</td><td>1</td><td>&quot;Ada&quot;</td><td>&quot;Tidak ada&quot;</td><td>&quot;Ada&quot;</td><td>&quot;Ada&quot;</td><td>&quot;Tidak ada&quot;</td><td>&quot;Ada&quot;</td><td>&quot;Tidak ada&quot;</td></tr><tr><td>&quot;POLEWALI MANDA…</td><td>&quot;MAPILLI&quot;</td><td>&quot;MAPILI&quot;</td><td>&quot;-3.403493&quot;</td><td>119.161953</td><td>1</td><td>&quot;Tidak ada&quot;</td><td>&quot;Ada&quot;</td><td>&quot;Tidak ada&quot;</td><td>&quot;Tidak ada&quot;</td><td>&quot;Ada&quot;</td><td>&quot;Tidak ada&quot;</td><td>&quot;Ada&quot;</td></tr><tr><td>&quot;POLEWALI MANDA…</td><td>&quot;MAPILLI&quot;</td><td>&quot;UGIBARU&quot;</td><td>&quot;-3.40306&quot;</td><td>119.198141</td><td>1</td><td>&quot;Tidak ada&quot;</td><td>&quot;Ada&quot;</td><td>&quot;Tidak ada&quot;</td><td>&quot;Tidak ada&quot;</td><td>&quot;Ada&quot;</td><td>&quot;Tidak ada&quot;</td><td>&quot;Ada&quot;</td></tr><tr><td>&quot;POLEWALI MANDA…</td><td>&quot;MAPILLI&quot;</td><td>&quot;RUMPA&quot;</td><td>&quot;-3.451368&quot;</td><td>119.201712</td><td>1</td><td>&quot;Tidak ada&quot;</td><td>&quot;Ada&quot;</td><td>&quot;Tidak ada&quot;</td><td>&quot;Tidak ada&quot;</td><td>&quot;Ada&quot;</td><td>&quot;Tidak ada&quot;</td><td>&quot;Ada&quot;</td></tr><tr><td>&quot;POLEWALI MANDA…</td><td>&quot;MAPILLI&quot;</td><td>&quot;KURMA&quot;</td><td>&quot;-3.369225&quot;</td><td>119.171307</td><td>1</td><td>&quot;Tidak ada&quot;</td><td>&quot;Ada&quot;</td><td>&quot;Tidak ada&quot;</td><td>&quot;Tidak ada&quot;</td><td>&quot;Ada&quot;</td><td>&quot;Tidak ada&quot;</td><td>&quot;Ada&quot;</td></tr><tr><td>&quot;POLEWALI MANDA…</td><td>&quot;MAPILLI&quot;</td><td>&quot;BUKU&quot;</td><td>&quot;-3.403364&quot;</td><td>119.16191</td><td>1</td><td>&quot;Tidak ada&quot;</td><td>&quot;Ada&quot;</td><td>&quot;Tidak ada&quot;</td><td>&quot;Tidak ada&quot;</td><td>&quot;Ada&quot;</td><td>&quot;Tidak ada&quot;</td><td>&quot;Ada&quot;</td></tr><tr><td>&quot;POLEWALI MANDA…</td><td>&quot;MAPILLI&quot;</td><td>&quot;BONNE BONNE&quot;</td><td>&quot;-3.394314&quot;</td><td>119.185189</td><td>1</td><td>&quot;Tidak ada&quot;</td><td>&quot;Ada&quot;</td><td>&quot;Tidak ada&quot;</td><td>&quot;Tidak ada&quot;</td><td>&quot;Ada&quot;</td><td>&quot;Tidak ada&quot;</td><td>&quot;Ada&quot;</td></tr><tr><td>&quot;POLEWALI MANDA…</td><td>&quot;MAPILLI&quot;</td><td>&quot;BEROANGIN&quot;</td><td>&quot;-3.329687&quot;</td><td>119.147185</td><td>1</td><td>&quot;Tidak ada&quot;</td><td>&quot;Ada&quot;</td><td>&quot;Tidak ada&quot;</td><td>&quot;Tidak ada&quot;</td><td>&quot;Ada&quot;</td><td>&quot;Tidak ada&quot;</td><td>&quot;Ada&quot;</td></tr><tr><td>&quot;POLEWALI MANDA…</td><td>&quot;MAPILLI&quot;</td><td>&quot;SEGERANG&quot;</td><td>&quot;-3.42646&quot;</td><td>119.190737</td><td>1</td><td>&quot;Tidak ada&quot;</td><td>&quot;Ada&quot;</td><td>&quot;Tidak ada&quot;</td><td>&quot;Tidak ada&quot;</td><td>&quot;Ada&quot;</td><td>&quot;Tidak ada&quot;</td><td>&quot;Ada&quot;</td></tr><tr><td>&quot;POLEWALI MANDA…</td><td>&quot;MAPILLI&quot;</td><td>&quot;BONRA&quot;</td><td>&quot;-3.398118&quot;</td><td>119.170673</td><td>1</td><td>&quot;Tidak ada&quot;</td><td>&quot;Ada&quot;</td><td>&quot;Tidak ada&quot;</td><td>&quot;Tidak ada&quot;</td><td>&quot;Ada&quot;</td><td>&quot;Tidak ada&quot;</td><td>&quot;Ada&quot;</td></tr><tr><td>&quot;POLEWALI MANDA…</td><td>&quot;MAPILLI&quot;</td><td>&quot;SATTOKO&quot;</td><td>&quot;-3.309308&quot;</td><td>119.12768</td><td>1</td><td>&quot;Tidak ada&quot;</td><td>&quot;Ada&quot;</td><td>&quot;Tidak ada&quot;</td><td>&quot;Tidak ada&quot;</td><td>&quot;Ada&quot;</td><td>&quot;Tidak ada&quot;</td><td>&quot;Ada&quot;</td></tr><tr><td>&quot;POLEWALI MANDA…</td><td>&quot;MAPILLI&quot;</td><td>&quot;RAPPANG BARAT&quot;</td><td>&quot;-3.352312&quot;</td><td>119.178222</td><td>1</td><td>&quot;Tidak ada&quot;</td><td>&quot;Ada&quot;</td><td>&quot;Tidak ada&quot;</td><td>&quot;Tidak ada&quot;</td><td>&quot;Ada&quot;</td><td>&quot;Tidak ada&quot;</td><td>&quot;Ada&quot;</td></tr><tr><td>&quot;POLEWALI MANDA…</td><td>&quot;MAPILLI&quot;</td><td>&quot;LANDI KANUSUAN…</td><td>&quot;-3.298269&quot;</td><td>119.180823</td><td>1</td><td>&quot;Tidak ada&quot;</td><td>&quot;Ada&quot;</td><td>&quot;Tidak ada&quot;</td><td>&quot;Tidak ada&quot;</td><td>&quot;Ada&quot;</td><td>&quot;Tidak ada&quot;</td><td>&quot;Ada&quot;</td></tr></tbody></table></div>"
      ],
      "text/plain": [
       "shape: (20, 13)\n",
       "┌────────────┬────────────┬────────────┬───────────┬───┬───────┬───────────┬───────────┬───────────┐\n",
       "│ KABUPATEN  ┆ KECAMATAN  ┆ KELURAHAN  ┆ LATITUDE  ┆ … ┆ BKR   ┆ BKL       ┆ UPPKA     ┆ PIK-R     │\n",
       "│ ---        ┆ ---        ┆ ---        ┆ ---       ┆   ┆ ---   ┆ ---       ┆ ---       ┆ ---       │\n",
       "│ str        ┆ str        ┆ str        ┆ str       ┆   ┆ str   ┆ str       ┆ str       ┆ str       │\n",
       "╞════════════╪════════════╪════════════╪═══════════╪═══╪═══════╪═══════════╪═══════════╪═══════════╡\n",
       "│ MAJENE     ┆ BANGGAE    ┆ BANGGAE    ┆ -3.535722 ┆ … ┆ Ada   ┆ Tidak ada ┆ Ada       ┆ Tidak ada │\n",
       "│ MAJENE     ┆ BANGGAE    ┆ BARU       ┆ -3.531953 ┆ … ┆ Ada   ┆ Tidak ada ┆ Ada       ┆ Tidak ada │\n",
       "│ MAJENE     ┆ BANGGAE    ┆ PANGALI    ┆ -3.533911 ┆ … ┆ Ada   ┆ Tidak ada ┆ Ada       ┆ Tidak ada │\n",
       "│            ┆            ┆ ALI        ┆           ┆   ┆       ┆           ┆           ┆           │\n",
       "│ MAJENE     ┆ BANGGAE    ┆ TOTOLI     ┆ -3.543346 ┆ … ┆ Ada   ┆ Tidak ada ┆ Ada       ┆ Tidak ada │\n",
       "│ MAJENE     ┆ BANGGAE    ┆ RANGAS     ┆ -3.567695 ┆ … ┆ Ada   ┆ Tidak ada ┆ Ada       ┆ Tidak ada │\n",
       "│ …          ┆ …          ┆ …          ┆ …         ┆ … ┆ …     ┆ …         ┆ …         ┆ …         │\n",
       "│ POLEWALI   ┆ MAPILLI    ┆ SEGERANG   ┆ -3.42646  ┆ … ┆ Tidak ┆ Ada       ┆ Tidak ada ┆ Ada       │\n",
       "│ MANDAR     ┆            ┆            ┆           ┆   ┆ ada   ┆           ┆           ┆           │\n",
       "│ POLEWALI   ┆ MAPILLI    ┆ BONRA      ┆ -3.398118 ┆ … ┆ Tidak ┆ Ada       ┆ Tidak ada ┆ Ada       │\n",
       "│ MANDAR     ┆            ┆            ┆           ┆   ┆ ada   ┆           ┆           ┆           │\n",
       "│ POLEWALI   ┆ MAPILLI    ┆ SATTOKO    ┆ -3.309308 ┆ … ┆ Tidak ┆ Ada       ┆ Tidak ada ┆ Ada       │\n",
       "│ MANDAR     ┆            ┆            ┆           ┆   ┆ ada   ┆           ┆           ┆           │\n",
       "│ POLEWALI   ┆ MAPILLI    ┆ RAPPANG    ┆ -3.352312 ┆ … ┆ Tidak ┆ Ada       ┆ Tidak ada ┆ Ada       │\n",
       "│ MANDAR     ┆            ┆ BARAT      ┆           ┆   ┆ ada   ┆           ┆           ┆           │\n",
       "│ POLEWALI   ┆ MAPILLI    ┆ LANDI      ┆ -3.298269 ┆ … ┆ Tidak ┆ Ada       ┆ Tidak ada ┆ Ada       │\n",
       "│ MANDAR     ┆            ┆ KANUSUANG  ┆           ┆   ┆ ada   ┆           ┆           ┆           │\n",
       "└────────────┴────────────┴────────────┴───────────┴───┴───────┴───────────┴───────────┴───────────┘"
      ]
     },
     "execution_count": 14,
     "metadata": {},
     "output_type": "execute_result"
    }
   ],
   "source": [
    "data_desa.filter(pl.col(\"KABUPATEN\").is_in(filter_kabupaten),\n",
    "                                        pl.col(\"KECAMATAN\").is_in(['BANGGAE', 'MAPILLI']))"
   ]
  }
 ],
 "metadata": {
  "kernelspec": {
   "display_name": "Python 3",
   "language": "python",
   "name": "python3"
  },
  "language_info": {
   "codemirror_mode": {
    "name": "ipython",
    "version": 3
   },
   "file_extension": ".py",
   "mimetype": "text/x-python",
   "name": "python",
   "nbconvert_exporter": "python",
   "pygments_lexer": "ipython3",
   "version": "3.10.12"
  }
 },
 "nbformat": 4,
 "nbformat_minor": 2
}
