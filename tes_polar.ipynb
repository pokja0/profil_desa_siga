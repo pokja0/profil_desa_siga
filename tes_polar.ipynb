{
 "cells": [
  {
   "cell_type": "code",
   "execution_count": 6,
   "metadata": {},
   "outputs": [],
   "source": [
    "import polars as pl\n",
    "import pandas as pd\n",
    "import plotly.express as px"
   ]
  },
  {
   "cell_type": "markdown",
   "metadata": {},
   "source": [
    "# Profil Poktan"
   ]
  },
  {
   "cell_type": "code",
   "execution_count": 63,
   "metadata": {},
   "outputs": [],
   "source": [
    "bkb = pl.read_excel(\"data/data_bkb.xlsx\")\n",
    "bkr = pl.read_excel(\"data/data_bkr.xlsx\")\n",
    "bkl = pl.read_excel(\"data/data_bkl.xlsx\")\n",
    "uppka = pl.read_excel(\"data/data_uppka.xlsx\")\n",
    "pikr = pl.read_excel(\"data/data_pikr.xlsx\")\n",
    "kkb = pl.read_excel(\"data/data_kkb.xlsx\")\n",
    "rdk = pl.read_excel(\"data/data_rdk.xlsx\")\n",
    "daftar_desa = pl.read_csv(\"data/data_daftar_desa.csv\")"
   ]
  },
  {
   "cell_type": "code",
   "execution_count": 7,
   "metadata": {},
   "outputs": [],
   "source": [
    "filter_kabupaten = [\"POLEWALI MANDAR\", \"POLEWALI MANDAR\"]\n",
    "filter_kecamatan = [\"MAPILLI\", \"MAPILLI\"]\n",
    "filter_desa = [\"MAPILI\", \"KURMA\"]\n",
    "filter_bulan = [\"JUNI\"]\n",
    "\n",
    "\n",
    "def filter_poktan(data, filter_kabupaten, filter_kecamatan, filter_desa, filter_bulan):\n",
    "    hasil = data.filter(\n",
    "        pl.col(\"KABUPATEN\").is_in(filter_kabupaten),\n",
    "        pl.col(\"KECAMATAN\").is_in(filter_kecamatan),\n",
    "        pl.col(\"KELURAHAN\").is_in(filter_desa),\n",
    "        pl.col(\"BULAN\").is_in(filter_bulan)\n",
    "    )\n",
    "    hasil = hasil.drop(\"BATAS\")\n",
    "\n",
    "    return hasil"
   ]
  },
  {
   "cell_type": "code",
   "execution_count": 51,
   "metadata": {},
   "outputs": [],
   "source": [
    "bkb = filter_poktan(bkb, filter_kabupaten, filter_kecamatan, filter_desa, filter_bulan)\n",
    "bkr = filter_poktan(bkr, filter_kabupaten, filter_kecamatan, filter_desa, filter_bulan)\n",
    "bkl = filter_poktan(bkl, filter_kabupaten, filter_kecamatan, filter_desa, filter_bulan)\n",
    "uppka = filter_poktan(uppka, filter_kabupaten, filter_kecamatan, filter_desa, filter_bulan)\n",
    "pikr = filter_poktan(pikr, filter_kabupaten, filter_kecamatan, filter_desa, filter_bulan)\n",
    "kkb = filter_poktan(kkb, filter_kabupaten, filter_kecamatan, filter_desa, filter_bulan)\n",
    "rdk = filter_poktan(rdk, filter_kabupaten, filter_kecamatan, filter_desa, filter_bulan)\n",
    "daftar_desa = daftar_desa.filter(\n",
    "        pl.col(\"KABUPATEN\").is_in(filter_kabupaten),\n",
    "        pl.col(\"KECAMATAN\").is_in(filter_kecamatan),\n",
    "        pl.col(\"KELURAHAN\").is_in(filter_desa)\n",
    "    )"
   ]
  },
  {
   "cell_type": "code",
   "execution_count": 55,
   "metadata": {},
   "outputs": [
    {
     "data": {
      "text/html": [
       "<div><style>\n",
       ".dataframe > thead > tr,\n",
       ".dataframe > tbody > tr {\n",
       "  text-align: right;\n",
       "  white-space: pre-wrap;\n",
       "}\n",
       "</style>\n",
       "<small>shape: (1, 8)</small><table border=\"1\" class=\"dataframe\"><thead><tr><th>Desa/Kel</th><th>Kampung KB</th><th>Rumah DataKu</th><th>BKB</th><th>BKR</th><th>BKL</th><th>UPPKA</th><th>PIK-R</th></tr><tr><td>i64</td><td>i64</td><td>i64</td><td>i64</td><td>i64</td><td>i64</td><td>i64</td><td>i64</td></tr></thead><tbody><tr><td>2</td><td>2</td><td>2</td><td>2</td><td>2</td><td>3</td><td>0</td><td>2</td></tr></tbody></table></div>"
      ],
      "text/plain": [
       "shape: (1, 8)\n",
       "┌──────────┬────────────┬──────────────┬─────┬─────┬─────┬───────┬───────┐\n",
       "│ Desa/Kel ┆ Kampung KB ┆ Rumah DataKu ┆ BKB ┆ BKR ┆ BKL ┆ UPPKA ┆ PIK-R │\n",
       "│ ---      ┆ ---        ┆ ---          ┆ --- ┆ --- ┆ --- ┆ ---   ┆ ---   │\n",
       "│ i64      ┆ i64        ┆ i64          ┆ i64 ┆ i64 ┆ i64 ┆ i64   ┆ i64   │\n",
       "╞══════════╪════════════╪══════════════╪═════╪═════╪═════╪═══════╪═══════╡\n",
       "│ 2        ┆ 2          ┆ 2            ┆ 2   ┆ 2   ┆ 3   ┆ 0     ┆ 2     │\n",
       "└──────────┴────────────┴──────────────┴─────┴─────┴─────┴───────┴───────┘"
      ]
     },
     "execution_count": 55,
     "metadata": {},
     "output_type": "execute_result"
    }
   ],
   "source": [
    "data_poktan = pl.DataFrame({\n",
    "    \"Desa/Kel\": daftar_desa.height,\n",
    "    \"Kampung KB\": kkb[\"JUMLAH_KKB\"].sum(),\n",
    "    \"Rumah DataKu\": rdk[\"JUMLAH_RDK\"].sum(),\n",
    "    \"BKB\": bkr[\"JUMLAH_BKR\"].sum(),\n",
    "    \"BKR\": bkr[\"JUMLAH_BKR\"].sum(),\n",
    "    \"BKL\": bkl[\"JUMLAH_BKL\"].sum(),\n",
    "    \"UPPKA\": uppka[\"JUMLAH_UPPKA\"].sum(),\n",
    "    \"PIK-R\": pikr[\"JUMLAH_PIKR\"].sum()\n",
    "})\n",
    "\n",
    "data_poktan"
   ]
  },
  {
   "cell_type": "code",
   "execution_count": 56,
   "metadata": {},
   "outputs": [
    {
     "name": "stderr",
     "output_type": "stream",
     "text": [
      "/tmp/ipykernel_3417/4204789583.py:1: DeprecationWarning: `DataFrame.melt` is deprecated. Use `unpivot` instead, with `index` instead of `id_vars` and `on` instead of `value_vars`\n",
      "  data_poktan.melt(value_vars=[\"Desa/Kel\", \"Kampung KB\", \"Rumah DataKu\",\n"
     ]
    },
    {
     "data": {
      "text/html": [
       "<div><style>\n",
       ".dataframe > thead > tr,\n",
       ".dataframe > tbody > tr {\n",
       "  text-align: right;\n",
       "  white-space: pre-wrap;\n",
       "}\n",
       "</style>\n",
       "<small>shape: (8, 2)</small><table border=\"1\" class=\"dataframe\"><thead><tr><th>Variable</th><th>Value</th></tr><tr><td>str</td><td>i64</td></tr></thead><tbody><tr><td>&quot;Desa/Kel&quot;</td><td>2</td></tr><tr><td>&quot;Kampung KB&quot;</td><td>2</td></tr><tr><td>&quot;Rumah DataKu&quot;</td><td>2</td></tr><tr><td>&quot;BKB&quot;</td><td>2</td></tr><tr><td>&quot;BKR&quot;</td><td>2</td></tr><tr><td>&quot;BKL&quot;</td><td>3</td></tr><tr><td>&quot;UPPKA&quot;</td><td>0</td></tr><tr><td>&quot;PIK-R&quot;</td><td>2</td></tr></tbody></table></div>"
      ],
      "text/plain": [
       "shape: (8, 2)\n",
       "┌──────────────┬───────┐\n",
       "│ Variable     ┆ Value │\n",
       "│ ---          ┆ ---   │\n",
       "│ str          ┆ i64   │\n",
       "╞══════════════╪═══════╡\n",
       "│ Desa/Kel     ┆ 2     │\n",
       "│ Kampung KB   ┆ 2     │\n",
       "│ Rumah DataKu ┆ 2     │\n",
       "│ BKB          ┆ 2     │\n",
       "│ BKR          ┆ 2     │\n",
       "│ BKL          ┆ 3     │\n",
       "│ UPPKA        ┆ 0     │\n",
       "│ PIK-R        ┆ 2     │\n",
       "└──────────────┴───────┘"
      ]
     },
     "execution_count": 56,
     "metadata": {},
     "output_type": "execute_result"
    }
   ],
   "source": [
    "data_poktan.melt(value_vars=[\"Desa/Kel\", \"Kampung KB\", \"Rumah DataKu\",\n",
    "                            \"BKB\",\t\"BKR\",\t\"BKL\",\t\"UPPKA\",\t\"PIK-R\"], \n",
    "                            variable_name=\"Variable\", value_name=\"Value\")"
   ]
  },
  {
   "cell_type": "code",
   "execution_count": 58,
   "metadata": {},
   "outputs": [
    {
     "data": {
      "text/html": [
       "<div><style>\n",
       ".dataframe > thead > tr,\n",
       ".dataframe > tbody > tr {\n",
       "  text-align: right;\n",
       "  white-space: pre-wrap;\n",
       "}\n",
       "</style>\n",
       "<small>shape: (8, 2)</small><table border=\"1\" class=\"dataframe\"><thead><tr><th>Variable</th><th>Value</th></tr><tr><td>str</td><td>i64</td></tr></thead><tbody><tr><td>&quot;Desa/Kel&quot;</td><td>2</td></tr><tr><td>&quot;Kampung KB&quot;</td><td>2</td></tr><tr><td>&quot;Rumah DataKu&quot;</td><td>2</td></tr><tr><td>&quot;BKB&quot;</td><td>2</td></tr><tr><td>&quot;BKR&quot;</td><td>2</td></tr><tr><td>&quot;BKL&quot;</td><td>3</td></tr><tr><td>&quot;UPPKA&quot;</td><td>0</td></tr><tr><td>&quot;PIK-R&quot;</td><td>2</td></tr></tbody></table></div>"
      ],
      "text/plain": [
       "shape: (8, 2)\n",
       "┌──────────────┬───────┐\n",
       "│ Variable     ┆ Value │\n",
       "│ ---          ┆ ---   │\n",
       "│ str          ┆ i64   │\n",
       "╞══════════════╪═══════╡\n",
       "│ Desa/Kel     ┆ 2     │\n",
       "│ Kampung KB   ┆ 2     │\n",
       "│ Rumah DataKu ┆ 2     │\n",
       "│ BKB          ┆ 2     │\n",
       "│ BKR          ┆ 2     │\n",
       "│ BKL          ┆ 3     │\n",
       "│ UPPKA        ┆ 0     │\n",
       "│ PIK-R        ┆ 2     │\n",
       "└──────────────┴───────┘"
      ]
     },
     "execution_count": 58,
     "metadata": {},
     "output_type": "execute_result"
    }
   ],
   "source": [
    "data_poktan.unpivot([\"Desa/Kel\", \"Kampung KB\", \"Rumah DataKu\",\n",
    "                            \"BKB\",\t\"BKR\",\t\"BKL\",\t\"UPPKA\",\t\"PIK-R\"], \n",
    "                            variable_name=\"Variable\", value_name=\"Value\")"
   ]
  },
  {
   "cell_type": "markdown",
   "metadata": {},
   "source": [
    "### KB"
   ]
  },
  {
   "cell_type": "code",
   "execution_count": 3,
   "metadata": {},
   "outputs": [],
   "source": [
    "from shiny import App, Inputs, Outputs, Session, reactive, render, ui\n",
    "\n",
    "def nilai_bulan_sebelum(bulan_terpilih):\n",
    "    daftar_bulan = [\"JANUARI\", \"FEBRUARI\", \"MARET\", \"APRIL\", \"MEI\", \"JUNI\", \"JULI\", \"AGUSTUS\", \"SEPTEMBER\", \"OKTOBER\", \"NOVEMBER\", \"DESEMBER\"]\n",
    "    index = daftar_bulan.index(bulan_terpilih)\n",
    "    if index == 0:\n",
    "        return daftar_bulan[0]  # Jika bulan terpilih adalah JANUARI, nilai_bulan_sebelum juga JANUARI\n",
    "    else:\n",
    "        return daftar_bulan[index - 1]"
   ]
  },
  {
   "cell_type": "code",
   "execution_count": 4,
   "metadata": {},
   "outputs": [
    {
     "data": {
      "text/html": [
       "<div><style>\n",
       ".dataframe > thead > tr,\n",
       ".dataframe > tbody > tr {\n",
       "  text-align: right;\n",
       "  white-space: pre-wrap;\n",
       "}\n",
       "</style>\n",
       "<small>shape: (2, 17)</small><table border=\"1\" class=\"dataframe\"><thead><tr><th>__UNNAMED__0</th><th>Provinsi</th><th>Kabupaten</th><th>Kecamatan</th><th>Kelurahan/Desa</th><th>PA</th><th>Suntik</th><th>Pil</th><th>Kondom</th><th>Implan</th><th>IUD</th><th>Vasektomi</th><th>Tubektomi</th><th>MAL</th><th>KB Modern</th><th>KB Tradisional</th><th>Bulan</th></tr><tr><td>i64</td><td>str</td><td>str</td><td>str</td><td>str</td><td>i64</td><td>i64</td><td>i64</td><td>i64</td><td>i64</td><td>i64</td><td>i64</td><td>i64</td><td>i64</td><td>i64</td><td>i64</td><td>str</td></tr></thead><tbody><tr><td>3484</td><td>&quot;SULAWESI BARAT&quot;</td><td>&quot;POLEWALI MANDAR&quot;</td><td>&quot;MAPILLI&quot;</td><td>&quot;MAPILI&quot;</td><td>77</td><td>35</td><td>5</td><td>2</td><td>23</td><td>0</td><td>0</td><td>12</td><td>0</td><td>77</td><td>0</td><td>&quot;JUNI&quot;</td></tr><tr><td>3487</td><td>&quot;SULAWESI BARAT&quot;</td><td>&quot;POLEWALI MANDAR&quot;</td><td>&quot;MAPILLI&quot;</td><td>&quot;KURMA&quot;</td><td>242</td><td>141</td><td>30</td><td>0</td><td>56</td><td>1</td><td>0</td><td>14</td><td>0</td><td>242</td><td>0</td><td>&quot;JUNI&quot;</td></tr></tbody></table></div>"
      ],
      "text/plain": [
       "shape: (2, 17)\n",
       "┌────────────────┬──────────┬───────────┬───────────┬───┬─────┬───────────┬────────────────┬───────┐\n",
       "│ __UNNAMED__0   ┆ Provinsi ┆ Kabupaten ┆ Kecamatan ┆ … ┆ MAL ┆ KB Modern ┆ KB Tradisional ┆ Bulan │\n",
       "│ ---            ┆ ---      ┆ ---       ┆ ---       ┆   ┆ --- ┆ ---       ┆ ---            ┆ ---   │\n",
       "│ i64            ┆ str      ┆ str       ┆ str       ┆   ┆ i64 ┆ i64       ┆ i64            ┆ str   │\n",
       "╞════════════════╪══════════╪═══════════╪═══════════╪═══╪═════╪═══════════╪════════════════╪═══════╡\n",
       "│ 3484           ┆ SULAWESI ┆ POLEWALI  ┆ MAPILLI   ┆ … ┆ 0   ┆ 77        ┆ 0              ┆ JUNI  │\n",
       "│                ┆ BARAT    ┆ MANDAR    ┆           ┆   ┆     ┆           ┆                ┆       │\n",
       "│ 3487           ┆ SULAWESI ┆ POLEWALI  ┆ MAPILLI   ┆ … ┆ 0   ┆ 242       ┆ 0              ┆ JUNI  │\n",
       "│                ┆ BARAT    ┆ MANDAR    ┆           ┆   ┆     ┆           ┆                ┆       │\n",
       "└────────────────┴──────────┴───────────┴───────────┴───┴─────┴───────────┴────────────────┴───────┘"
      ]
     },
     "execution_count": 4,
     "metadata": {},
     "output_type": "execute_result"
    }
   ],
   "source": [
    "data_mix = pl.read_excel(\"data/data_mix_kontra.xlsx\")\n",
    "\n",
    "\n",
    "data_mix = data_mix.filter(\n",
    "    pl.col(\"Kabupaten\").is_in(filter_kabupaten),\n",
    "    pl.col(\"Kecamatan\").is_in(filter_kecamatan),\n",
    "    pl.col(\"Kelurahan/Desa\").is_in(filter_desa),\n",
    "    pl.col(\"Bulan\").is_in(filter_bulan)\n",
    ")\n",
    "data_mix\n",
    "\n"
   ]
  },
  {
   "cell_type": "code",
   "execution_count": 12,
   "metadata": {},
   "outputs": [
    {
     "data": {
      "text/plain": [
       "27.86"
      ]
     },
     "execution_count": 12,
     "metadata": {},
     "output_type": "execute_result"
    }
   ],
   "source": [
    "\n",
    "data_pus = pl.read_excel(\"data/data_pus.xlsx\")\n",
    "\n",
    "data_pus = data_pus.filter(\n",
    "    pl.col(\"Kabupaten\").is_in(filter_kabupaten),\n",
    "    pl.col(\"Kecamatan\").is_in(filter_kecamatan),\n",
    "    pl.col(\"Kelurahan_Desa\").is_in(filter_desa),\n",
    "    pl.col(\"Bulan\").is_in(filter_bulan)\n",
    ")\n",
    "unmet_need_bulan_ini = round(data_pus[\"Unmet Need\"].sum() / data_pus[\"PUS\"].sum() *100, 2)\n",
    "unmet_need_bulan_ini"
   ]
  },
  {
   "cell_type": "code",
   "execution_count": 13,
   "metadata": {},
   "outputs": [
    {
     "data": {
      "text/plain": [
       "27.96"
      ]
     },
     "execution_count": 13,
     "metadata": {},
     "output_type": "execute_result"
    }
   ],
   "source": [
    "\n",
    "data_pus_bulan_lalu = pl.read_excel(\"data/data_pus.xlsx\")\n",
    "\n",
    "data_pus_bulan_lalu = data_pus_bulan_lalu.filter(\n",
    "    pl.col(\"Kabupaten\").is_in(filter_kabupaten),\n",
    "    pl.col(\"Kecamatan\").is_in(filter_kecamatan),\n",
    "    pl.col(\"Kelurahan_Desa\").is_in(filter_desa),\n",
    "    pl.col(\"Bulan\").is_in([nilai_bulan_sebelum(\"JUNI\")])\n",
    ")\n",
    "unmet_need_bulan_lalu = round(data_pus_bulan_lalu[\"Unmet Need\"].sum() / data_pus_bulan_lalu[\"PUS\"].sum() *100, 2)\n",
    "unmet_need_bulan_lalu"
   ]
  },
  {
   "cell_type": "code",
   "execution_count": 18,
   "metadata": {},
   "outputs": [
    {
     "data": {
      "text/plain": [
       "'ab'"
      ]
     },
     "execution_count": 18,
     "metadata": {},
     "output_type": "execute_result"
    }
   ],
   "source": [
    "\"a\" + \"b\""
   ]
  },
  {
   "cell_type": "code",
   "execution_count": null,
   "metadata": {},
   "outputs": [],
   "source": [
    "if unmet_need_bulan_ini > unmet_need_bulan_lalu:\n",
    "    icon_title = \"Unmet Need\"\n",
    "    icons_fa = ui.HTML(\n",
    "        f'<svg xmlns=\"http://www.w3.org/2000/svg\" viewBox=\"0 0 384 512\"><!--!Font Awesome Free 6.5.2 by @fontawesome - https://fontawesome.com License - https://fontawesome.com/license/free Copyright 2024 Fonticons, Inc.--><path d=\"M214.6 41.4c-12.5-12.5-32.8-12.5-45.3 0l-160 160c-12.5 12.5-12.5 32.8 0 45.3s32.8 12.5 45.3 0L160 141.2V448c0 17.7 14.3 32 32 32s32-14.3 32-32V141.2L329.4 246.6c12.5 12.5 32.8 12.5 45.3 0s12.5-32.8 0-45.3l-160-160z\"/></svg>'   \n",
    "    )\n",
    "    kondisi = \"Naik\"\n",
    "elif unmet_need_bulan_ini < unmet_need_bulan_lalu:\n",
    "    icon_title = \"Unmet Need\"\n",
    "    icons_fa = ui.HTML(\n",
    "        f'<svg xmlns=\"http://www.w3.org/2000/svg\" viewBox=\"0 0 384 512\"><!--!Font Awesome Free 6.5.2 by @fontawesome - https://fontawesome.com License - https://fontawesome.com/license/free Copyright 2024 Fonticons, Inc.--><path d=\"M169.4 470.6c12.5 12.5 32.8 12.5 45.3 0l160-160c12.5-12.5 12.5-32.8 0-45.3s-32.8-12.5-45.3 0L224 370.8 224 64c0-17.7-14.3-32-32-32s-32 14.3-32 32l0 306.7L54.6 265.4c-12.5-12.5-32.8-12.5-45.3 0s-12.5 32.8 0 45.3l160 160z\"/></svg>'\n",
    "    )\n",
    "    kondisi = \"Turun\"\n",
    "else unmet_need_bulan_ini == unmet_need_bulan_lalu:\n",
    "    icon_title = \"Unmet Need\"\n",
    "    icons_fa = ui.HTML(\n",
    "        f'<svg xmlns=\"http://www.w3.org/2000/svg\" viewBox=\"0 0 512 512\"><!--!Font Awesome Free 6.5.2 by @fontawesome - https://fontawesome.com License - https://fontawesome.com/license/free Copyright 2024 Fonticons, Inc.--><path d=\"M105.1 202.6c7.7-21.8 20.2-42.3 37.8-59.8c62.5-62.5 163.8-62.5 226.3 0L386.3 160H352c-17.7 0-32 14.3-32 32s14.3 32 32 32H463.5c0 0 0 0 0 0h.4c17.7 0 32-14.3 32-32V80c0-17.7-14.3-32-32-32s-32 14.3-32 32v35.2L414.4 97.6c-87.5-87.5-229.3-87.5-316.8 0C73.2 122 55.6 150.7 44.8 181.4c-5.9 16.7 2.9 34.9 19.5 40.8s34.9-2.9 40.8-19.5zM39 289.3c-5 1.5-9.8 4.2-13.7 8.2c-4 4-6.7 8.8-8.1 14c-.3 1.2-.6 2.5-.8 3.8c-.3 1.7-.4 3.4-.4 5.1V432c0 17.7 14.3 32 32 32s32-14.3 32-32V396.9l17.6 17.5 0 0c87.5 87.4 229.3 87.4 316.7 0c24.4-24.4 42.1-53.1 52.9-83.7c5.9-16.7-2.9-34.9-19.5-40.8s-34.9 2.9-40.8 19.5c-7.7 21.8-20.2 42.3-37.8 59.8c-62.5 62.5-163.8 62.5-226.3 0l-.1-.1L125.6 352H160c17.7 0 32-14.3 32-32s-14.3-32-32-32H48.4c-1.6 0-3.2 .1-4.8 .3s-3.1 .5-4.6 1z\"/></svg>'\n",
    "    )\n",
    "    kondisi = \"Sama\""
   ]
  },
  {
   "cell_type": "code",
   "execution_count": 3,
   "metadata": {},
   "outputs": [
    {
     "data": {
      "text/html": [
       "<div><style>\n",
       ".dataframe > thead > tr,\n",
       ".dataframe > tbody > tr {\n",
       "  text-align: right;\n",
       "  white-space: pre-wrap;\n",
       "}\n",
       "</style>\n",
       "<small>shape: (3, 4)</small><table border=\"1\" class=\"dataframe\"><thead><tr><th>Bulan</th><th>PUS</th><th>Unmet Need</th><th>Unmet Need(%)</th></tr><tr><td>str</td><td>i64</td><td>i64</td><td>f64</td></tr></thead><tbody><tr><td>&quot;MARET&quot;</td><td>775</td><td>234</td><td>30.19</td></tr><tr><td>&quot;JANUARI&quot;</td><td>778</td><td>236</td><td>30.33</td></tr><tr><td>&quot;FEBRUARI&quot;</td><td>775</td><td>235</td><td>30.32</td></tr></tbody></table></div>"
      ],
      "text/plain": [
       "shape: (3, 4)\n",
       "┌──────────┬─────┬────────────┬───────────────┐\n",
       "│ Bulan    ┆ PUS ┆ Unmet Need ┆ Unmet Need(%) │\n",
       "│ ---      ┆ --- ┆ ---        ┆ ---           │\n",
       "│ str      ┆ i64 ┆ i64        ┆ f64           │\n",
       "╞══════════╪═════╪════════════╪═══════════════╡\n",
       "│ MARET    ┆ 775 ┆ 234        ┆ 30.19         │\n",
       "│ JANUARI  ┆ 778 ┆ 236        ┆ 30.33         │\n",
       "│ FEBRUARI ┆ 775 ┆ 235        ┆ 30.32         │\n",
       "└──────────┴─────┴────────────┴───────────────┘"
      ]
     },
     "execution_count": 3,
     "metadata": {},
     "output_type": "execute_result"
    }
   ],
   "source": [
    "data_pus_unmet_need = pl.read_excel(\"data/data_pus.xlsx\")\n",
    "\n",
    "def bulan_hingga(bulan_terpilih):\n",
    "    daftar_bulan = [\"JANUARI\", \"FEBRUARI\", \"MARET\", \"APRIL\", \"MEI\", \"JUNI\", \"JULI\", \"AGUSTUS\", \"SEPTEMBER\", \"OKTOBER\", \"NOVEMBER\", \"DESEMBER\"]\n",
    "    index = daftar_bulan.index(bulan_terpilih)\n",
    "    return daftar_bulan[:index + 1]\n",
    "\n",
    "hingga_bulan = bulan_hingga(\"MARET\")\n",
    "\n",
    "data_pus_unmet_need = data_pus_unmet_need.filter(\n",
    "    pl.col(\"Kabupaten\").is_in(filter_kabupaten),\n",
    "    pl.col(\"Kecamatan\").is_in(filter_kecamatan),\n",
    "    pl.col(\"Kelurahan_Desa\").is_in(filter_desa),\n",
    "    pl.col(\"Bulan\").is_in(hingga_bulan)\n",
    ")\n",
    "data_pus_unmet_need = data_pus_unmet_need.group_by(\"Bulan\").agg(\n",
    "    [\n",
    "        pl.sum(\"PUS\").alias(\"PUS\"),\n",
    "        pl.sum(\"Unmet Need\").alias(\"Unmet Need\")\n",
    "    ]\n",
    ")\n",
    "\n",
    "# Buat kolom baru yang merupakan hasil pembagian 'total_nilai1' dengan 'total_nilai2'\n",
    "data_pus_unmet_need = data_pus_unmet_need.with_columns(\n",
    "    (pl.col(\"Unmet Need\") / pl.col(\"PUS\") *100 ).alias(\"Unmet Need(%)\")\n",
    ")\n",
    "\n",
    "data_pus_unmet_need = data_pus_unmet_need.with_columns(\n",
    "    pl.col(\"Unmet Need(%)\").round(2)\n",
    ")\n",
    "\n",
    "# Peta urutan bulan\n",
    "bulan_urut = {\n",
    "    \"JANUARI\": 1,\n",
    "    \"FEBRUARI\": 2,\n",
    "    \"MARET\": 3,\n",
    "    \"APRIL\": 4,\n",
    "    \"MEI\": 5,\n",
    "    \"JUNI\": 6,\n",
    "    \"JULI\": 7,\n",
    "    \"AGUSTUS\": 8,\n",
    "    \"SEPTEMBER\": 9,\n",
    "    \"OKTOBER\": 10,\n",
    "    \"NOVEMBER\": 11,\n",
    "    \"DESEMBER\": 12\n",
    "}\n",
    "\n",
    "data_pus_unmet_need\n"
   ]
  },
  {
   "cell_type": "code",
   "execution_count": 25,
   "metadata": {},
   "outputs": [
    {
     "data": {
      "application/vnd.plotly.v1+json": {
       "config": {
        "displayModeBar": false,
        "plotlyServerURL": "https://plot.ly"
       },
       "data": [
        {
         "fill": "tozeroy",
         "fillcolor": "rgba(64,110,241,0.2)",
         "hoverinfo": "y",
         "hovertemplate": "variable=Unmet Need(%)<br>Bulan=%{x}<br>value=%{y}<extra></extra>",
         "legendgroup": "Unmet Need(%)",
         "line": {
          "color": "#406EF1",
          "dash": "solid",
          "width": 1
         },
         "marker": {
          "symbol": "circle"
         },
         "mode": "lines",
         "name": "Unmet Need(%)",
         "orientation": "v",
         "showlegend": true,
         "type": "scatter",
         "x": [
          "JANUARI",
          "FEBRUARI",
          "MARET"
         ],
         "xaxis": "x",
         "y": [
          30.33,
          30.32,
          30.19
         ],
         "yaxis": "y"
        }
       ],
       "layout": {
        "height": 100,
        "hovermode": "x",
        "legend": {
         "title": {
          "text": "variable"
         },
         "tracegroupgap": 0
        },
        "margin": {
         "b": 0,
         "l": 0,
         "r": 0,
         "t": 0
        },
        "paper_bgcolor": "rgba(0,0,0,0)",
        "plot_bgcolor": "rgba(0,0,0,0)",
        "template": {
         "data": {
          "bar": [
           {
            "error_x": {
             "color": "#2a3f5f"
            },
            "error_y": {
             "color": "#2a3f5f"
            },
            "marker": {
             "line": {
              "color": "#E5ECF6",
              "width": 0.5
             },
             "pattern": {
              "fillmode": "overlay",
              "size": 10,
              "solidity": 0.2
             }
            },
            "type": "bar"
           }
          ],
          "barpolar": [
           {
            "marker": {
             "line": {
              "color": "#E5ECF6",
              "width": 0.5
             },
             "pattern": {
              "fillmode": "overlay",
              "size": 10,
              "solidity": 0.2
             }
            },
            "type": "barpolar"
           }
          ],
          "carpet": [
           {
            "aaxis": {
             "endlinecolor": "#2a3f5f",
             "gridcolor": "white",
             "linecolor": "white",
             "minorgridcolor": "white",
             "startlinecolor": "#2a3f5f"
            },
            "baxis": {
             "endlinecolor": "#2a3f5f",
             "gridcolor": "white",
             "linecolor": "white",
             "minorgridcolor": "white",
             "startlinecolor": "#2a3f5f"
            },
            "type": "carpet"
           }
          ],
          "choropleth": [
           {
            "colorbar": {
             "outlinewidth": 0,
             "ticks": ""
            },
            "type": "choropleth"
           }
          ],
          "contour": [
           {
            "colorbar": {
             "outlinewidth": 0,
             "ticks": ""
            },
            "colorscale": [
             [
              0,
              "#0d0887"
             ],
             [
              0.1111111111111111,
              "#46039f"
             ],
             [
              0.2222222222222222,
              "#7201a8"
             ],
             [
              0.3333333333333333,
              "#9c179e"
             ],
             [
              0.4444444444444444,
              "#bd3786"
             ],
             [
              0.5555555555555556,
              "#d8576b"
             ],
             [
              0.6666666666666666,
              "#ed7953"
             ],
             [
              0.7777777777777778,
              "#fb9f3a"
             ],
             [
              0.8888888888888888,
              "#fdca26"
             ],
             [
              1,
              "#f0f921"
             ]
            ],
            "type": "contour"
           }
          ],
          "contourcarpet": [
           {
            "colorbar": {
             "outlinewidth": 0,
             "ticks": ""
            },
            "type": "contourcarpet"
           }
          ],
          "heatmap": [
           {
            "colorbar": {
             "outlinewidth": 0,
             "ticks": ""
            },
            "colorscale": [
             [
              0,
              "#0d0887"
             ],
             [
              0.1111111111111111,
              "#46039f"
             ],
             [
              0.2222222222222222,
              "#7201a8"
             ],
             [
              0.3333333333333333,
              "#9c179e"
             ],
             [
              0.4444444444444444,
              "#bd3786"
             ],
             [
              0.5555555555555556,
              "#d8576b"
             ],
             [
              0.6666666666666666,
              "#ed7953"
             ],
             [
              0.7777777777777778,
              "#fb9f3a"
             ],
             [
              0.8888888888888888,
              "#fdca26"
             ],
             [
              1,
              "#f0f921"
             ]
            ],
            "type": "heatmap"
           }
          ],
          "heatmapgl": [
           {
            "colorbar": {
             "outlinewidth": 0,
             "ticks": ""
            },
            "colorscale": [
             [
              0,
              "#0d0887"
             ],
             [
              0.1111111111111111,
              "#46039f"
             ],
             [
              0.2222222222222222,
              "#7201a8"
             ],
             [
              0.3333333333333333,
              "#9c179e"
             ],
             [
              0.4444444444444444,
              "#bd3786"
             ],
             [
              0.5555555555555556,
              "#d8576b"
             ],
             [
              0.6666666666666666,
              "#ed7953"
             ],
             [
              0.7777777777777778,
              "#fb9f3a"
             ],
             [
              0.8888888888888888,
              "#fdca26"
             ],
             [
              1,
              "#f0f921"
             ]
            ],
            "type": "heatmapgl"
           }
          ],
          "histogram": [
           {
            "marker": {
             "pattern": {
              "fillmode": "overlay",
              "size": 10,
              "solidity": 0.2
             }
            },
            "type": "histogram"
           }
          ],
          "histogram2d": [
           {
            "colorbar": {
             "outlinewidth": 0,
             "ticks": ""
            },
            "colorscale": [
             [
              0,
              "#0d0887"
             ],
             [
              0.1111111111111111,
              "#46039f"
             ],
             [
              0.2222222222222222,
              "#7201a8"
             ],
             [
              0.3333333333333333,
              "#9c179e"
             ],
             [
              0.4444444444444444,
              "#bd3786"
             ],
             [
              0.5555555555555556,
              "#d8576b"
             ],
             [
              0.6666666666666666,
              "#ed7953"
             ],
             [
              0.7777777777777778,
              "#fb9f3a"
             ],
             [
              0.8888888888888888,
              "#fdca26"
             ],
             [
              1,
              "#f0f921"
             ]
            ],
            "type": "histogram2d"
           }
          ],
          "histogram2dcontour": [
           {
            "colorbar": {
             "outlinewidth": 0,
             "ticks": ""
            },
            "colorscale": [
             [
              0,
              "#0d0887"
             ],
             [
              0.1111111111111111,
              "#46039f"
             ],
             [
              0.2222222222222222,
              "#7201a8"
             ],
             [
              0.3333333333333333,
              "#9c179e"
             ],
             [
              0.4444444444444444,
              "#bd3786"
             ],
             [
              0.5555555555555556,
              "#d8576b"
             ],
             [
              0.6666666666666666,
              "#ed7953"
             ],
             [
              0.7777777777777778,
              "#fb9f3a"
             ],
             [
              0.8888888888888888,
              "#fdca26"
             ],
             [
              1,
              "#f0f921"
             ]
            ],
            "type": "histogram2dcontour"
           }
          ],
          "mesh3d": [
           {
            "colorbar": {
             "outlinewidth": 0,
             "ticks": ""
            },
            "type": "mesh3d"
           }
          ],
          "parcoords": [
           {
            "line": {
             "colorbar": {
              "outlinewidth": 0,
              "ticks": ""
             }
            },
            "type": "parcoords"
           }
          ],
          "pie": [
           {
            "automargin": true,
            "type": "pie"
           }
          ],
          "scatter": [
           {
            "fillpattern": {
             "fillmode": "overlay",
             "size": 10,
             "solidity": 0.2
            },
            "type": "scatter"
           }
          ],
          "scatter3d": [
           {
            "line": {
             "colorbar": {
              "outlinewidth": 0,
              "ticks": ""
             }
            },
            "marker": {
             "colorbar": {
              "outlinewidth": 0,
              "ticks": ""
             }
            },
            "type": "scatter3d"
           }
          ],
          "scattercarpet": [
           {
            "marker": {
             "colorbar": {
              "outlinewidth": 0,
              "ticks": ""
             }
            },
            "type": "scattercarpet"
           }
          ],
          "scattergeo": [
           {
            "marker": {
             "colorbar": {
              "outlinewidth": 0,
              "ticks": ""
             }
            },
            "type": "scattergeo"
           }
          ],
          "scattergl": [
           {
            "marker": {
             "colorbar": {
              "outlinewidth": 0,
              "ticks": ""
             }
            },
            "type": "scattergl"
           }
          ],
          "scattermapbox": [
           {
            "marker": {
             "colorbar": {
              "outlinewidth": 0,
              "ticks": ""
             }
            },
            "type": "scattermapbox"
           }
          ],
          "scatterpolar": [
           {
            "marker": {
             "colorbar": {
              "outlinewidth": 0,
              "ticks": ""
             }
            },
            "type": "scatterpolar"
           }
          ],
          "scatterpolargl": [
           {
            "marker": {
             "colorbar": {
              "outlinewidth": 0,
              "ticks": ""
             }
            },
            "type": "scatterpolargl"
           }
          ],
          "scatterternary": [
           {
            "marker": {
             "colorbar": {
              "outlinewidth": 0,
              "ticks": ""
             }
            },
            "type": "scatterternary"
           }
          ],
          "surface": [
           {
            "colorbar": {
             "outlinewidth": 0,
             "ticks": ""
            },
            "colorscale": [
             [
              0,
              "#0d0887"
             ],
             [
              0.1111111111111111,
              "#46039f"
             ],
             [
              0.2222222222222222,
              "#7201a8"
             ],
             [
              0.3333333333333333,
              "#9c179e"
             ],
             [
              0.4444444444444444,
              "#bd3786"
             ],
             [
              0.5555555555555556,
              "#d8576b"
             ],
             [
              0.6666666666666666,
              "#ed7953"
             ],
             [
              0.7777777777777778,
              "#fb9f3a"
             ],
             [
              0.8888888888888888,
              "#fdca26"
             ],
             [
              1,
              "#f0f921"
             ]
            ],
            "type": "surface"
           }
          ],
          "table": [
           {
            "cells": {
             "fill": {
              "color": "#EBF0F8"
             },
             "line": {
              "color": "white"
             }
            },
            "header": {
             "fill": {
              "color": "#C8D4E3"
             },
             "line": {
              "color": "white"
             }
            },
            "type": "table"
           }
          ]
         },
         "layout": {
          "annotationdefaults": {
           "arrowcolor": "#2a3f5f",
           "arrowhead": 0,
           "arrowwidth": 1
          },
          "autotypenumbers": "strict",
          "coloraxis": {
           "colorbar": {
            "outlinewidth": 0,
            "ticks": ""
           }
          },
          "colorscale": {
           "diverging": [
            [
             0,
             "#8e0152"
            ],
            [
             0.1,
             "#c51b7d"
            ],
            [
             0.2,
             "#de77ae"
            ],
            [
             0.3,
             "#f1b6da"
            ],
            [
             0.4,
             "#fde0ef"
            ],
            [
             0.5,
             "#f7f7f7"
            ],
            [
             0.6,
             "#e6f5d0"
            ],
            [
             0.7,
             "#b8e186"
            ],
            [
             0.8,
             "#7fbc41"
            ],
            [
             0.9,
             "#4d9221"
            ],
            [
             1,
             "#276419"
            ]
           ],
           "sequential": [
            [
             0,
             "#0d0887"
            ],
            [
             0.1111111111111111,
             "#46039f"
            ],
            [
             0.2222222222222222,
             "#7201a8"
            ],
            [
             0.3333333333333333,
             "#9c179e"
            ],
            [
             0.4444444444444444,
             "#bd3786"
            ],
            [
             0.5555555555555556,
             "#d8576b"
            ],
            [
             0.6666666666666666,
             "#ed7953"
            ],
            [
             0.7777777777777778,
             "#fb9f3a"
            ],
            [
             0.8888888888888888,
             "#fdca26"
            ],
            [
             1,
             "#f0f921"
            ]
           ],
           "sequentialminus": [
            [
             0,
             "#0d0887"
            ],
            [
             0.1111111111111111,
             "#46039f"
            ],
            [
             0.2222222222222222,
             "#7201a8"
            ],
            [
             0.3333333333333333,
             "#9c179e"
            ],
            [
             0.4444444444444444,
             "#bd3786"
            ],
            [
             0.5555555555555556,
             "#d8576b"
            ],
            [
             0.6666666666666666,
             "#ed7953"
            ],
            [
             0.7777777777777778,
             "#fb9f3a"
            ],
            [
             0.8888888888888888,
             "#fdca26"
            ],
            [
             1,
             "#f0f921"
            ]
           ]
          },
          "colorway": [
           "#636efa",
           "#EF553B",
           "#00cc96",
           "#ab63fa",
           "#FFA15A",
           "#19d3f3",
           "#FF6692",
           "#B6E880",
           "#FF97FF",
           "#FECB52"
          ],
          "font": {
           "color": "#2a3f5f"
          },
          "geo": {
           "bgcolor": "white",
           "lakecolor": "white",
           "landcolor": "#E5ECF6",
           "showlakes": true,
           "showland": true,
           "subunitcolor": "white"
          },
          "hoverlabel": {
           "align": "left"
          },
          "hovermode": "closest",
          "mapbox": {
           "style": "light"
          },
          "paper_bgcolor": "white",
          "plot_bgcolor": "#E5ECF6",
          "polar": {
           "angularaxis": {
            "gridcolor": "white",
            "linecolor": "white",
            "ticks": ""
           },
           "bgcolor": "#E5ECF6",
           "radialaxis": {
            "gridcolor": "white",
            "linecolor": "white",
            "ticks": ""
           }
          },
          "scene": {
           "xaxis": {
            "backgroundcolor": "#E5ECF6",
            "gridcolor": "white",
            "gridwidth": 2,
            "linecolor": "white",
            "showbackground": true,
            "ticks": "",
            "zerolinecolor": "white"
           },
           "yaxis": {
            "backgroundcolor": "#E5ECF6",
            "gridcolor": "white",
            "gridwidth": 2,
            "linecolor": "white",
            "showbackground": true,
            "ticks": "",
            "zerolinecolor": "white"
           },
           "zaxis": {
            "backgroundcolor": "#E5ECF6",
            "gridcolor": "white",
            "gridwidth": 2,
            "linecolor": "white",
            "showbackground": true,
            "ticks": "",
            "zerolinecolor": "white"
           }
          },
          "shapedefaults": {
           "line": {
            "color": "#2a3f5f"
           }
          },
          "ternary": {
           "aaxis": {
            "gridcolor": "white",
            "linecolor": "white",
            "ticks": ""
           },
           "baxis": {
            "gridcolor": "white",
            "linecolor": "white",
            "ticks": ""
           },
           "bgcolor": "#E5ECF6",
           "caxis": {
            "gridcolor": "white",
            "linecolor": "white",
            "ticks": ""
           }
          },
          "title": {
           "x": 0.05
          },
          "xaxis": {
           "automargin": true,
           "gridcolor": "white",
           "linecolor": "white",
           "ticks": "",
           "title": {
            "standoff": 15
           },
           "zerolinecolor": "white",
           "zerolinewidth": 2
          },
          "yaxis": {
           "automargin": true,
           "gridcolor": "white",
           "linecolor": "white",
           "ticks": "",
           "title": {
            "standoff": 15
           },
           "zerolinecolor": "white",
           "zerolinewidth": 2
          }
         }
        },
        "xaxis": {
         "anchor": "y",
         "domain": [
          0,
          1
         ],
         "showgrid": false,
         "title": {
          "text": "Bulan"
         },
         "visible": false
        },
        "yaxis": {
         "anchor": "x",
         "domain": [
          0,
          1
         ],
         "showgrid": false,
         "title": {
          "text": "value"
         },
         "visible": false
        }
       }
      }
     },
     "metadata": {},
     "output_type": "display_data"
    }
   ],
   "source": [
    "import plotly.express as px\n",
    "# Konversi ke pandas DataFrame untuk kompatibilitas dengan Plotly\n",
    "df_pandas = data_pus_unmet_need.to_pandas()\n",
    "\n",
    "\n",
    "# Peta urutan bulan\n",
    "bulan_urut = {\n",
    "    \"JANUARI\": 1,\n",
    "    \"FEBRUARI\": 2,\n",
    "    \"MARET\": 3,\n",
    "    \"APRIL\": 4,\n",
    "    \"MEI\": 5,\n",
    "    \"JUNI\": 6,\n",
    "    \"JULI\": 7,\n",
    "    \"AGUSTUS\": 8,\n",
    "    \"SEPTEMBER\": 9,\n",
    "    \"OKTOBER\": 10,\n",
    "    \"NOVEMBER\": 11,\n",
    "    \"DESEMBER\": 12\n",
    "}\n",
    "\n",
    "# Tambahkan kolom urutan bulan di pandas DataFrame\n",
    "df_pandas['Bulan_urut'] = df_pandas['Bulan'].map(bulan_urut)\n",
    "\n",
    "# Urutkan DataFrame berdasarkan urutan bulan\n",
    "df_pandas = df_pandas.sort_values(by='Bulan_urut')\n",
    "\n",
    "# Buang kolom urutan bulan setelah pengurutan\n",
    "df_pandas = df_pandas.drop(columns=['Bulan_urut'])\n",
    "\n",
    "\n",
    "# Buat line chart menggunakan Plotly\n",
    "fig = px.line(df_pandas, x=\"Bulan\", y=[\"Unmet Need(%)\"])\n",
    "fig.update_traces(\n",
    "    line_color=\"#406EF1\",\n",
    "    line_width=1,\n",
    "    fill=\"tozeroy\",\n",
    "    fillcolor=\"rgba(64,110,241,0.2)\",\n",
    "    hoverinfo=\"y\",\n",
    ")\n",
    "fig.update_xaxes(visible=False, showgrid=False)\n",
    "fig.update_yaxes(visible=False, showgrid=False)\n",
    "fig.update_layout(\n",
    "    height=100,\n",
    "    hovermode=\"x\",\n",
    "    margin=dict(t=0, r=0, l=0, b=0),\n",
    "    plot_bgcolor=\"rgba(0,0,0,0)\",\n",
    "    paper_bgcolor=\"rgba(0,0,0,0)\",\n",
    ")\n",
    "\n",
    "# Tampilkan chart\n",
    "fig.show(config = {'displayModeBar': False})\n",
    "#fig.show(config={'displayModeBar':False})"
   ]
  },
  {
   "cell_type": "code",
   "execution_count": 31,
   "metadata": {},
   "outputs": [
    {
     "data": {
      "text/plain": [
       "'JULI'"
      ]
     },
     "execution_count": 31,
     "metadata": {},
     "output_type": "execute_result"
    }
   ],
   "source": [
    "daftar_bulan = [\"JANUARI\", \"FEBRUARI\", \"MARET\", \"APRIL\", \"MEI\", \"JUNI\", \"JULI\", \"AGUSTUS\", \"SEPTEMBER\", \"OKTOBER\", \"NOVEMBER\", \"DESEMBER\"]\n",
    "daftar_bulan[6]"
   ]
  },
  {
   "cell_type": "code",
   "execution_count": 41,
   "metadata": {},
   "outputs": [
    {
     "data": {
      "text/plain": [
       "0"
      ]
     },
     "execution_count": 41,
     "metadata": {},
     "output_type": "execute_result"
    }
   ],
   "source": [
    "data_tenakes = pl.read_excel(\"data/data_faskes_siga.xlsx\")\n",
    "data_tenakes = data_tenakes.filter(\n",
    "    pl.col(\"Kabupaten\").is_in(filter_kabupaten),\n",
    "    pl.col(\"Kecamatan\").is_in(filter_kecamatan),\n",
    "    pl.col(\"Kelurahan/Desa\").is_in(filter_desa),\n",
    "    pl.col(\"BULAN\").is_in(filter_bulan)\n",
    ")\n",
    "jumlah_tenakes = data_tenakes.height\n",
    "\n",
    "if jumlah_tenakes <= 0:\n",
    "    jumlah_tenakes = 0\n",
    "else:\n",
    "    jumlah_tenakes = jumlah_tenakes\n",
    "\n",
    "jumlah_tenakes\n",
    "\n"
   ]
  },
  {
   "cell_type": "code",
   "execution_count": 44,
   "metadata": {},
   "outputs": [
    {
     "data": {
      "text/html": [
       "<div><style>\n",
       ".dataframe > thead > tr,\n",
       ".dataframe > tbody > tr {\n",
       "  text-align: right;\n",
       "  white-space: pre-wrap;\n",
       "}\n",
       "</style>\n",
       "<small>shape: (3, 16)</small><table border=\"1\" class=\"dataframe\"><thead><tr><th>__UNNAMED__0</th><th>Provinsi</th><th>Kabupaten</th><th>Kecamatan</th><th>Kelurahan/Desa</th><th>Nama Faskes</th><th>No. Registrasi</th><th>Nama Bidan</th><th>NIK Bidan</th><th>Alamat</th><th>No HP</th><th>Profesi</th><th>Pelatihan</th><th>Status Update</th><th>BULAN</th><th>BATAS</th></tr><tr><td>i64</td><td>str</td><td>str</td><td>str</td><td>str</td><td>str</td><td>str</td><td>str</td><td>str</td><td>str</td><td>str</td><td>str</td><td>str</td><td>str</td><td>str</td><td>null</td></tr></thead><tbody><tr><td>1524</td><td>&quot;SULAWESI BARAT&quot;</td><td>&quot;POLEWALI MANDAR&quot;</td><td>&quot;MAPILLI&quot;</td><td>&quot;MAPILI&quot;</td><td>&quot;Puskesmas Mapilli&quot;</td><td>&quot;7604028&quot;</td><td>&quot;Hernawati, A.Md. Keb&quot;</td><td>&quot;7604084609870007&quot;</td><td>&quot;MAPILLI&quot;</td><td>&quot;&quot;</td><td>&quot;Bidan&quot;</td><td>&quot;IUD/IMPLAN,R/R,Sertifikat Komp…</td><td>&quot;UPDATE&quot;</td><td>&quot;JUNI&quot;</td><td>null</td></tr><tr><td>1525</td><td>&quot;SULAWESI BARAT&quot;</td><td>&quot;POLEWALI MANDAR&quot;</td><td>&quot;MAPILLI&quot;</td><td>&quot;MAPILI&quot;</td><td>&quot;Puskesmas Mapilli&quot;</td><td>&quot;7604028&quot;</td><td>&quot;IRAWAHYUNI RASYID,S.ST&quot;</td><td>&quot;7604044505880003&quot;</td><td>&quot;PEKKABATA&quot;</td><td>&quot;&quot;</td><td>&quot;Bidan&quot;</td><td>&quot;IUD/IMPLAN,Sertifikat Kompeten…</td><td>&quot;UPDATE&quot;</td><td>&quot;JUNI&quot;</td><td>null</td></tr><tr><td>1540</td><td>&quot;SULAWESI BARAT&quot;</td><td>&quot;POLEWALI MANDAR&quot;</td><td>&quot;MAPILLI&quot;</td><td>&quot;KURMA&quot;</td><td>&quot;POSKESDES KURMA&quot;</td><td>&quot;760402810&quot;</td><td>&quot;HASNAWATI. M&quot;</td><td>&quot;7315056403790003&quot;</td><td>&quot;DUSUN PARADEANG&quot;</td><td>&quot;085394047037&quot;</td><td>&quot;Bidan&quot;</td><td>&quot;Belum Terlatih&quot;</td><td>&quot;UPDATE&quot;</td><td>&quot;JUNI&quot;</td><td>null</td></tr></tbody></table></div>"
      ],
      "text/plain": [
       "shape: (3, 16)\n",
       "┌─────────────────┬──────────┬───────────┬───────────┬───┬────────────────┬────────┬───────┬───────┐\n",
       "│ __UNNAMED__0    ┆ Provinsi ┆ Kabupaten ┆ Kecamatan ┆ … ┆ Pelatihan      ┆ Status ┆ BULAN ┆ BATAS │\n",
       "│ ---             ┆ ---      ┆ ---       ┆ ---       ┆   ┆ ---            ┆ Update ┆ ---   ┆ ---   │\n",
       "│ i64             ┆ str      ┆ str       ┆ str       ┆   ┆ str            ┆ ---    ┆ str   ┆ null  │\n",
       "│                 ┆          ┆           ┆           ┆   ┆                ┆ str    ┆       ┆       │\n",
       "╞═════════════════╪══════════╪═══════════╪═══════════╪═══╪════════════════╪════════╪═══════╪═══════╡\n",
       "│ 1524            ┆ SULAWESI ┆ POLEWALI  ┆ MAPILLI   ┆ … ┆ IUD/IMPLAN,R/R ┆ UPDATE ┆ JUNI  ┆ null  │\n",
       "│                 ┆ BARAT    ┆ MANDAR    ┆           ┆   ┆ ,Sertifikat    ┆        ┆       ┆       │\n",
       "│                 ┆          ┆           ┆           ┆   ┆ Komp…          ┆        ┆       ┆       │\n",
       "│ 1525            ┆ SULAWESI ┆ POLEWALI  ┆ MAPILLI   ┆ … ┆ IUD/IMPLAN,Ser ┆ UPDATE ┆ JUNI  ┆ null  │\n",
       "│                 ┆ BARAT    ┆ MANDAR    ┆           ┆   ┆ tifikat        ┆        ┆       ┆       │\n",
       "│                 ┆          ┆           ┆           ┆   ┆ Kompeten…      ┆        ┆       ┆       │\n",
       "│ 1540            ┆ SULAWESI ┆ POLEWALI  ┆ MAPILLI   ┆ … ┆ Belum Terlatih ┆ UPDATE ┆ JUNI  ┆ null  │\n",
       "│                 ┆ BARAT    ┆ MANDAR    ┆           ┆   ┆                ┆        ┆       ┆       │\n",
       "└─────────────────┴──────────┴───────────┴───────────┴───┴────────────────┴────────┴───────┴───────┘"
      ]
     },
     "execution_count": 44,
     "metadata": {},
     "output_type": "execute_result"
    }
   ],
   "source": [
    "data_tp_kb = pl.read_excel(\"data/data_faskes_siga.xlsx\")\n",
    "data_tp_kb = data_tp_kb.filter(\n",
    "    pl.col(\"Kabupaten\").is_in(filter_kabupaten),\n",
    "    pl.col(\"Kecamatan\").is_in(filter_kecamatan),\n",
    "    pl.col(\"Kelurahan/Desa\").is_in(filter_desa),\n",
    "    pl.col(\"BULAN\").is_in(filter_bulan)\n",
    ")\n",
    "len(data_tp_kb[\"No. Registrasi\"].unique())\n"
   ]
  },
  {
   "cell_type": "code",
   "execution_count": 35,
   "metadata": {},
   "outputs": [
    {
     "data": {
      "text/html": [
       "<div id=\"bslib_card_8ad70d\" class=\"card bslib-card bslib-mb-spacing bslib-value-box showcase-left-center html-fill-item html-fill-container\" data-bslib-card-init=\"\" data-full-screen=\"false\" style=\"color:#0B538E;background-color:#f6f8fa;--bslib-color-fg:#0B538E;--bslib-color-bg:#f6f8fa;\">\n",
       "  <div class=\"card-body bslib-gap-spacing html-fill-item html-fill-container\" style=\"margin-top:auto;margin-bottom:auto;flex:1 1 auto; padding:0;\">\n",
       "    <div class=\"value-box-grid html-fill-item\" style=\"--bslib-grid-height:auto;--bslib-grid-height-mobile:auto;---bslib-value-box-showcase-w:30%;---bslib-value-box-showcase-w-fs:1fr;---bslib-value-box-showcase-max-h:100px;---bslib-value-box-showcase-max-h-fs:67%;\">\n",
       "      <div class=\"value-box-showcase html-fill-item html-fill-container\">\n",
       "        <svg viewBox=\"0 0 384 512\" preserveAspectRatio=\"none\" aria-hidden=\"true\" role=\"img\" class=\"fa\" style=\"fill:currentColor;height:1em;width:0.75em;margin-left:auto;margin-right:0.2em;position:relative;vertical-align:-0.125em;overflow:visible;\">          <path d=\"M192 96c-26.5 0-48-21.5-48-48s21.5-48 48-48s48 21.5 48 48s-21.5 48-48 48zM120 383c-13.8-3.6-24-16.1-24-31V296.9l-4.6 7.6c-9.1 15.1-28.8 20-43.9 10.9s-20-28.8-10.9-43.9l58.3-97c15-24.9 40.3-41.5 68.7-45.6c4.1-.6 8.2-1 12.5-1h1.1 12.5H192c1.4 0 2.8 .1 4.1 .3c35.7 2.9 65.4 29.3 72.1 65l6.1 32.5c44.3 8.6 77.7 47.5 77.7 94.3v32c0 17.7-14.3 32-32 32H304 264v96c0 17.7-14.3 32-32 32s-32-14.3-32-32V384h-8-8v96c0 17.7-14.3 32-32 32s-32-14.3-32-32V383z\"></path></svg>\n",
       "      </div>\n",
       "      <div class=\"value-box-area html-fill-item html-fill-container\">\n",
       "        <div class=\"value-box-title html-fill-item html-fill-container\">\n",
       "          <span style=\"font-size:20px; font-weight: bold;\"><span>MKJP <svg aria-hidden=\"true\" role=\"img\" viewBox=\"0 0 384 512\" style=\"height:1em;width:0.75em;vertical-align:-0.125em;margin-left:auto;margin-right:auto;font-size:inherit;fill:currentColor;overflow:visible;position:relative;\"><path d=\"M214.6 41.4c-12.5-12.5-32.8-12.5-45.3 0l-160 160c-12.5 12.5-12.5 32.8 0 45.3s32.8 12.5 45.3 0L160 141.2V448c0 17.7 14.3 32 32 32s32-14.3 32-32V141.2L329.4 246.6c12.5 12.5 32.8 12.5 45.3 0s12.5-32.8 0-45.3l-160-160z\"/></svg></span></span>\n",
       "        </div>\n",
       "        <div class=\"value-box-value html-fill-item html-fill-container\">\n",
       "          <p>106</p>\n",
       "        </div>\n",
       "        Naik dari capaian MEI (98)\n",
       "      </div>\n",
       "    </div>\n",
       "  </div>\n",
       "  <bslib-tooltip placement=\"auto\"><template style=\"display:none;\">Expand</template><button class=\"bslib-full-screen-enter badge rounded-pill\" aria-expanded=\"false\" aria-controls=\"bslib_card_8ad70d\" aria-label=\"Expand card\"><svg xmlns=\"http://www.w3.org/2000/svg\" viewBox=\"0 0 24 24\" style=\"height:1em;width:1em;fill:currentColor;\" aria-hidden=\"true\" role=\"img\"><path d=\"M20 5C20 4.4 19.6 4 19 4H13C12.4 4 12 3.6 12 3C12 2.4 12.4 2 13 2H21C21.6 2 22 2.4 22 3V11C22 11.6 21.6 12 21 12C20.4 12 20 11.6 20 11V5ZM4 19C4 19.6 4.4 20 5 20H11C11.6 20 12 20.4 12 21C12 21.6 11.6 22 11 22H3C2.4 22 2 21.6 2 21V13C2 12.4 2.4 12 3 12C3.6 12 4 12.4 4 13V19Z\"/></svg></button></bslib-tooltip>\n",
       "  <script data-bslib-card-init=\"\">window.bslib.Card.initializeAllCards();</script>\n",
       "</div>"
      ],
      "text/plain": [
       "<div id=\"bslib_card_8ad70d\" class=\"card bslib-card bslib-mb-spacing bslib-value-box showcase-left-center html-fill-item html-fill-container\" data-bslib-card-init=\"\" data-full-screen=\"false\" style=\"color:#0B538E;background-color:#f6f8fa;--bslib-color-fg:#0B538E;--bslib-color-bg:#f6f8fa;\">\n",
       "  <div class=\"card-body bslib-gap-spacing html-fill-item html-fill-container\" style=\"margin-top:auto;margin-bottom:auto;flex:1 1 auto; padding:0;\">\n",
       "    <div class=\"value-box-grid html-fill-item\" style=\"--bslib-grid-height:auto;--bslib-grid-height-mobile:auto;---bslib-value-box-showcase-w:30%;---bslib-value-box-showcase-w-fs:1fr;---bslib-value-box-showcase-max-h:100px;---bslib-value-box-showcase-max-h-fs:67%;\">\n",
       "      <div class=\"value-box-showcase html-fill-item html-fill-container\">\n",
       "        <svg viewBox=\"0 0 384 512\" preserveAspectRatio=\"none\" aria-hidden=\"true\" role=\"img\" class=\"fa\" style=\"fill:currentColor;height:1em;width:0.75em;margin-left:auto;margin-right:0.2em;position:relative;vertical-align:-0.125em;overflow:visible;\">          <path d=\"M192 96c-26.5 0-48-21.5-48-48s21.5-48 48-48s48 21.5 48 48s-21.5 48-48 48zM120 383c-13.8-3.6-24-16.1-24-31V296.9l-4.6 7.6c-9.1 15.1-28.8 20-43.9 10.9s-20-28.8-10.9-43.9l58.3-97c15-24.9 40.3-41.5 68.7-45.6c4.1-.6 8.2-1 12.5-1h1.1 12.5H192c1.4 0 2.8 .1 4.1 .3c35.7 2.9 65.4 29.3 72.1 65l6.1 32.5c44.3 8.6 77.7 47.5 77.7 94.3v32c0 17.7-14.3 32-32 32H304 264v96c0 17.7-14.3 32-32 32s-32-14.3-32-32V384h-8-8v96c0 17.7-14.3 32-32 32s-32-14.3-32-32V383z\"></path></svg>\n",
       "      </div>\n",
       "      <div class=\"value-box-area html-fill-item html-fill-container\">\n",
       "        <div class=\"value-box-title html-fill-item html-fill-container\">\n",
       "          <span style=\"font-size:20px; font-weight: bold;\"><span>MKJP <svg aria-hidden=\"true\" role=\"img\" viewBox=\"0 0 384 512\" style=\"height:1em;width:0.75em;vertical-align:-0.125em;margin-left:auto;margin-right:auto;font-size:inherit;fill:currentColor;overflow:visible;position:relative;\"><path d=\"M214.6 41.4c-12.5-12.5-32.8-12.5-45.3 0l-160 160c-12.5 12.5-12.5 32.8 0 45.3s32.8 12.5 45.3 0L160 141.2V448c0 17.7 14.3 32 32 32s32-14.3 32-32V141.2L329.4 246.6c12.5 12.5 32.8 12.5 45.3 0s12.5-32.8 0-45.3l-160-160z\"/></svg></span></span>\n",
       "        </div>\n",
       "        <div class=\"value-box-value html-fill-item html-fill-container\">\n",
       "          <p>106</p>\n",
       "        </div>\n",
       "        Naik dari capaian MEI (98)\n",
       "      </div>\n",
       "    </div>\n",
       "  </div>\n",
       "  <bslib-tooltip placement=\"auto\"><template style=\"display:none;\">Expand</template><button class=\"bslib-full-screen-enter badge rounded-pill\" aria-expanded=\"false\" aria-controls=\"bslib_card_8ad70d\" aria-label=\"Expand card\"><svg xmlns=\"http://www.w3.org/2000/svg\" viewBox=\"0 0 24 24\" style=\"height:1em;width:1em;fill:currentColor;\" aria-hidden=\"true\" role=\"img\"><path d=\"M20 5C20 4.4 19.6 4 19 4H13C12.4 4 12 3.6 12 3C12 2.4 12.4 2 13 2H21C21.6 2 22 2.4 22 3V11C22 11.6 21.6 12 21 12C20.4 12 20 11.6 20 11V5ZM4 19C4 19.6 4.4 20 5 20H11C11.6 20 12 20.4 12 21C12 21.6 11.6 22 11 22H3C2.4 22 2 21.6 2 21V13C2 12.4 2.4 12 3 12C3.6 12 4 12.4 4 13V19Z\"/></svg></button></bslib-tooltip>\n",
       "  <script data-bslib-card-init=\"\">window.bslib.Card.initializeAllCards();</script>\n",
       "</div>"
      ]
     },
     "execution_count": 35,
     "metadata": {},
     "output_type": "execute_result"
    }
   ],
   "source": [
    "# filter_kabupaten = val_kab.get()\n",
    "# filter_kecamatan = val_kec.get()\n",
    "# filter_desa = val_desa.get()\n",
    "# filter_bulan = input.pilih_bulan()\n",
    "data_mkjp = pl.read_excel(\"data/data_mix_kontra.xlsx\")\n",
    "\n",
    "data_mkjp = data_mkjp.filter(\n",
    "    pl.col(\"Kabupaten\").is_in(filter_kabupaten),\n",
    "    pl.col(\"Kecamatan\").is_in(filter_kecamatan),\n",
    "    pl.col(\"Kelurahan/Desa\").is_in(filter_desa),\n",
    "    pl.col(\"Bulan\").is_in([\"JUNI\"])\n",
    ")\n",
    "mkjp_bulan_ini = data_mkjp[\"Implan\"].sum() + data_mkjp[\"IUD\"].sum() + data_mkjp[\"Vasektomi\"].sum() + data_mkjp[\"Tubektomi\"].sum()\t\n",
    "#unmet_need_bulan_ini\n",
    "\n",
    "data_mkjp_bulan_lalu = pl.read_excel(\"data/data_mix_kontra.xlsx\")\n",
    "\n",
    "data_mkjp_bulan_lalu = data_mkjp_bulan_lalu.filter(\n",
    "    pl.col(\"Kabupaten\").is_in(filter_kabupaten),\n",
    "    pl.col(\"Kecamatan\").is_in(filter_kecamatan),\n",
    "    pl.col(\"Kelurahan/Desa\").is_in(filter_desa),\n",
    "    pl.col(\"Bulan\").is_in([nilai_bulan_sebelum(\"JUNI\")])\n",
    ")\n",
    "mkjp_bulan_lalu = data_mkjp_bulan_lalu[\"Implan\"].sum() + data_mkjp_bulan_lalu[\"IUD\"].sum() + data_mkjp_bulan_lalu[\"Vasektomi\"].sum() + data_mkjp_bulan_lalu[\"Tubektomi\"].sum()\n",
    "mkjp_bulan_lalu\n",
    "\n",
    "\n",
    "if mkjp_bulan_ini > mkjp_bulan_lalu:\n",
    "    icon_title = \"MKJP\"\n",
    "    icons_fa = ui.HTML(\n",
    "        f'<svg aria-hidden=\"true\" role=\"img\" viewBox=\"0 0 384 512\" style=\"height:1em;width:0.75em;vertical-align:-0.125em;margin-left:auto;margin-right:auto;font-size:inherit;fill:currentColor;overflow:visible;position:relative;\"><path d=\"M214.6 41.4c-12.5-12.5-32.8-12.5-45.3 0l-160 160c-12.5 12.5-12.5 32.8 0 45.3s32.8 12.5 45.3 0L160 141.2V448c0 17.7 14.3 32 32 32s32-14.3 32-32V141.2L329.4 246.6c12.5 12.5 32.8 12.5 45.3 0s12.5-32.8 0-45.3l-160-160z\"/></svg>'\n",
    "        )\n",
    "    kondisi = \"Naik\"\n",
    "elif mkjp_bulan_ini < mkjp_bulan_lalu:\n",
    "    icon_title = \"MKJP\"\n",
    "    icons_fa = ui.HTML(\n",
    "        f'<svg aria-hidden=\"true\" role=\"img\" viewBox=\"0 0 384 512\" style=\"height:1em;width:0.75em;vertical-align:-0.125em;margin-left:auto;margin-right:auto;font-size:inherit;fill:currentColor;overflow:visible;position:relative;\"><path d=\"M169.4 470.6c12.5 12.5 32.8 12.5 45.3 0l160-160c12.5-12.5 12.5-32.8 0-45.3s-32.8-12.5-45.3 0L224 370.8 224 64c0-17.7-14.3-32-32-32s-32 14.3-32 32l0 306.7L54.6 265.4c-12.5-12.5-32.8-12.5-45.3 0s-12.5 32.8 0 45.3l160 160z\"/></svg>'\n",
    "        )\n",
    "    kondisi = \"Turun\"\n",
    "else:\n",
    "    icon_title = \"MKJP\"\n",
    "    icons_fa = ui.HTML(\n",
    "        f'<svg aria-hidden=\"true\" role=\"img\" viewBox=\"0 0 512 512\" style=\"height:1em;width:1em;vertical-align:-0.125em;margin-left:auto;margin-right:auto;font-size:inherit;fill:currentColor;overflow:visible;position:relative;\"><path d=\"M105.1 202.6c7.7-21.8 20.2-42.3 37.8-59.8c62.5-62.5 163.8-62.5 226.3 0L386.3 160H336c-17.7 0-32 14.3-32 32s14.3 32 32 32H463.5c0 0 0 0 0 0h.4c17.7 0 32-14.3 32-32V64c0-17.7-14.3-32-32-32s-32 14.3-32 32v51.2L414.4 97.6c-87.5-87.5-229.3-87.5-316.8 0C73.2 122 55.6 150.7 44.8 181.4c-5.9 16.7 2.9 34.9 19.5 40.8s34.9-2.9 40.8-19.5zM39 289.3c-5 1.5-9.8 4.2-13.7 8.2c-4 4-6.7 8.8-8.1 14c-.3 1.2-.6 2.5-.8 3.8c-.3 1.7-.4 3.4-.4 5.1V448c0 17.7 14.3 32 32 32s32-14.3 32-32V396.9l17.6 17.5 0 0c87.5 87.4 229.3 87.4 316.7 0c24.4-24.4 42.1-53.1 52.9-83.7c5.9-16.7-2.9-34.9-19.5-40.8s-34.9 2.9-40.8 19.5c-7.7 21.8-20.2 42.3-37.8 59.8c-62.5 62.5-163.8 62.5-226.3 0l-.1-.1L125.6 352H176c17.7 0 32-14.3 32-32s-14.3-32-32-32H48.4c-1.6 0-3.2 .1-4.8 .3s-3.1 .5-4.6 1z\"/></svg>'\n",
    "    )\n",
    "    kondisi = \"Sama\"\n",
    "\n",
    "icon_vb = ui.HTML(\n",
    "        '<svg xmlns=\"http://www.w3.org/2000/svg\" color=\"white\" viewBox=\"0 0 384 512\"><!--!Font Awesome Free 6.5.2 by @fontawesome - https://fontawesome.com License - https://fontawesome.com/license/free Copyright 2024 Fonticons, Inc.--><path d=\"M192 0a48 48 0 1 1 0 96 48 48 0 1 1 0-96zM120 383c-13.8-3.6-24-16.1-24-31V296.9l-4.6 7.6c-9.1 15.1-28.8 20-43.9 10.9s-20-28.8-10.9-43.9l58.3-97c15-24.9 40.3-41.5 68.7-45.6c4.1-.6 8.2-1 12.5-1h1.1 12.5H192c1.4 0 2.8 .1 4.1 .3c35.7 2.9 65.4 29.3 72.1 65l6.1 32.5c44.3 8.6 77.7 47.5 77.7 94.3v32c0 17.7-14.3 32-32 32H304 264v96c0 17.7-14.3 32-32 32s-32-14.3-32-32V384h-8-8v96c0 17.7-14.3 32-32 32s-32-14.3-32-32V383z\"/></svg>'\n",
    "    )\n",
    "\n",
    "#icon_title_tes = \"About tooltips\"\n",
    "# icons_fa = ui.HTML(\n",
    "#     f'<svg aria-hidden=\"true\" color=\"blue\" role=\"img\" viewBox=\"0 0 512 512\" style=\"height:1em;width:1em;vertical-align:-0.125em;margin-left:auto;margin-right:auto;font-size:inherit;fill:currentColor;overflow:visible;position:relative;\"><title>{icon_title}</title><path d=\"M256 512A256 256 0 1 0 256 0a256 256 0 1 0 0 512zM216 336h24V272H216c-13.3 0-24-10.7-24-24s10.7-24 24-24h48c13.3 0 24 10.7 24 24v88h8c13.3 0 24 10.7 24 24s-10.7 24-24 24H216c-13.3 0-24-10.7-24-24s10.7-24 24-24zm40-208a32 32 0 1 1 0 64 32 32 0 1 1 0-64z\"/></svg>'\n",
    "# )\n",
    "def fa_info_circle(icon_title: str, icons_fa):\n",
    "    # Enhanced from https://rstudio.github.io/fontawesome/ via `fontawesome::fa(&quot;info-circle&quot;, a11y = &quot;sem&quot;, title = icon_title)`\n",
    "    return ui.span(icon_title, \" \", icons_fa)\n",
    "\n",
    "judul_vb = fa_info_circle(icon_title, icons_fa)\n",
    "\n",
    "if kondisi == \"Naik\":\n",
    "    penjelasan_mkjp = \"Naik dari capaian \" + nilai_bulan_sebelum(\"JUNI\") + \" (\" + str(mkjp_bulan_lalu)  + \")\"\n",
    "elif kondisi == \"Turun\":\n",
    "        penjelasan_mkjp =\"Turun dari capaian \" + nilai_bulan_sebelum(\"JUNI\") + \" (\" + str(mkjp_bulan_lalu)  + \")\"\n",
    "else:\n",
    "    penjelasan_mkjp = \"Sama dengan capaian \" + nilai_bulan_sebelum(\"JUNI\") + \" (\" + str(mkjp_bulan_lalu)  + \")\"\n",
    "import faicons\n",
    "vb = ui.value_box(  \n",
    "    ui.span(judul_vb, style=\"font-size:20px; font-weight: bold;\"),\n",
    "    mkjp_bulan_ini,\n",
    "    penjelasan_mkjp,\n",
    "    showcase= faicons.icon_svg(\"person-pregnant\"),\n",
    "    theme=ui.ValueBoxTheme(class_=\"\", bg = \"#f6f8fa\", fg = \"#0B538E\"),\n",
    "    full_screen=True,\n",
    ")\n"
   ]
  },
  {
   "cell_type": "code",
   "execution_count": 12,
   "metadata": {},
   "outputs": [
    {
     "data": {
      "text/html": [
       "<div><style>\n",
       ".dataframe > thead > tr,\n",
       ".dataframe > tbody > tr {\n",
       "  text-align: right;\n",
       "  white-space: pre-wrap;\n",
       "}\n",
       "</style>\n",
       "<small>shape: (8, 2)</small><table border=\"1\" class=\"dataframe\"><thead><tr><th>Alokon</th><th>Total</th></tr><tr><td>str</td><td>i64</td></tr></thead><tbody><tr><td>&quot;Suntik&quot;</td><td>339</td></tr><tr><td>&quot;Pil&quot;</td><td>68</td></tr><tr><td>&quot;Kondom&quot;</td><td>4</td></tr><tr><td>&quot;Implan&quot;</td><td>150</td></tr><tr><td>&quot;IUD&quot;</td><td>2</td></tr><tr><td>&quot;Vasektomi&quot;</td><td>0</td></tr><tr><td>&quot;Tubektomi&quot;</td><td>44</td></tr><tr><td>&quot;MAL&quot;</td><td>0</td></tr></tbody></table></div>"
      ],
      "text/plain": [
       "shape: (8, 2)\n",
       "┌───────────┬───────┐\n",
       "│ Alokon    ┆ Total │\n",
       "│ ---       ┆ ---   │\n",
       "│ str       ┆ i64   │\n",
       "╞═══════════╪═══════╡\n",
       "│ Suntik    ┆ 339   │\n",
       "│ Pil       ┆ 68    │\n",
       "│ Kondom    ┆ 4     │\n",
       "│ Implan    ┆ 150   │\n",
       "│ IUD       ┆ 2     │\n",
       "│ Vasektomi ┆ 0     │\n",
       "│ Tubektomi ┆ 44    │\n",
       "│ MAL       ┆ 0     │\n",
       "└───────────┴───────┘"
      ]
     },
     "execution_count": 12,
     "metadata": {},
     "output_type": "execute_result"
    }
   ],
   "source": [
    "# filter_kabupaten = val_kab.get()\n",
    "# filter_kecamatan = val_kec.get()\n",
    "# filter_desa = val_desa.get()\n",
    "# filter_bulan = input.pilih_bulan()\n",
    "data_mkjp = pl.read_excel(\"data/data_mix_kontra.xlsx\")\n",
    "data_mkjp = data_mkjp.filter(\n",
    "    pl.col(\"Kabupaten\").is_in(filter_kabupaten),\n",
    "    pl.col(\"Kecamatan\").is_in(filter_kecamatan),\n",
    "    pl.col(\"Kelurahan/Desa\").is_in(filter_desa),\n",
    "    pl.col(\"Bulan\").is_in([\"MARET\", \"JUNI\"])\n",
    ")\n",
    "data_mkjp \n",
    "\n",
    "# total_all_years = data.select(pl.col(\"year_2019\").sum(), pl.col(\"year_2020\").sum())\n",
    "\n",
    "data_mkjp = data_mkjp.select(\n",
    "        pl.col(\"Suntik\").sum(),\n",
    "        pl.col(\"Pil\").sum(),\n",
    "        pl.col(\"Kondom\").sum(),\n",
    "        pl.col(\"Implan\").sum(),\n",
    "        pl.col(\"IUD\").sum(),\n",
    "        pl.col(\"Vasektomi\").sum(),\n",
    "        pl.col(\"Tubektomi\").sum(),\n",
    "        pl.col(\"MAL\").sum()\n",
    ")\n",
    "\n",
    "data_mkjp = data_mkjp.unpivot(on = [\"Suntik\", \"Pil\", \"Kondom\",\n",
    "                \"Implan\",\t\"IUD\",\t\"Vasektomi\",\n",
    "                \"Tubektomi\",\t\"MAL\"], \n",
    "                variable_name=\"Alokon\", value_name=\"Total\")\n",
    "data_mkjp"
   ]
  },
  {
   "cell_type": "code",
   "execution_count": 14,
   "metadata": {},
   "outputs": [
    {
     "data": {
      "application/vnd.plotly.v1+json": {
       "config": {
        "plotlyServerURL": "https://plot.ly"
       },
       "data": [
        {
         "alignmentgroup": "True",
         "hovertemplate": "Alokon=%{x}<br>Total=%{text}<extra></extra>",
         "legendgroup": "",
         "marker": {
          "color": "#0d6efd",
          "pattern": {
           "shape": ""
          }
         },
         "name": "",
         "offsetgroup": "",
         "orientation": "v",
         "showlegend": false,
         "text": [
          0,
          0,
          2,
          4,
          44,
          68,
          150,
          339
         ],
         "textposition": "auto",
         "type": "bar",
         "x": [
          "MAL",
          "Vasektomi",
          "IUD",
          "Kondom",
          "Tubektomi",
          "Pil",
          "Implan",
          "Suntik"
         ],
         "xaxis": "x",
         "y": [
          0,
          0,
          2,
          4,
          44,
          68,
          150,
          339
         ],
         "yaxis": "y"
        }
       ],
       "layout": {
        "barmode": "relative",
        "font": {
         "family": "Arial"
        },
        "hoverdistance": 30,
        "hoverlabel": {
         "bgcolor": "white",
         "font": {
          "family": "Arial"
         }
        },
        "hovermode": "closest",
        "legend": {
         "font": {
          "family": "Arial"
         },
         "tracegroupgap": 0
        },
        "margin": {
         "b": 50,
         "l": 50,
         "r": 50,
         "t": 50
        },
        "paper_bgcolor": "#f6f8fa",
        "plot_bgcolor": "#f6f8fa",
        "template": {
         "data": {
          "bar": [
           {
            "error_x": {
             "color": "#2a3f5f"
            },
            "error_y": {
             "color": "#2a3f5f"
            },
            "marker": {
             "line": {
              "color": "#E5ECF6",
              "width": 0.5
             },
             "pattern": {
              "fillmode": "overlay",
              "size": 10,
              "solidity": 0.2
             }
            },
            "type": "bar"
           }
          ],
          "barpolar": [
           {
            "marker": {
             "line": {
              "color": "#E5ECF6",
              "width": 0.5
             },
             "pattern": {
              "fillmode": "overlay",
              "size": 10,
              "solidity": 0.2
             }
            },
            "type": "barpolar"
           }
          ],
          "carpet": [
           {
            "aaxis": {
             "endlinecolor": "#2a3f5f",
             "gridcolor": "white",
             "linecolor": "white",
             "minorgridcolor": "white",
             "startlinecolor": "#2a3f5f"
            },
            "baxis": {
             "endlinecolor": "#2a3f5f",
             "gridcolor": "white",
             "linecolor": "white",
             "minorgridcolor": "white",
             "startlinecolor": "#2a3f5f"
            },
            "type": "carpet"
           }
          ],
          "choropleth": [
           {
            "colorbar": {
             "outlinewidth": 0,
             "ticks": ""
            },
            "type": "choropleth"
           }
          ],
          "contour": [
           {
            "colorbar": {
             "outlinewidth": 0,
             "ticks": ""
            },
            "colorscale": [
             [
              0,
              "#0d0887"
             ],
             [
              0.1111111111111111,
              "#46039f"
             ],
             [
              0.2222222222222222,
              "#7201a8"
             ],
             [
              0.3333333333333333,
              "#9c179e"
             ],
             [
              0.4444444444444444,
              "#bd3786"
             ],
             [
              0.5555555555555556,
              "#d8576b"
             ],
             [
              0.6666666666666666,
              "#ed7953"
             ],
             [
              0.7777777777777778,
              "#fb9f3a"
             ],
             [
              0.8888888888888888,
              "#fdca26"
             ],
             [
              1,
              "#f0f921"
             ]
            ],
            "type": "contour"
           }
          ],
          "contourcarpet": [
           {
            "colorbar": {
             "outlinewidth": 0,
             "ticks": ""
            },
            "type": "contourcarpet"
           }
          ],
          "heatmap": [
           {
            "colorbar": {
             "outlinewidth": 0,
             "ticks": ""
            },
            "colorscale": [
             [
              0,
              "#0d0887"
             ],
             [
              0.1111111111111111,
              "#46039f"
             ],
             [
              0.2222222222222222,
              "#7201a8"
             ],
             [
              0.3333333333333333,
              "#9c179e"
             ],
             [
              0.4444444444444444,
              "#bd3786"
             ],
             [
              0.5555555555555556,
              "#d8576b"
             ],
             [
              0.6666666666666666,
              "#ed7953"
             ],
             [
              0.7777777777777778,
              "#fb9f3a"
             ],
             [
              0.8888888888888888,
              "#fdca26"
             ],
             [
              1,
              "#f0f921"
             ]
            ],
            "type": "heatmap"
           }
          ],
          "heatmapgl": [
           {
            "colorbar": {
             "outlinewidth": 0,
             "ticks": ""
            },
            "colorscale": [
             [
              0,
              "#0d0887"
             ],
             [
              0.1111111111111111,
              "#46039f"
             ],
             [
              0.2222222222222222,
              "#7201a8"
             ],
             [
              0.3333333333333333,
              "#9c179e"
             ],
             [
              0.4444444444444444,
              "#bd3786"
             ],
             [
              0.5555555555555556,
              "#d8576b"
             ],
             [
              0.6666666666666666,
              "#ed7953"
             ],
             [
              0.7777777777777778,
              "#fb9f3a"
             ],
             [
              0.8888888888888888,
              "#fdca26"
             ],
             [
              1,
              "#f0f921"
             ]
            ],
            "type": "heatmapgl"
           }
          ],
          "histogram": [
           {
            "marker": {
             "pattern": {
              "fillmode": "overlay",
              "size": 10,
              "solidity": 0.2
             }
            },
            "type": "histogram"
           }
          ],
          "histogram2d": [
           {
            "colorbar": {
             "outlinewidth": 0,
             "ticks": ""
            },
            "colorscale": [
             [
              0,
              "#0d0887"
             ],
             [
              0.1111111111111111,
              "#46039f"
             ],
             [
              0.2222222222222222,
              "#7201a8"
             ],
             [
              0.3333333333333333,
              "#9c179e"
             ],
             [
              0.4444444444444444,
              "#bd3786"
             ],
             [
              0.5555555555555556,
              "#d8576b"
             ],
             [
              0.6666666666666666,
              "#ed7953"
             ],
             [
              0.7777777777777778,
              "#fb9f3a"
             ],
             [
              0.8888888888888888,
              "#fdca26"
             ],
             [
              1,
              "#f0f921"
             ]
            ],
            "type": "histogram2d"
           }
          ],
          "histogram2dcontour": [
           {
            "colorbar": {
             "outlinewidth": 0,
             "ticks": ""
            },
            "colorscale": [
             [
              0,
              "#0d0887"
             ],
             [
              0.1111111111111111,
              "#46039f"
             ],
             [
              0.2222222222222222,
              "#7201a8"
             ],
             [
              0.3333333333333333,
              "#9c179e"
             ],
             [
              0.4444444444444444,
              "#bd3786"
             ],
             [
              0.5555555555555556,
              "#d8576b"
             ],
             [
              0.6666666666666666,
              "#ed7953"
             ],
             [
              0.7777777777777778,
              "#fb9f3a"
             ],
             [
              0.8888888888888888,
              "#fdca26"
             ],
             [
              1,
              "#f0f921"
             ]
            ],
            "type": "histogram2dcontour"
           }
          ],
          "mesh3d": [
           {
            "colorbar": {
             "outlinewidth": 0,
             "ticks": ""
            },
            "type": "mesh3d"
           }
          ],
          "parcoords": [
           {
            "line": {
             "colorbar": {
              "outlinewidth": 0,
              "ticks": ""
             }
            },
            "type": "parcoords"
           }
          ],
          "pie": [
           {
            "automargin": true,
            "type": "pie"
           }
          ],
          "scatter": [
           {
            "fillpattern": {
             "fillmode": "overlay",
             "size": 10,
             "solidity": 0.2
            },
            "type": "scatter"
           }
          ],
          "scatter3d": [
           {
            "line": {
             "colorbar": {
              "outlinewidth": 0,
              "ticks": ""
             }
            },
            "marker": {
             "colorbar": {
              "outlinewidth": 0,
              "ticks": ""
             }
            },
            "type": "scatter3d"
           }
          ],
          "scattercarpet": [
           {
            "marker": {
             "colorbar": {
              "outlinewidth": 0,
              "ticks": ""
             }
            },
            "type": "scattercarpet"
           }
          ],
          "scattergeo": [
           {
            "marker": {
             "colorbar": {
              "outlinewidth": 0,
              "ticks": ""
             }
            },
            "type": "scattergeo"
           }
          ],
          "scattergl": [
           {
            "marker": {
             "colorbar": {
              "outlinewidth": 0,
              "ticks": ""
             }
            },
            "type": "scattergl"
           }
          ],
          "scattermapbox": [
           {
            "marker": {
             "colorbar": {
              "outlinewidth": 0,
              "ticks": ""
             }
            },
            "type": "scattermapbox"
           }
          ],
          "scatterpolar": [
           {
            "marker": {
             "colorbar": {
              "outlinewidth": 0,
              "ticks": ""
             }
            },
            "type": "scatterpolar"
           }
          ],
          "scatterpolargl": [
           {
            "marker": {
             "colorbar": {
              "outlinewidth": 0,
              "ticks": ""
             }
            },
            "type": "scatterpolargl"
           }
          ],
          "scatterternary": [
           {
            "marker": {
             "colorbar": {
              "outlinewidth": 0,
              "ticks": ""
             }
            },
            "type": "scatterternary"
           }
          ],
          "surface": [
           {
            "colorbar": {
             "outlinewidth": 0,
             "ticks": ""
            },
            "colorscale": [
             [
              0,
              "#0d0887"
             ],
             [
              0.1111111111111111,
              "#46039f"
             ],
             [
              0.2222222222222222,
              "#7201a8"
             ],
             [
              0.3333333333333333,
              "#9c179e"
             ],
             [
              0.4444444444444444,
              "#bd3786"
             ],
             [
              0.5555555555555556,
              "#d8576b"
             ],
             [
              0.6666666666666666,
              "#ed7953"
             ],
             [
              0.7777777777777778,
              "#fb9f3a"
             ],
             [
              0.8888888888888888,
              "#fdca26"
             ],
             [
              1,
              "#f0f921"
             ]
            ],
            "type": "surface"
           }
          ],
          "table": [
           {
            "cells": {
             "fill": {
              "color": "#EBF0F8"
             },
             "line": {
              "color": "white"
             }
            },
            "header": {
             "fill": {
              "color": "#C8D4E3"
             },
             "line": {
              "color": "white"
             }
            },
            "type": "table"
           }
          ]
         },
         "layout": {
          "annotationdefaults": {
           "arrowcolor": "#2a3f5f",
           "arrowhead": 0,
           "arrowwidth": 1
          },
          "autotypenumbers": "strict",
          "coloraxis": {
           "colorbar": {
            "outlinewidth": 0,
            "ticks": ""
           }
          },
          "colorscale": {
           "diverging": [
            [
             0,
             "#8e0152"
            ],
            [
             0.1,
             "#c51b7d"
            ],
            [
             0.2,
             "#de77ae"
            ],
            [
             0.3,
             "#f1b6da"
            ],
            [
             0.4,
             "#fde0ef"
            ],
            [
             0.5,
             "#f7f7f7"
            ],
            [
             0.6,
             "#e6f5d0"
            ],
            [
             0.7,
             "#b8e186"
            ],
            [
             0.8,
             "#7fbc41"
            ],
            [
             0.9,
             "#4d9221"
            ],
            [
             1,
             "#276419"
            ]
           ],
           "sequential": [
            [
             0,
             "#0d0887"
            ],
            [
             0.1111111111111111,
             "#46039f"
            ],
            [
             0.2222222222222222,
             "#7201a8"
            ],
            [
             0.3333333333333333,
             "#9c179e"
            ],
            [
             0.4444444444444444,
             "#bd3786"
            ],
            [
             0.5555555555555556,
             "#d8576b"
            ],
            [
             0.6666666666666666,
             "#ed7953"
            ],
            [
             0.7777777777777778,
             "#fb9f3a"
            ],
            [
             0.8888888888888888,
             "#fdca26"
            ],
            [
             1,
             "#f0f921"
            ]
           ],
           "sequentialminus": [
            [
             0,
             "#0d0887"
            ],
            [
             0.1111111111111111,
             "#46039f"
            ],
            [
             0.2222222222222222,
             "#7201a8"
            ],
            [
             0.3333333333333333,
             "#9c179e"
            ],
            [
             0.4444444444444444,
             "#bd3786"
            ],
            [
             0.5555555555555556,
             "#d8576b"
            ],
            [
             0.6666666666666666,
             "#ed7953"
            ],
            [
             0.7777777777777778,
             "#fb9f3a"
            ],
            [
             0.8888888888888888,
             "#fdca26"
            ],
            [
             1,
             "#f0f921"
            ]
           ]
          },
          "colorway": [
           "#636efa",
           "#EF553B",
           "#00cc96",
           "#ab63fa",
           "#FFA15A",
           "#19d3f3",
           "#FF6692",
           "#B6E880",
           "#FF97FF",
           "#FECB52"
          ],
          "font": {
           "color": "#2a3f5f"
          },
          "geo": {
           "bgcolor": "white",
           "lakecolor": "white",
           "landcolor": "#E5ECF6",
           "showlakes": true,
           "showland": true,
           "subunitcolor": "white"
          },
          "hoverlabel": {
           "align": "left"
          },
          "hovermode": "closest",
          "mapbox": {
           "style": "light"
          },
          "paper_bgcolor": "white",
          "plot_bgcolor": "#E5ECF6",
          "polar": {
           "angularaxis": {
            "gridcolor": "white",
            "linecolor": "white",
            "ticks": ""
           },
           "bgcolor": "#E5ECF6",
           "radialaxis": {
            "gridcolor": "white",
            "linecolor": "white",
            "ticks": ""
           }
          },
          "scene": {
           "xaxis": {
            "backgroundcolor": "#E5ECF6",
            "gridcolor": "white",
            "gridwidth": 2,
            "linecolor": "white",
            "showbackground": true,
            "ticks": "",
            "zerolinecolor": "white"
           },
           "yaxis": {
            "backgroundcolor": "#E5ECF6",
            "gridcolor": "white",
            "gridwidth": 2,
            "linecolor": "white",
            "showbackground": true,
            "ticks": "",
            "zerolinecolor": "white"
           },
           "zaxis": {
            "backgroundcolor": "#E5ECF6",
            "gridcolor": "white",
            "gridwidth": 2,
            "linecolor": "white",
            "showbackground": true,
            "ticks": "",
            "zerolinecolor": "white"
           }
          },
          "shapedefaults": {
           "line": {
            "color": "#2a3f5f"
           }
          },
          "ternary": {
           "aaxis": {
            "gridcolor": "white",
            "linecolor": "white",
            "ticks": ""
           },
           "baxis": {
            "gridcolor": "white",
            "linecolor": "white",
            "ticks": ""
           },
           "bgcolor": "#E5ECF6",
           "caxis": {
            "gridcolor": "white",
            "linecolor": "white",
            "ticks": ""
           }
          },
          "title": {
           "x": 0.05
          },
          "xaxis": {
           "automargin": true,
           "gridcolor": "white",
           "linecolor": "white",
           "ticks": "",
           "title": {
            "standoff": 15
           },
           "zerolinecolor": "white",
           "zerolinewidth": 2
          },
          "yaxis": {
           "automargin": true,
           "gridcolor": "white",
           "linecolor": "white",
           "ticks": "",
           "title": {
            "standoff": 15
           },
           "zerolinecolor": "white",
           "zerolinewidth": 2
          }
         }
        },
        "title": {
         "text": "Penggunaan Metode Kontrasepsi"
        },
        "updatemenus": [
         {
          "font": {
           "family": "Arial"
          }
         }
        ],
        "xaxis": {
         "anchor": "y",
         "categoryorder": "total ascending",
         "domain": [
          0,
          1
         ],
         "title": {
          "text": "Metode Kontrasepsi"
         }
        },
        "yaxis": {
         "anchor": "x",
         "domain": [
          0,
          1
         ],
         "title": {
          "text": "Jumlah Penggunaan"
         }
        }
       }
      }
     },
     "metadata": {},
     "output_type": "display_data"
    }
   ],
   "source": [
    "import plotly.express as px\n",
    "import pandas as pd\n",
    "# Membuat DataFrame\n",
    "df = data_mkjp.to_pandas()\n",
    "\n",
    "# Mengurutkan data berdasarkan nilai terkecil ke terbesar\n",
    "df = df.sort_values(by=\"Total\")\n",
    "\n",
    "# # Membuat bar chart dengan label\n",
    "# fig = px.bar(df, x=\"Variable\", y=\"Value\", title=\"Bar Chart\", labels={\"Variable\": \"Metode Kontrasepsi\", \"Value\": \"Jumlah\"}, text=\"Value\")\n",
    "\n",
    "grafik_kontrasepsi = px.bar(\n",
    "    df,\n",
    "    x=\"Alokon\",\n",
    "    y=\"Total\",\n",
    "    text=\"Total\",\n",
    "    title=\"Penggunaan Metode Kontrasepsi\"\n",
    ")\n",
    "\n",
    "# Menambahkan pengaturan layout\n",
    "grafik_kontrasepsi.update_traces(marker_color='#0d6efd')\n",
    "grafik_kontrasepsi.update_layout(\n",
    "    xaxis_title=\"Metode Kontrasepsi\",\n",
    "    yaxis_title=\"Jumlah Penggunaan\",\n",
    "    xaxis=dict(categoryorder=\"total ascending\"),\n",
    "    font=dict(family=\"Arial\"),\n",
    "    margin=dict(l=50, r=50, b=50, t=50),\n",
    "    paper_bgcolor=\"#f6f8fa\",\n",
    "    plot_bgcolor=\"#f6f8fa\",\n",
    "    hoverlabel=dict(\n",
    "        bgcolor=\"white\",\n",
    "        font=dict(family=\"Arial\")\n",
    "    ),\n",
    "    legend=dict(font=dict(family=\"Arial\")),\n",
    "    hovermode=\"closest\",\n",
    "    hoverdistance=30,\n",
    "    updatemenus=[dict(font=dict(family=\"Arial\"))]\n",
    ")\n",
    "\n",
    "# Menampilkan grafik\n",
    "grafik_kontrasepsi.show()\n"
   ]
  },
  {
   "cell_type": "code",
   "execution_count": 8,
   "metadata": {},
   "outputs": [
    {
     "data": {
      "text/html": [
       "<div>\n",
       "<style scoped>\n",
       "    .dataframe tbody tr th:only-of-type {\n",
       "        vertical-align: middle;\n",
       "    }\n",
       "\n",
       "    .dataframe tbody tr th {\n",
       "        vertical-align: top;\n",
       "    }\n",
       "\n",
       "    .dataframe thead th {\n",
       "        text-align: right;\n",
       "    }\n",
       "</style>\n",
       "<table border=\"1\" class=\"dataframe\">\n",
       "  <thead>\n",
       "    <tr style=\"text-align: right;\">\n",
       "      <th></th>\n",
       "      <th>Pelatihan</th>\n",
       "      <th>Status Pelatihan</th>\n",
       "    </tr>\n",
       "  </thead>\n",
       "  <tbody>\n",
       "    <tr>\n",
       "      <th>0</th>\n",
       "      <td>IUD/IMPLAN,R/R,Sertifikat Kompetensi IUD/Implan</td>\n",
       "      <td>Terlatih</td>\n",
       "    </tr>\n",
       "    <tr>\n",
       "      <th>1</th>\n",
       "      <td>IUD/IMPLAN,Sertifikat Kompetensi IUD/Implan</td>\n",
       "      <td>Terlatih</td>\n",
       "    </tr>\n",
       "    <tr>\n",
       "      <th>2</th>\n",
       "      <td>Belum Terlatih</td>\n",
       "      <td>Tidak Terlatih</td>\n",
       "    </tr>\n",
       "  </tbody>\n",
       "</table>\n",
       "</div>"
      ],
      "text/plain": [
       "                                         Pelatihan Status Pelatihan\n",
       "0  IUD/IMPLAN,R/R,Sertifikat Kompetensi IUD/Implan         Terlatih\n",
       "1      IUD/IMPLAN,Sertifikat Kompetensi IUD/Implan         Terlatih\n",
       "2                                   Belum Terlatih   Tidak Terlatih"
      ]
     },
     "execution_count": 8,
     "metadata": {},
     "output_type": "execute_result"
    }
   ],
   "source": [
    "# bidang terlatih\n",
    "\n",
    "import polars as pl\n",
    "data_bidan = pl.read_excel(\"data/data_faskes_siga.xlsx\")\n",
    "\n",
    "data_bidan = data_bidan.filter(\n",
    "    pl.col(\"Kabupaten\").is_in(filter_kabupaten),\n",
    "    pl.col(\"Kecamatan\").is_in(filter_kecamatan),\n",
    "    pl.col(\"Kelurahan/Desa\").is_in(filter_desa),\n",
    "    pl.col(\"BULAN\").is_in(filter_bulan)\n",
    ")\n",
    "\n",
    "\n",
    "data_bidan = data_bidan['Pelatihan']\n",
    "\n",
    "df = pl.DataFrame(data_bidan)\n",
    "\n",
    "# Konversi Polars DataFrame ke Pandas DataFrame\n",
    "df_pd = df.to_pandas()\n",
    "\n",
    "# Menambahkan kolom \"Status Pelatihan\" berdasarkan kondisi pada kolom \"Pelatihan\"\n",
    "df_pd[\"Status Pelatihan\"] = df_pd[\"Pelatihan\"].apply(\n",
    "    lambda x: \"Terlatih\" if (\"IUD\" in x or \"IMPLAN\" in x) else \"Tidak Terlatih\"\n",
    ")\n",
    "\n",
    "df_pd"
   ]
  },
  {
   "cell_type": "code",
   "execution_count": 6,
   "metadata": {},
   "outputs": [
    {
     "data": {
      "text/plain": [
       "Status Pelatihan\n",
       "Terlatih          2\n",
       "Tidak Terlatih    1\n",
       "Name: count, dtype: int64"
      ]
     },
     "execution_count": 6,
     "metadata": {},
     "output_type": "execute_result"
    }
   ],
   "source": [
    "import plotly.express as px\n",
    "# Hitung jumlah masing-masing kategori\n",
    "count = df_pd[\"Status Pelatihan\"].value_counts()\n",
    "count"
   ]
  },
  {
   "cell_type": "code",
   "execution_count": 7,
   "metadata": {},
   "outputs": [
    {
     "data": {
      "application/vnd.plotly.v1+json": {
       "config": {
        "plotlyServerURL": "https://plot.ly"
       },
       "data": [
        {
         "customdata": [
          [
           "Terlatih"
          ],
          [
           "Tidak Terlatih"
          ]
         ],
         "domain": {
          "x": [
           0,
           1
          ],
          "y": [
           0,
           1
          ]
         },
         "hole": 0.5,
         "hovertemplate": "Status Pelatihan=%{customdata[0]}<br>value=%{value}<extra></extra>",
         "labels": [
          "Terlatih",
          "Tidak Terlatih"
         ],
         "legendgroup": "",
         "marker": {
          "colors": [
           "#0d6efd",
           "#ffc107"
          ]
         },
         "name": "",
         "showlegend": true,
         "type": "pie",
         "values": [
          2,
          1
         ]
        }
       ],
       "layout": {
        "font": {
         "family": "Arial"
        },
        "hoverdistance": 30,
        "hoverlabel": {
         "bgcolor": "white",
         "font": {
          "family": "Arial"
         }
        },
        "hovermode": "closest",
        "legend": {
         "font": {
          "family": "Arial"
         },
         "tracegroupgap": 0
        },
        "margin": {
         "b": 50,
         "l": 50,
         "r": 50,
         "t": 50
        },
        "paper_bgcolor": "#f6f8fa",
        "plot_bgcolor": "#f6f8fa",
        "template": {
         "data": {
          "bar": [
           {
            "error_x": {
             "color": "#2a3f5f"
            },
            "error_y": {
             "color": "#2a3f5f"
            },
            "marker": {
             "line": {
              "color": "#E5ECF6",
              "width": 0.5
             },
             "pattern": {
              "fillmode": "overlay",
              "size": 10,
              "solidity": 0.2
             }
            },
            "type": "bar"
           }
          ],
          "barpolar": [
           {
            "marker": {
             "line": {
              "color": "#E5ECF6",
              "width": 0.5
             },
             "pattern": {
              "fillmode": "overlay",
              "size": 10,
              "solidity": 0.2
             }
            },
            "type": "barpolar"
           }
          ],
          "carpet": [
           {
            "aaxis": {
             "endlinecolor": "#2a3f5f",
             "gridcolor": "white",
             "linecolor": "white",
             "minorgridcolor": "white",
             "startlinecolor": "#2a3f5f"
            },
            "baxis": {
             "endlinecolor": "#2a3f5f",
             "gridcolor": "white",
             "linecolor": "white",
             "minorgridcolor": "white",
             "startlinecolor": "#2a3f5f"
            },
            "type": "carpet"
           }
          ],
          "choropleth": [
           {
            "colorbar": {
             "outlinewidth": 0,
             "ticks": ""
            },
            "type": "choropleth"
           }
          ],
          "contour": [
           {
            "colorbar": {
             "outlinewidth": 0,
             "ticks": ""
            },
            "colorscale": [
             [
              0,
              "#0d0887"
             ],
             [
              0.1111111111111111,
              "#46039f"
             ],
             [
              0.2222222222222222,
              "#7201a8"
             ],
             [
              0.3333333333333333,
              "#9c179e"
             ],
             [
              0.4444444444444444,
              "#bd3786"
             ],
             [
              0.5555555555555556,
              "#d8576b"
             ],
             [
              0.6666666666666666,
              "#ed7953"
             ],
             [
              0.7777777777777778,
              "#fb9f3a"
             ],
             [
              0.8888888888888888,
              "#fdca26"
             ],
             [
              1,
              "#f0f921"
             ]
            ],
            "type": "contour"
           }
          ],
          "contourcarpet": [
           {
            "colorbar": {
             "outlinewidth": 0,
             "ticks": ""
            },
            "type": "contourcarpet"
           }
          ],
          "heatmap": [
           {
            "colorbar": {
             "outlinewidth": 0,
             "ticks": ""
            },
            "colorscale": [
             [
              0,
              "#0d0887"
             ],
             [
              0.1111111111111111,
              "#46039f"
             ],
             [
              0.2222222222222222,
              "#7201a8"
             ],
             [
              0.3333333333333333,
              "#9c179e"
             ],
             [
              0.4444444444444444,
              "#bd3786"
             ],
             [
              0.5555555555555556,
              "#d8576b"
             ],
             [
              0.6666666666666666,
              "#ed7953"
             ],
             [
              0.7777777777777778,
              "#fb9f3a"
             ],
             [
              0.8888888888888888,
              "#fdca26"
             ],
             [
              1,
              "#f0f921"
             ]
            ],
            "type": "heatmap"
           }
          ],
          "heatmapgl": [
           {
            "colorbar": {
             "outlinewidth": 0,
             "ticks": ""
            },
            "colorscale": [
             [
              0,
              "#0d0887"
             ],
             [
              0.1111111111111111,
              "#46039f"
             ],
             [
              0.2222222222222222,
              "#7201a8"
             ],
             [
              0.3333333333333333,
              "#9c179e"
             ],
             [
              0.4444444444444444,
              "#bd3786"
             ],
             [
              0.5555555555555556,
              "#d8576b"
             ],
             [
              0.6666666666666666,
              "#ed7953"
             ],
             [
              0.7777777777777778,
              "#fb9f3a"
             ],
             [
              0.8888888888888888,
              "#fdca26"
             ],
             [
              1,
              "#f0f921"
             ]
            ],
            "type": "heatmapgl"
           }
          ],
          "histogram": [
           {
            "marker": {
             "pattern": {
              "fillmode": "overlay",
              "size": 10,
              "solidity": 0.2
             }
            },
            "type": "histogram"
           }
          ],
          "histogram2d": [
           {
            "colorbar": {
             "outlinewidth": 0,
             "ticks": ""
            },
            "colorscale": [
             [
              0,
              "#0d0887"
             ],
             [
              0.1111111111111111,
              "#46039f"
             ],
             [
              0.2222222222222222,
              "#7201a8"
             ],
             [
              0.3333333333333333,
              "#9c179e"
             ],
             [
              0.4444444444444444,
              "#bd3786"
             ],
             [
              0.5555555555555556,
              "#d8576b"
             ],
             [
              0.6666666666666666,
              "#ed7953"
             ],
             [
              0.7777777777777778,
              "#fb9f3a"
             ],
             [
              0.8888888888888888,
              "#fdca26"
             ],
             [
              1,
              "#f0f921"
             ]
            ],
            "type": "histogram2d"
           }
          ],
          "histogram2dcontour": [
           {
            "colorbar": {
             "outlinewidth": 0,
             "ticks": ""
            },
            "colorscale": [
             [
              0,
              "#0d0887"
             ],
             [
              0.1111111111111111,
              "#46039f"
             ],
             [
              0.2222222222222222,
              "#7201a8"
             ],
             [
              0.3333333333333333,
              "#9c179e"
             ],
             [
              0.4444444444444444,
              "#bd3786"
             ],
             [
              0.5555555555555556,
              "#d8576b"
             ],
             [
              0.6666666666666666,
              "#ed7953"
             ],
             [
              0.7777777777777778,
              "#fb9f3a"
             ],
             [
              0.8888888888888888,
              "#fdca26"
             ],
             [
              1,
              "#f0f921"
             ]
            ],
            "type": "histogram2dcontour"
           }
          ],
          "mesh3d": [
           {
            "colorbar": {
             "outlinewidth": 0,
             "ticks": ""
            },
            "type": "mesh3d"
           }
          ],
          "parcoords": [
           {
            "line": {
             "colorbar": {
              "outlinewidth": 0,
              "ticks": ""
             }
            },
            "type": "parcoords"
           }
          ],
          "pie": [
           {
            "automargin": true,
            "type": "pie"
           }
          ],
          "scatter": [
           {
            "fillpattern": {
             "fillmode": "overlay",
             "size": 10,
             "solidity": 0.2
            },
            "type": "scatter"
           }
          ],
          "scatter3d": [
           {
            "line": {
             "colorbar": {
              "outlinewidth": 0,
              "ticks": ""
             }
            },
            "marker": {
             "colorbar": {
              "outlinewidth": 0,
              "ticks": ""
             }
            },
            "type": "scatter3d"
           }
          ],
          "scattercarpet": [
           {
            "marker": {
             "colorbar": {
              "outlinewidth": 0,
              "ticks": ""
             }
            },
            "type": "scattercarpet"
           }
          ],
          "scattergeo": [
           {
            "marker": {
             "colorbar": {
              "outlinewidth": 0,
              "ticks": ""
             }
            },
            "type": "scattergeo"
           }
          ],
          "scattergl": [
           {
            "marker": {
             "colorbar": {
              "outlinewidth": 0,
              "ticks": ""
             }
            },
            "type": "scattergl"
           }
          ],
          "scattermapbox": [
           {
            "marker": {
             "colorbar": {
              "outlinewidth": 0,
              "ticks": ""
             }
            },
            "type": "scattermapbox"
           }
          ],
          "scatterpolar": [
           {
            "marker": {
             "colorbar": {
              "outlinewidth": 0,
              "ticks": ""
             }
            },
            "type": "scatterpolar"
           }
          ],
          "scatterpolargl": [
           {
            "marker": {
             "colorbar": {
              "outlinewidth": 0,
              "ticks": ""
             }
            },
            "type": "scatterpolargl"
           }
          ],
          "scatterternary": [
           {
            "marker": {
             "colorbar": {
              "outlinewidth": 0,
              "ticks": ""
             }
            },
            "type": "scatterternary"
           }
          ],
          "surface": [
           {
            "colorbar": {
             "outlinewidth": 0,
             "ticks": ""
            },
            "colorscale": [
             [
              0,
              "#0d0887"
             ],
             [
              0.1111111111111111,
              "#46039f"
             ],
             [
              0.2222222222222222,
              "#7201a8"
             ],
             [
              0.3333333333333333,
              "#9c179e"
             ],
             [
              0.4444444444444444,
              "#bd3786"
             ],
             [
              0.5555555555555556,
              "#d8576b"
             ],
             [
              0.6666666666666666,
              "#ed7953"
             ],
             [
              0.7777777777777778,
              "#fb9f3a"
             ],
             [
              0.8888888888888888,
              "#fdca26"
             ],
             [
              1,
              "#f0f921"
             ]
            ],
            "type": "surface"
           }
          ],
          "table": [
           {
            "cells": {
             "fill": {
              "color": "#EBF0F8"
             },
             "line": {
              "color": "white"
             }
            },
            "header": {
             "fill": {
              "color": "#C8D4E3"
             },
             "line": {
              "color": "white"
             }
            },
            "type": "table"
           }
          ]
         },
         "layout": {
          "annotationdefaults": {
           "arrowcolor": "#2a3f5f",
           "arrowhead": 0,
           "arrowwidth": 1
          },
          "autotypenumbers": "strict",
          "coloraxis": {
           "colorbar": {
            "outlinewidth": 0,
            "ticks": ""
           }
          },
          "colorscale": {
           "diverging": [
            [
             0,
             "#8e0152"
            ],
            [
             0.1,
             "#c51b7d"
            ],
            [
             0.2,
             "#de77ae"
            ],
            [
             0.3,
             "#f1b6da"
            ],
            [
             0.4,
             "#fde0ef"
            ],
            [
             0.5,
             "#f7f7f7"
            ],
            [
             0.6,
             "#e6f5d0"
            ],
            [
             0.7,
             "#b8e186"
            ],
            [
             0.8,
             "#7fbc41"
            ],
            [
             0.9,
             "#4d9221"
            ],
            [
             1,
             "#276419"
            ]
           ],
           "sequential": [
            [
             0,
             "#0d0887"
            ],
            [
             0.1111111111111111,
             "#46039f"
            ],
            [
             0.2222222222222222,
             "#7201a8"
            ],
            [
             0.3333333333333333,
             "#9c179e"
            ],
            [
             0.4444444444444444,
             "#bd3786"
            ],
            [
             0.5555555555555556,
             "#d8576b"
            ],
            [
             0.6666666666666666,
             "#ed7953"
            ],
            [
             0.7777777777777778,
             "#fb9f3a"
            ],
            [
             0.8888888888888888,
             "#fdca26"
            ],
            [
             1,
             "#f0f921"
            ]
           ],
           "sequentialminus": [
            [
             0,
             "#0d0887"
            ],
            [
             0.1111111111111111,
             "#46039f"
            ],
            [
             0.2222222222222222,
             "#7201a8"
            ],
            [
             0.3333333333333333,
             "#9c179e"
            ],
            [
             0.4444444444444444,
             "#bd3786"
            ],
            [
             0.5555555555555556,
             "#d8576b"
            ],
            [
             0.6666666666666666,
             "#ed7953"
            ],
            [
             0.7777777777777778,
             "#fb9f3a"
            ],
            [
             0.8888888888888888,
             "#fdca26"
            ],
            [
             1,
             "#f0f921"
            ]
           ]
          },
          "colorway": [
           "#636efa",
           "#EF553B",
           "#00cc96",
           "#ab63fa",
           "#FFA15A",
           "#19d3f3",
           "#FF6692",
           "#B6E880",
           "#FF97FF",
           "#FECB52"
          ],
          "font": {
           "color": "#2a3f5f"
          },
          "geo": {
           "bgcolor": "white",
           "lakecolor": "white",
           "landcolor": "#E5ECF6",
           "showlakes": true,
           "showland": true,
           "subunitcolor": "white"
          },
          "hoverlabel": {
           "align": "left"
          },
          "hovermode": "closest",
          "mapbox": {
           "style": "light"
          },
          "paper_bgcolor": "white",
          "plot_bgcolor": "#E5ECF6",
          "polar": {
           "angularaxis": {
            "gridcolor": "white",
            "linecolor": "white",
            "ticks": ""
           },
           "bgcolor": "#E5ECF6",
           "radialaxis": {
            "gridcolor": "white",
            "linecolor": "white",
            "ticks": ""
           }
          },
          "scene": {
           "xaxis": {
            "backgroundcolor": "#E5ECF6",
            "gridcolor": "white",
            "gridwidth": 2,
            "linecolor": "white",
            "showbackground": true,
            "ticks": "",
            "zerolinecolor": "white"
           },
           "yaxis": {
            "backgroundcolor": "#E5ECF6",
            "gridcolor": "white",
            "gridwidth": 2,
            "linecolor": "white",
            "showbackground": true,
            "ticks": "",
            "zerolinecolor": "white"
           },
           "zaxis": {
            "backgroundcolor": "#E5ECF6",
            "gridcolor": "white",
            "gridwidth": 2,
            "linecolor": "white",
            "showbackground": true,
            "ticks": "",
            "zerolinecolor": "white"
           }
          },
          "shapedefaults": {
           "line": {
            "color": "#2a3f5f"
           }
          },
          "ternary": {
           "aaxis": {
            "gridcolor": "white",
            "linecolor": "white",
            "ticks": ""
           },
           "baxis": {
            "gridcolor": "white",
            "linecolor": "white",
            "ticks": ""
           },
           "bgcolor": "#E5ECF6",
           "caxis": {
            "gridcolor": "white",
            "linecolor": "white",
            "ticks": ""
           }
          },
          "title": {
           "x": 0.05
          },
          "xaxis": {
           "automargin": true,
           "gridcolor": "white",
           "linecolor": "white",
           "ticks": "",
           "title": {
            "standoff": 15
           },
           "zerolinecolor": "white",
           "zerolinewidth": 2
          },
          "yaxis": {
           "automargin": true,
           "gridcolor": "white",
           "linecolor": "white",
           "ticks": "",
           "title": {
            "standoff": 15
           },
           "zerolinecolor": "white",
           "zerolinewidth": 2
          }
         }
        },
        "title": {
         "text": "Persentase Status Pelatihan"
        },
        "updatemenus": [
         {
          "font": {
           "family": "Arial"
          }
         }
        ],
        "xaxis": {
         "categoryorder": "total ascending",
         "title": {
          "text": "Metode Kontrasepsi"
         }
        },
        "yaxis": {
         "title": {
          "text": "Jumlah Penggunaan"
         }
        }
       }
      }
     },
     "metadata": {},
     "output_type": "display_data"
    }
   ],
   "source": [
    "\n",
    "# Plot donut chart menggunakan Plotly Express\n",
    "donut_status_pelatihan = px.pie(count, names=count.index, values=count.values,\n",
    "             color=count.index, color_discrete_map={'Tidak Terlatih': '#ffc107', 'Terlatih': '#0d6efd'},\n",
    "             hole=0.5, title='Persentase Status Pelatihan')\n",
    "\n",
    "donut_status_pelatihan.update_layout(\n",
    "    xaxis_title=\"Metode Kontrasepsi\",\n",
    "    yaxis_title=\"Jumlah Penggunaan\",\n",
    "    xaxis=dict(categoryorder=\"total ascending\"),\n",
    "    font=dict(family=\"Arial\"),\n",
    "    margin=dict(l=50, r=50, b=50, t=50),\n",
    "    paper_bgcolor=\"#f6f8fa\",\n",
    "    plot_bgcolor=\"#f6f8fa\",\n",
    "    hoverlabel=dict(\n",
    "        bgcolor=\"white\",\n",
    "        font=dict(family=\"Arial\")\n",
    "    ),\n",
    "    legend=dict(font=dict(family=\"Arial\")),\n",
    "    hovermode=\"closest\",\n",
    "    hoverdistance=30,\n",
    "    updatemenus=[dict(font=dict(family=\"Arial\"))]\n",
    ")\n",
    "\n",
    "# Menampilkan plot\n",
    "donut_status_pelatihan.show()"
   ]
  },
  {
   "cell_type": "code",
   "execution_count": 7,
   "metadata": {},
   "outputs": [
    {
     "data": {
      "text/html": [
       "<div><style>\n",
       ".dataframe > thead > tr,\n",
       ".dataframe > tbody > tr {\n",
       "  text-align: right;\n",
       "  white-space: pre-wrap;\n",
       "}\n",
       "</style>\n",
       "<small>shape: (2, 2)</small><table border=\"1\" class=\"dataframe\"><thead><tr><th>Bulan</th><th>PA</th></tr><tr><td>str</td><td>i64</td></tr></thead><tbody><tr><td>&quot;MARET&quot;</td><td>288</td></tr><tr><td>&quot;JUNI&quot;</td><td>319</td></tr></tbody></table></div>"
      ],
      "text/plain": [
       "shape: (2, 2)\n",
       "┌───────┬─────┐\n",
       "│ Bulan ┆ PA  │\n",
       "│ ---   ┆ --- │\n",
       "│ str   ┆ i64 │\n",
       "╞═══════╪═════╡\n",
       "│ MARET ┆ 288 │\n",
       "│ JUNI  ┆ 319 │\n",
       "└───────┴─────┘"
      ]
     },
     "execution_count": 7,
     "metadata": {},
     "output_type": "execute_result"
    }
   ],
   "source": [
    "data_pa = pl.read_excel(\"data/data_mix_kontra.xlsx\")\n",
    "data_pa = data_pa.filter(\n",
    "    pl.col(\"Kabupaten\").is_in(filter_kabupaten),\n",
    "    pl.col(\"Kecamatan\").is_in(filter_kecamatan),\n",
    "    pl.col(\"Kelurahan/Desa\").is_in(filter_desa),\n",
    "    pl.col(\"Bulan\").is_in([\"MARET\", \"JUNI\"])\n",
    ")\n",
    "data_pa = data_pa.select([\"PA\", \"Bulan\"])\n",
    "data_pa = data_pa.group_by(\"Bulan\").agg([\n",
    "    pl.sum(\"PA\")\n",
    "])\n",
    "data_pa"
   ]
  },
  {
   "cell_type": "code",
   "execution_count": 13,
   "metadata": {},
   "outputs": [
    {
     "data": {
      "application/vnd.plotly.v1+json": {
       "config": {
        "plotlyServerURL": "https://plot.ly"
       },
       "data": [
        {
         "hovertemplate": "Bulan=%{x}<br>PA=%{y}<extra></extra>",
         "legendgroup": "",
         "line": {
          "color": "#636efa",
          "dash": "solid"
         },
         "marker": {
          "symbol": "circle"
         },
         "mode": "lines+markers",
         "name": "",
         "orientation": "v",
         "showlegend": false,
         "type": "scatter",
         "x": [
          "MARET",
          "JUNI"
         ],
         "xaxis": "x",
         "y": [
          288,
          319
         ],
         "yaxis": "y"
        }
       ],
       "layout": {
        "font": {
         "family": "Arial"
        },
        "hoverdistance": 30,
        "hoverlabel": {
         "bgcolor": "white",
         "font": {
          "family": "Arial"
         }
        },
        "hovermode": "closest",
        "legend": {
         "font": {
          "family": "Arial"
         },
         "tracegroupgap": 0
        },
        "margin": {
         "b": 50,
         "l": 50,
         "r": 50,
         "t": 50
        },
        "paper_bgcolor": "#f6f8fa",
        "plot_bgcolor": "#f6f8fa",
        "template": {
         "data": {
          "bar": [
           {
            "error_x": {
             "color": "#2a3f5f"
            },
            "error_y": {
             "color": "#2a3f5f"
            },
            "marker": {
             "line": {
              "color": "#E5ECF6",
              "width": 0.5
             },
             "pattern": {
              "fillmode": "overlay",
              "size": 10,
              "solidity": 0.2
             }
            },
            "type": "bar"
           }
          ],
          "barpolar": [
           {
            "marker": {
             "line": {
              "color": "#E5ECF6",
              "width": 0.5
             },
             "pattern": {
              "fillmode": "overlay",
              "size": 10,
              "solidity": 0.2
             }
            },
            "type": "barpolar"
           }
          ],
          "carpet": [
           {
            "aaxis": {
             "endlinecolor": "#2a3f5f",
             "gridcolor": "white",
             "linecolor": "white",
             "minorgridcolor": "white",
             "startlinecolor": "#2a3f5f"
            },
            "baxis": {
             "endlinecolor": "#2a3f5f",
             "gridcolor": "white",
             "linecolor": "white",
             "minorgridcolor": "white",
             "startlinecolor": "#2a3f5f"
            },
            "type": "carpet"
           }
          ],
          "choropleth": [
           {
            "colorbar": {
             "outlinewidth": 0,
             "ticks": ""
            },
            "type": "choropleth"
           }
          ],
          "contour": [
           {
            "colorbar": {
             "outlinewidth": 0,
             "ticks": ""
            },
            "colorscale": [
             [
              0,
              "#0d0887"
             ],
             [
              0.1111111111111111,
              "#46039f"
             ],
             [
              0.2222222222222222,
              "#7201a8"
             ],
             [
              0.3333333333333333,
              "#9c179e"
             ],
             [
              0.4444444444444444,
              "#bd3786"
             ],
             [
              0.5555555555555556,
              "#d8576b"
             ],
             [
              0.6666666666666666,
              "#ed7953"
             ],
             [
              0.7777777777777778,
              "#fb9f3a"
             ],
             [
              0.8888888888888888,
              "#fdca26"
             ],
             [
              1,
              "#f0f921"
             ]
            ],
            "type": "contour"
           }
          ],
          "contourcarpet": [
           {
            "colorbar": {
             "outlinewidth": 0,
             "ticks": ""
            },
            "type": "contourcarpet"
           }
          ],
          "heatmap": [
           {
            "colorbar": {
             "outlinewidth": 0,
             "ticks": ""
            },
            "colorscale": [
             [
              0,
              "#0d0887"
             ],
             [
              0.1111111111111111,
              "#46039f"
             ],
             [
              0.2222222222222222,
              "#7201a8"
             ],
             [
              0.3333333333333333,
              "#9c179e"
             ],
             [
              0.4444444444444444,
              "#bd3786"
             ],
             [
              0.5555555555555556,
              "#d8576b"
             ],
             [
              0.6666666666666666,
              "#ed7953"
             ],
             [
              0.7777777777777778,
              "#fb9f3a"
             ],
             [
              0.8888888888888888,
              "#fdca26"
             ],
             [
              1,
              "#f0f921"
             ]
            ],
            "type": "heatmap"
           }
          ],
          "heatmapgl": [
           {
            "colorbar": {
             "outlinewidth": 0,
             "ticks": ""
            },
            "colorscale": [
             [
              0,
              "#0d0887"
             ],
             [
              0.1111111111111111,
              "#46039f"
             ],
             [
              0.2222222222222222,
              "#7201a8"
             ],
             [
              0.3333333333333333,
              "#9c179e"
             ],
             [
              0.4444444444444444,
              "#bd3786"
             ],
             [
              0.5555555555555556,
              "#d8576b"
             ],
             [
              0.6666666666666666,
              "#ed7953"
             ],
             [
              0.7777777777777778,
              "#fb9f3a"
             ],
             [
              0.8888888888888888,
              "#fdca26"
             ],
             [
              1,
              "#f0f921"
             ]
            ],
            "type": "heatmapgl"
           }
          ],
          "histogram": [
           {
            "marker": {
             "pattern": {
              "fillmode": "overlay",
              "size": 10,
              "solidity": 0.2
             }
            },
            "type": "histogram"
           }
          ],
          "histogram2d": [
           {
            "colorbar": {
             "outlinewidth": 0,
             "ticks": ""
            },
            "colorscale": [
             [
              0,
              "#0d0887"
             ],
             [
              0.1111111111111111,
              "#46039f"
             ],
             [
              0.2222222222222222,
              "#7201a8"
             ],
             [
              0.3333333333333333,
              "#9c179e"
             ],
             [
              0.4444444444444444,
              "#bd3786"
             ],
             [
              0.5555555555555556,
              "#d8576b"
             ],
             [
              0.6666666666666666,
              "#ed7953"
             ],
             [
              0.7777777777777778,
              "#fb9f3a"
             ],
             [
              0.8888888888888888,
              "#fdca26"
             ],
             [
              1,
              "#f0f921"
             ]
            ],
            "type": "histogram2d"
           }
          ],
          "histogram2dcontour": [
           {
            "colorbar": {
             "outlinewidth": 0,
             "ticks": ""
            },
            "colorscale": [
             [
              0,
              "#0d0887"
             ],
             [
              0.1111111111111111,
              "#46039f"
             ],
             [
              0.2222222222222222,
              "#7201a8"
             ],
             [
              0.3333333333333333,
              "#9c179e"
             ],
             [
              0.4444444444444444,
              "#bd3786"
             ],
             [
              0.5555555555555556,
              "#d8576b"
             ],
             [
              0.6666666666666666,
              "#ed7953"
             ],
             [
              0.7777777777777778,
              "#fb9f3a"
             ],
             [
              0.8888888888888888,
              "#fdca26"
             ],
             [
              1,
              "#f0f921"
             ]
            ],
            "type": "histogram2dcontour"
           }
          ],
          "mesh3d": [
           {
            "colorbar": {
             "outlinewidth": 0,
             "ticks": ""
            },
            "type": "mesh3d"
           }
          ],
          "parcoords": [
           {
            "line": {
             "colorbar": {
              "outlinewidth": 0,
              "ticks": ""
             }
            },
            "type": "parcoords"
           }
          ],
          "pie": [
           {
            "automargin": true,
            "type": "pie"
           }
          ],
          "scatter": [
           {
            "fillpattern": {
             "fillmode": "overlay",
             "size": 10,
             "solidity": 0.2
            },
            "type": "scatter"
           }
          ],
          "scatter3d": [
           {
            "line": {
             "colorbar": {
              "outlinewidth": 0,
              "ticks": ""
             }
            },
            "marker": {
             "colorbar": {
              "outlinewidth": 0,
              "ticks": ""
             }
            },
            "type": "scatter3d"
           }
          ],
          "scattercarpet": [
           {
            "marker": {
             "colorbar": {
              "outlinewidth": 0,
              "ticks": ""
             }
            },
            "type": "scattercarpet"
           }
          ],
          "scattergeo": [
           {
            "marker": {
             "colorbar": {
              "outlinewidth": 0,
              "ticks": ""
             }
            },
            "type": "scattergeo"
           }
          ],
          "scattergl": [
           {
            "marker": {
             "colorbar": {
              "outlinewidth": 0,
              "ticks": ""
             }
            },
            "type": "scattergl"
           }
          ],
          "scattermapbox": [
           {
            "marker": {
             "colorbar": {
              "outlinewidth": 0,
              "ticks": ""
             }
            },
            "type": "scattermapbox"
           }
          ],
          "scatterpolar": [
           {
            "marker": {
             "colorbar": {
              "outlinewidth": 0,
              "ticks": ""
             }
            },
            "type": "scatterpolar"
           }
          ],
          "scatterpolargl": [
           {
            "marker": {
             "colorbar": {
              "outlinewidth": 0,
              "ticks": ""
             }
            },
            "type": "scatterpolargl"
           }
          ],
          "scatterternary": [
           {
            "marker": {
             "colorbar": {
              "outlinewidth": 0,
              "ticks": ""
             }
            },
            "type": "scatterternary"
           }
          ],
          "surface": [
           {
            "colorbar": {
             "outlinewidth": 0,
             "ticks": ""
            },
            "colorscale": [
             [
              0,
              "#0d0887"
             ],
             [
              0.1111111111111111,
              "#46039f"
             ],
             [
              0.2222222222222222,
              "#7201a8"
             ],
             [
              0.3333333333333333,
              "#9c179e"
             ],
             [
              0.4444444444444444,
              "#bd3786"
             ],
             [
              0.5555555555555556,
              "#d8576b"
             ],
             [
              0.6666666666666666,
              "#ed7953"
             ],
             [
              0.7777777777777778,
              "#fb9f3a"
             ],
             [
              0.8888888888888888,
              "#fdca26"
             ],
             [
              1,
              "#f0f921"
             ]
            ],
            "type": "surface"
           }
          ],
          "table": [
           {
            "cells": {
             "fill": {
              "color": "#EBF0F8"
             },
             "line": {
              "color": "white"
             }
            },
            "header": {
             "fill": {
              "color": "#C8D4E3"
             },
             "line": {
              "color": "white"
             }
            },
            "type": "table"
           }
          ]
         },
         "layout": {
          "annotationdefaults": {
           "arrowcolor": "#2a3f5f",
           "arrowhead": 0,
           "arrowwidth": 1
          },
          "autotypenumbers": "strict",
          "coloraxis": {
           "colorbar": {
            "outlinewidth": 0,
            "ticks": ""
           }
          },
          "colorscale": {
           "diverging": [
            [
             0,
             "#8e0152"
            ],
            [
             0.1,
             "#c51b7d"
            ],
            [
             0.2,
             "#de77ae"
            ],
            [
             0.3,
             "#f1b6da"
            ],
            [
             0.4,
             "#fde0ef"
            ],
            [
             0.5,
             "#f7f7f7"
            ],
            [
             0.6,
             "#e6f5d0"
            ],
            [
             0.7,
             "#b8e186"
            ],
            [
             0.8,
             "#7fbc41"
            ],
            [
             0.9,
             "#4d9221"
            ],
            [
             1,
             "#276419"
            ]
           ],
           "sequential": [
            [
             0,
             "#0d0887"
            ],
            [
             0.1111111111111111,
             "#46039f"
            ],
            [
             0.2222222222222222,
             "#7201a8"
            ],
            [
             0.3333333333333333,
             "#9c179e"
            ],
            [
             0.4444444444444444,
             "#bd3786"
            ],
            [
             0.5555555555555556,
             "#d8576b"
            ],
            [
             0.6666666666666666,
             "#ed7953"
            ],
            [
             0.7777777777777778,
             "#fb9f3a"
            ],
            [
             0.8888888888888888,
             "#fdca26"
            ],
            [
             1,
             "#f0f921"
            ]
           ],
           "sequentialminus": [
            [
             0,
             "#0d0887"
            ],
            [
             0.1111111111111111,
             "#46039f"
            ],
            [
             0.2222222222222222,
             "#7201a8"
            ],
            [
             0.3333333333333333,
             "#9c179e"
            ],
            [
             0.4444444444444444,
             "#bd3786"
            ],
            [
             0.5555555555555556,
             "#d8576b"
            ],
            [
             0.6666666666666666,
             "#ed7953"
            ],
            [
             0.7777777777777778,
             "#fb9f3a"
            ],
            [
             0.8888888888888888,
             "#fdca26"
            ],
            [
             1,
             "#f0f921"
            ]
           ]
          },
          "colorway": [
           "#636efa",
           "#EF553B",
           "#00cc96",
           "#ab63fa",
           "#FFA15A",
           "#19d3f3",
           "#FF6692",
           "#B6E880",
           "#FF97FF",
           "#FECB52"
          ],
          "font": {
           "color": "#2a3f5f"
          },
          "geo": {
           "bgcolor": "white",
           "lakecolor": "white",
           "landcolor": "#E5ECF6",
           "showlakes": true,
           "showland": true,
           "subunitcolor": "white"
          },
          "hoverlabel": {
           "align": "left"
          },
          "hovermode": "closest",
          "mapbox": {
           "style": "light"
          },
          "paper_bgcolor": "white",
          "plot_bgcolor": "#E5ECF6",
          "polar": {
           "angularaxis": {
            "gridcolor": "white",
            "linecolor": "white",
            "ticks": ""
           },
           "bgcolor": "#E5ECF6",
           "radialaxis": {
            "gridcolor": "white",
            "linecolor": "white",
            "ticks": ""
           }
          },
          "scene": {
           "xaxis": {
            "backgroundcolor": "#E5ECF6",
            "gridcolor": "white",
            "gridwidth": 2,
            "linecolor": "white",
            "showbackground": true,
            "ticks": "",
            "zerolinecolor": "white"
           },
           "yaxis": {
            "backgroundcolor": "#E5ECF6",
            "gridcolor": "white",
            "gridwidth": 2,
            "linecolor": "white",
            "showbackground": true,
            "ticks": "",
            "zerolinecolor": "white"
           },
           "zaxis": {
            "backgroundcolor": "#E5ECF6",
            "gridcolor": "white",
            "gridwidth": 2,
            "linecolor": "white",
            "showbackground": true,
            "ticks": "",
            "zerolinecolor": "white"
           }
          },
          "shapedefaults": {
           "line": {
            "color": "#2a3f5f"
           }
          },
          "ternary": {
           "aaxis": {
            "gridcolor": "white",
            "linecolor": "white",
            "ticks": ""
           },
           "baxis": {
            "gridcolor": "white",
            "linecolor": "white",
            "ticks": ""
           },
           "bgcolor": "#E5ECF6",
           "caxis": {
            "gridcolor": "white",
            "linecolor": "white",
            "ticks": ""
           }
          },
          "title": {
           "x": 0.05
          },
          "xaxis": {
           "automargin": true,
           "gridcolor": "white",
           "linecolor": "white",
           "ticks": "",
           "title": {
            "standoff": 15
           },
           "zerolinecolor": "white",
           "zerolinewidth": 2
          },
          "yaxis": {
           "automargin": true,
           "gridcolor": "white",
           "linecolor": "white",
           "ticks": "",
           "title": {
            "standoff": 15
           },
           "zerolinecolor": "white",
           "zerolinewidth": 2
          }
         }
        },
        "title": {
         "text": "Tren Peserta KB Aktif"
        },
        "updatemenus": [
         {
          "font": {
           "family": "Arial"
          }
         }
        ],
        "xaxis": {
         "anchor": "y",
         "categoryorder": "total ascending",
         "domain": [
          0,
          1
         ],
         "title": {
          "text": "Metode Kontrasepsi"
         }
        },
        "yaxis": {
         "anchor": "x",
         "domain": [
          0,
          1
         ],
         "title": {
          "text": "Jumlah Penggunaan"
         }
        }
       }
      }
     },
     "metadata": {},
     "output_type": "display_data"
    }
   ],
   "source": [
    "line_pa = px.line(data_pa, x=\"Bulan\", y=\"PA\", title=\"Tren Peserta KB Aktif\", markers=True)\n",
    "\n",
    "\n",
    "\n",
    "line_pa.update_layout(\n",
    "    xaxis_title=\"Metode Kontrasepsi\",\n",
    "    yaxis_title=\"Jumlah Penggunaan\",\n",
    "    xaxis=dict(categoryorder=\"total ascending\"),\n",
    "    font=dict(family=\"Arial\"),\n",
    "    margin=dict(l=50, r=50, b=50, t=50),\n",
    "    paper_bgcolor=\"#f6f8fa\",\n",
    "    plot_bgcolor=\"#f6f8fa\",\n",
    "    hoverlabel=dict(\n",
    "        bgcolor=\"white\",\n",
    "        font=dict(family=\"Arial\")\n",
    "    ),\n",
    "    legend=dict(font=dict(family=\"Arial\")),\n",
    "    hovermode=\"closest\",\n",
    "    hoverdistance=30,\n",
    "    updatemenus=[dict(font=dict(family=\"Arial\"))]\n",
    ")\n",
    "# Menampilkan chart\n",
    "line_pa.show()"
   ]
  },
  {
   "cell_type": "code",
   "execution_count": 24,
   "metadata": {},
   "outputs": [
    {
     "data": {
      "text/html": [
       "<div><style>\n",
       ".dataframe > thead > tr,\n",
       ".dataframe > tbody > tr {\n",
       "  text-align: right;\n",
       "  white-space: pre-wrap;\n",
       "}\n",
       "</style>\n",
       "<small>shape: (12, 8)</small><table border=\"1\" class=\"dataframe\"><thead><tr><th>__UNNAMED__0</th><th>Provinsi</th><th>Kabupaten</th><th>Kecamatan</th><th>Kelurahan_Desa</th><th>PUS</th><th>Unmet Need</th><th>Bulan</th></tr><tr><td>i64</td><td>str</td><td>str</td><td>str</td><td>str</td><td>i64</td><td>i64</td><td>str</td></tr></thead><tbody><tr><td>96</td><td>&quot;SULAWESI BARAT&quot;</td><td>&quot;POLEWALI MANDAR&quot;</td><td>&quot;MAPILLI&quot;</td><td>&quot;MAPILI&quot;</td><td>254</td><td>114</td><td>&quot;JANUARI&quot;</td></tr><tr><td>99</td><td>&quot;SULAWESI BARAT&quot;</td><td>&quot;POLEWALI MANDAR&quot;</td><td>&quot;MAPILLI&quot;</td><td>&quot;KURMA&quot;</td><td>524</td><td>122</td><td>&quot;JANUARI&quot;</td></tr><tr><td>789</td><td>&quot;SULAWESI BARAT&quot;</td><td>&quot;POLEWALI MANDAR&quot;</td><td>&quot;MAPILLI&quot;</td><td>&quot;MAPILI&quot;</td><td>254</td><td>114</td><td>&quot;FEBRUARI&quot;</td></tr><tr><td>792</td><td>&quot;SULAWESI BARAT&quot;</td><td>&quot;POLEWALI MANDAR&quot;</td><td>&quot;MAPILLI&quot;</td><td>&quot;KURMA&quot;</td><td>521</td><td>121</td><td>&quot;FEBRUARI&quot;</td></tr><tr><td>1503</td><td>&quot;SULAWESI BARAT&quot;</td><td>&quot;POLEWALI MANDAR&quot;</td><td>&quot;MAPILLI&quot;</td><td>&quot;MAPILI&quot;</td><td>256</td><td>114</td><td>&quot;MARET&quot;</td></tr><tr><td>&hellip;</td><td>&hellip;</td><td>&hellip;</td><td>&hellip;</td><td>&hellip;</td><td>&hellip;</td><td>&hellip;</td><td>&hellip;</td></tr><tr><td>2484</td><td>&quot;SULAWESI BARAT&quot;</td><td>&quot;POLEWALI MANDAR&quot;</td><td>&quot;MAPILLI&quot;</td><td>&quot;KURMA&quot;</td><td>527</td><td>120</td><td>&quot;APRIL&quot;</td></tr><tr><td>3009</td><td>&quot;SULAWESI BARAT&quot;</td><td>&quot;POLEWALI MANDAR&quot;</td><td>&quot;MAPILLI&quot;</td><td>&quot;MAPILI&quot;</td><td>267</td><td>114</td><td>&quot;MEI&quot;</td></tr><tr><td>3012</td><td>&quot;SULAWESI BARAT&quot;</td><td>&quot;POLEWALI MANDAR&quot;</td><td>&quot;MAPILLI&quot;</td><td>&quot;KURMA&quot;</td><td>570</td><td>120</td><td>&quot;MEI&quot;</td></tr><tr><td>3484</td><td>&quot;SULAWESI BARAT&quot;</td><td>&quot;POLEWALI MANDAR&quot;</td><td>&quot;MAPILLI&quot;</td><td>&quot;MAPILI&quot;</td><td>270</td><td>114</td><td>&quot;JUNI&quot;</td></tr><tr><td>3487</td><td>&quot;SULAWESI BARAT&quot;</td><td>&quot;POLEWALI MANDAR&quot;</td><td>&quot;MAPILLI&quot;</td><td>&quot;KURMA&quot;</td><td>570</td><td>120</td><td>&quot;JUNI&quot;</td></tr></tbody></table></div>"
      ],
      "text/plain": [
       "shape: (12, 8)\n",
       "┌────────────────┬──────────┬───────────┬───────────┬────────────────┬─────┬────────────┬──────────┐\n",
       "│ __UNNAMED__0   ┆ Provinsi ┆ Kabupaten ┆ Kecamatan ┆ Kelurahan_Desa ┆ PUS ┆ Unmet Need ┆ Bulan    │\n",
       "│ ---            ┆ ---      ┆ ---       ┆ ---       ┆ ---            ┆ --- ┆ ---        ┆ ---      │\n",
       "│ i64            ┆ str      ┆ str       ┆ str       ┆ str            ┆ i64 ┆ i64        ┆ str      │\n",
       "╞════════════════╪══════════╪═══════════╪═══════════╪════════════════╪═════╪════════════╪══════════╡\n",
       "│ 96             ┆ SULAWESI ┆ POLEWALI  ┆ MAPILLI   ┆ MAPILI         ┆ 254 ┆ 114        ┆ JANUARI  │\n",
       "│                ┆ BARAT    ┆ MANDAR    ┆           ┆                ┆     ┆            ┆          │\n",
       "│ 99             ┆ SULAWESI ┆ POLEWALI  ┆ MAPILLI   ┆ KURMA          ┆ 524 ┆ 122        ┆ JANUARI  │\n",
       "│                ┆ BARAT    ┆ MANDAR    ┆           ┆                ┆     ┆            ┆          │\n",
       "│ 789            ┆ SULAWESI ┆ POLEWALI  ┆ MAPILLI   ┆ MAPILI         ┆ 254 ┆ 114        ┆ FEBRUARI │\n",
       "│                ┆ BARAT    ┆ MANDAR    ┆           ┆                ┆     ┆            ┆          │\n",
       "│ 792            ┆ SULAWESI ┆ POLEWALI  ┆ MAPILLI   ┆ KURMA          ┆ 521 ┆ 121        ┆ FEBRUARI │\n",
       "│                ┆ BARAT    ┆ MANDAR    ┆           ┆                ┆     ┆            ┆          │\n",
       "│ 1503           ┆ SULAWESI ┆ POLEWALI  ┆ MAPILLI   ┆ MAPILI         ┆ 256 ┆ 114        ┆ MARET    │\n",
       "│                ┆ BARAT    ┆ MANDAR    ┆           ┆                ┆     ┆            ┆          │\n",
       "│ …              ┆ …        ┆ …         ┆ …         ┆ …              ┆ …   ┆ …          ┆ …        │\n",
       "│ 2484           ┆ SULAWESI ┆ POLEWALI  ┆ MAPILLI   ┆ KURMA          ┆ 527 ┆ 120        ┆ APRIL    │\n",
       "│                ┆ BARAT    ┆ MANDAR    ┆           ┆                ┆     ┆            ┆          │\n",
       "│ 3009           ┆ SULAWESI ┆ POLEWALI  ┆ MAPILLI   ┆ MAPILI         ┆ 267 ┆ 114        ┆ MEI      │\n",
       "│                ┆ BARAT    ┆ MANDAR    ┆           ┆                ┆     ┆            ┆          │\n",
       "│ 3012           ┆ SULAWESI ┆ POLEWALI  ┆ MAPILLI   ┆ KURMA          ┆ 570 ┆ 120        ┆ MEI      │\n",
       "│                ┆ BARAT    ┆ MANDAR    ┆           ┆                ┆     ┆            ┆          │\n",
       "│ 3484           ┆ SULAWESI ┆ POLEWALI  ┆ MAPILLI   ┆ MAPILI         ┆ 270 ┆ 114        ┆ JUNI     │\n",
       "│                ┆ BARAT    ┆ MANDAR    ┆           ┆                ┆     ┆            ┆          │\n",
       "│ 3487           ┆ SULAWESI ┆ POLEWALI  ┆ MAPILLI   ┆ KURMA          ┆ 570 ┆ 120        ┆ JUNI     │\n",
       "│                ┆ BARAT    ┆ MANDAR    ┆           ┆                ┆     ┆            ┆          │\n",
       "└────────────────┴──────────┴───────────┴───────────┴────────────────┴─────┴────────────┴──────────┘"
      ]
     },
     "execution_count": 24,
     "metadata": {},
     "output_type": "execute_result"
    }
   ],
   "source": [
    "data_pus = pl.read_excel(\"data/data_pus.xlsx\")\n",
    "\n",
    "hingga_bulan = bulan_hingga(\"JULI\")\n",
    "\n",
    "data_pus = data_pus.filter(\n",
    "    pl.col(\"Kabupaten\").is_in(filter_kabupaten),\n",
    "    pl.col(\"Kecamatan\").is_in(filter_kecamatan),\n",
    "    pl.col(\"Kelurahan_Desa\").is_in(filter_desa),\n",
    "    pl.col(\"Bulan\").is_in(hingga_bulan)\n",
    ")\n",
    "data_pus"
   ]
  },
  {
   "cell_type": "code",
   "execution_count": 26,
   "metadata": {},
   "outputs": [
    {
     "data": {
      "text/html": [
       "<div><style>\n",
       ".dataframe > thead > tr,\n",
       ".dataframe > tbody > tr {\n",
       "  text-align: right;\n",
       "  white-space: pre-wrap;\n",
       "}\n",
       "</style>\n",
       "<small>shape: (6, 2)</small><table border=\"1\" class=\"dataframe\"><thead><tr><th>Bulan</th><th>PUS</th></tr><tr><td>str</td><td>i64</td></tr></thead><tbody><tr><td>&quot;MARET&quot;</td><td>775</td></tr><tr><td>&quot;JANUARI&quot;</td><td>778</td></tr><tr><td>&quot;JUNI&quot;</td><td>840</td></tr><tr><td>&quot;MEI&quot;</td><td>837</td></tr><tr><td>&quot;APRIL&quot;</td><td>789</td></tr><tr><td>&quot;FEBRUARI&quot;</td><td>775</td></tr></tbody></table></div>"
      ],
      "text/plain": [
       "shape: (6, 2)\n",
       "┌──────────┬─────┐\n",
       "│ Bulan    ┆ PUS │\n",
       "│ ---      ┆ --- │\n",
       "│ str      ┆ i64 │\n",
       "╞══════════╪═════╡\n",
       "│ MARET    ┆ 775 │\n",
       "│ JANUARI  ┆ 778 │\n",
       "│ JUNI     ┆ 840 │\n",
       "│ MEI      ┆ 837 │\n",
       "│ APRIL    ┆ 789 │\n",
       "│ FEBRUARI ┆ 775 │\n",
       "└──────────┴─────┘"
      ]
     },
     "execution_count": 26,
     "metadata": {},
     "output_type": "execute_result"
    }
   ],
   "source": [
    "data_pus = data_pus.select([\"PUS\", \"Bulan\"])\n",
    "data_pus = data_pus.group_by(\"Bulan\").agg([\n",
    "    pl.sum(\"PUS\")\n",
    "])\n",
    "data_pus"
   ]
  },
  {
   "cell_type": "code",
   "execution_count": 27,
   "metadata": {},
   "outputs": [],
   "source": [
    "data_pus = data_pus.to_pandas()\n",
    "\n",
    "# Menentukan urutan bulan\n",
    "bulan_order = [\"JANUARI\", \"FEBRUARI\", \"MARET\", \"APRIL\", \"MEI\", \"JUNI\", \"JULI\", \"AGUSTUS\", \"SEPTEMBER\", \"OKTOBER\", \"NOVEMBER\", \"DESEMBER\"]\n",
    "data_pus['Bulan'] = pd.Categorical(data_pus['Bulan'], categories=bulan_order, ordered=True)\n",
    "\n",
    "# Mengurutkan DataFrame berdasarkan urutan bulan\n",
    "data_pus = data_pus.sort_values('Bulan')\n"
   ]
  },
  {
   "cell_type": "code",
   "execution_count": 28,
   "metadata": {},
   "outputs": [
    {
     "data": {
      "text/html": [
       "<div>\n",
       "<style scoped>\n",
       "    .dataframe tbody tr th:only-of-type {\n",
       "        vertical-align: middle;\n",
       "    }\n",
       "\n",
       "    .dataframe tbody tr th {\n",
       "        vertical-align: top;\n",
       "    }\n",
       "\n",
       "    .dataframe thead th {\n",
       "        text-align: right;\n",
       "    }\n",
       "</style>\n",
       "<table border=\"1\" class=\"dataframe\">\n",
       "  <thead>\n",
       "    <tr style=\"text-align: right;\">\n",
       "      <th></th>\n",
       "      <th>Bulan</th>\n",
       "      <th>PUS</th>\n",
       "    </tr>\n",
       "  </thead>\n",
       "  <tbody>\n",
       "    <tr>\n",
       "      <th>1</th>\n",
       "      <td>JANUARI</td>\n",
       "      <td>778</td>\n",
       "    </tr>\n",
       "    <tr>\n",
       "      <th>5</th>\n",
       "      <td>FEBRUARI</td>\n",
       "      <td>775</td>\n",
       "    </tr>\n",
       "    <tr>\n",
       "      <th>0</th>\n",
       "      <td>MARET</td>\n",
       "      <td>775</td>\n",
       "    </tr>\n",
       "    <tr>\n",
       "      <th>4</th>\n",
       "      <td>APRIL</td>\n",
       "      <td>789</td>\n",
       "    </tr>\n",
       "    <tr>\n",
       "      <th>3</th>\n",
       "      <td>MEI</td>\n",
       "      <td>837</td>\n",
       "    </tr>\n",
       "    <tr>\n",
       "      <th>2</th>\n",
       "      <td>JUNI</td>\n",
       "      <td>840</td>\n",
       "    </tr>\n",
       "  </tbody>\n",
       "</table>\n",
       "</div>"
      ],
      "text/plain": [
       "      Bulan  PUS\n",
       "1   JANUARI  778\n",
       "5  FEBRUARI  775\n",
       "0     MARET  775\n",
       "4     APRIL  789\n",
       "3       MEI  837\n",
       "2      JUNI  840"
      ]
     },
     "execution_count": 28,
     "metadata": {},
     "output_type": "execute_result"
    }
   ],
   "source": [
    "data_pus"
   ]
  },
  {
   "cell_type": "code",
   "execution_count": 30,
   "metadata": {},
   "outputs": [
    {
     "data": {
      "application/vnd.plotly.v1+json": {
       "config": {
        "plotlyServerURL": "https://plot.ly"
       },
       "data": [
        {
         "hovertemplate": "Bulan=%{x}<br>PUS=%{y}<extra></extra>",
         "legendgroup": "",
         "line": {
          "color": "#636efa",
          "dash": "solid"
         },
         "marker": {
          "symbol": "circle"
         },
         "mode": "lines+markers",
         "name": "",
         "orientation": "v",
         "showlegend": false,
         "type": "scatter",
         "x": [
          "JANUARI",
          "FEBRUARI",
          "MARET",
          "APRIL",
          "MEI",
          "JUNI"
         ],
         "xaxis": "x",
         "y": [
          778,
          775,
          775,
          789,
          837,
          840
         ],
         "yaxis": "y"
        }
       ],
       "layout": {
        "font": {
         "family": "Arial"
        },
        "hoverdistance": 30,
        "hoverlabel": {
         "bgcolor": "white",
         "font": {
          "family": "Arial"
         }
        },
        "hovermode": "closest",
        "legend": {
         "font": {
          "family": "Arial"
         },
         "tracegroupgap": 0
        },
        "margin": {
         "b": 50,
         "l": 50,
         "r": 50,
         "t": 50
        },
        "paper_bgcolor": "#f6f8fa",
        "plot_bgcolor": "#f6f8fa",
        "template": {
         "data": {
          "bar": [
           {
            "error_x": {
             "color": "#2a3f5f"
            },
            "error_y": {
             "color": "#2a3f5f"
            },
            "marker": {
             "line": {
              "color": "#E5ECF6",
              "width": 0.5
             },
             "pattern": {
              "fillmode": "overlay",
              "size": 10,
              "solidity": 0.2
             }
            },
            "type": "bar"
           }
          ],
          "barpolar": [
           {
            "marker": {
             "line": {
              "color": "#E5ECF6",
              "width": 0.5
             },
             "pattern": {
              "fillmode": "overlay",
              "size": 10,
              "solidity": 0.2
             }
            },
            "type": "barpolar"
           }
          ],
          "carpet": [
           {
            "aaxis": {
             "endlinecolor": "#2a3f5f",
             "gridcolor": "white",
             "linecolor": "white",
             "minorgridcolor": "white",
             "startlinecolor": "#2a3f5f"
            },
            "baxis": {
             "endlinecolor": "#2a3f5f",
             "gridcolor": "white",
             "linecolor": "white",
             "minorgridcolor": "white",
             "startlinecolor": "#2a3f5f"
            },
            "type": "carpet"
           }
          ],
          "choropleth": [
           {
            "colorbar": {
             "outlinewidth": 0,
             "ticks": ""
            },
            "type": "choropleth"
           }
          ],
          "contour": [
           {
            "colorbar": {
             "outlinewidth": 0,
             "ticks": ""
            },
            "colorscale": [
             [
              0,
              "#0d0887"
             ],
             [
              0.1111111111111111,
              "#46039f"
             ],
             [
              0.2222222222222222,
              "#7201a8"
             ],
             [
              0.3333333333333333,
              "#9c179e"
             ],
             [
              0.4444444444444444,
              "#bd3786"
             ],
             [
              0.5555555555555556,
              "#d8576b"
             ],
             [
              0.6666666666666666,
              "#ed7953"
             ],
             [
              0.7777777777777778,
              "#fb9f3a"
             ],
             [
              0.8888888888888888,
              "#fdca26"
             ],
             [
              1,
              "#f0f921"
             ]
            ],
            "type": "contour"
           }
          ],
          "contourcarpet": [
           {
            "colorbar": {
             "outlinewidth": 0,
             "ticks": ""
            },
            "type": "contourcarpet"
           }
          ],
          "heatmap": [
           {
            "colorbar": {
             "outlinewidth": 0,
             "ticks": ""
            },
            "colorscale": [
             [
              0,
              "#0d0887"
             ],
             [
              0.1111111111111111,
              "#46039f"
             ],
             [
              0.2222222222222222,
              "#7201a8"
             ],
             [
              0.3333333333333333,
              "#9c179e"
             ],
             [
              0.4444444444444444,
              "#bd3786"
             ],
             [
              0.5555555555555556,
              "#d8576b"
             ],
             [
              0.6666666666666666,
              "#ed7953"
             ],
             [
              0.7777777777777778,
              "#fb9f3a"
             ],
             [
              0.8888888888888888,
              "#fdca26"
             ],
             [
              1,
              "#f0f921"
             ]
            ],
            "type": "heatmap"
           }
          ],
          "heatmapgl": [
           {
            "colorbar": {
             "outlinewidth": 0,
             "ticks": ""
            },
            "colorscale": [
             [
              0,
              "#0d0887"
             ],
             [
              0.1111111111111111,
              "#46039f"
             ],
             [
              0.2222222222222222,
              "#7201a8"
             ],
             [
              0.3333333333333333,
              "#9c179e"
             ],
             [
              0.4444444444444444,
              "#bd3786"
             ],
             [
              0.5555555555555556,
              "#d8576b"
             ],
             [
              0.6666666666666666,
              "#ed7953"
             ],
             [
              0.7777777777777778,
              "#fb9f3a"
             ],
             [
              0.8888888888888888,
              "#fdca26"
             ],
             [
              1,
              "#f0f921"
             ]
            ],
            "type": "heatmapgl"
           }
          ],
          "histogram": [
           {
            "marker": {
             "pattern": {
              "fillmode": "overlay",
              "size": 10,
              "solidity": 0.2
             }
            },
            "type": "histogram"
           }
          ],
          "histogram2d": [
           {
            "colorbar": {
             "outlinewidth": 0,
             "ticks": ""
            },
            "colorscale": [
             [
              0,
              "#0d0887"
             ],
             [
              0.1111111111111111,
              "#46039f"
             ],
             [
              0.2222222222222222,
              "#7201a8"
             ],
             [
              0.3333333333333333,
              "#9c179e"
             ],
             [
              0.4444444444444444,
              "#bd3786"
             ],
             [
              0.5555555555555556,
              "#d8576b"
             ],
             [
              0.6666666666666666,
              "#ed7953"
             ],
             [
              0.7777777777777778,
              "#fb9f3a"
             ],
             [
              0.8888888888888888,
              "#fdca26"
             ],
             [
              1,
              "#f0f921"
             ]
            ],
            "type": "histogram2d"
           }
          ],
          "histogram2dcontour": [
           {
            "colorbar": {
             "outlinewidth": 0,
             "ticks": ""
            },
            "colorscale": [
             [
              0,
              "#0d0887"
             ],
             [
              0.1111111111111111,
              "#46039f"
             ],
             [
              0.2222222222222222,
              "#7201a8"
             ],
             [
              0.3333333333333333,
              "#9c179e"
             ],
             [
              0.4444444444444444,
              "#bd3786"
             ],
             [
              0.5555555555555556,
              "#d8576b"
             ],
             [
              0.6666666666666666,
              "#ed7953"
             ],
             [
              0.7777777777777778,
              "#fb9f3a"
             ],
             [
              0.8888888888888888,
              "#fdca26"
             ],
             [
              1,
              "#f0f921"
             ]
            ],
            "type": "histogram2dcontour"
           }
          ],
          "mesh3d": [
           {
            "colorbar": {
             "outlinewidth": 0,
             "ticks": ""
            },
            "type": "mesh3d"
           }
          ],
          "parcoords": [
           {
            "line": {
             "colorbar": {
              "outlinewidth": 0,
              "ticks": ""
             }
            },
            "type": "parcoords"
           }
          ],
          "pie": [
           {
            "automargin": true,
            "type": "pie"
           }
          ],
          "scatter": [
           {
            "fillpattern": {
             "fillmode": "overlay",
             "size": 10,
             "solidity": 0.2
            },
            "type": "scatter"
           }
          ],
          "scatter3d": [
           {
            "line": {
             "colorbar": {
              "outlinewidth": 0,
              "ticks": ""
             }
            },
            "marker": {
             "colorbar": {
              "outlinewidth": 0,
              "ticks": ""
             }
            },
            "type": "scatter3d"
           }
          ],
          "scattercarpet": [
           {
            "marker": {
             "colorbar": {
              "outlinewidth": 0,
              "ticks": ""
             }
            },
            "type": "scattercarpet"
           }
          ],
          "scattergeo": [
           {
            "marker": {
             "colorbar": {
              "outlinewidth": 0,
              "ticks": ""
             }
            },
            "type": "scattergeo"
           }
          ],
          "scattergl": [
           {
            "marker": {
             "colorbar": {
              "outlinewidth": 0,
              "ticks": ""
             }
            },
            "type": "scattergl"
           }
          ],
          "scattermapbox": [
           {
            "marker": {
             "colorbar": {
              "outlinewidth": 0,
              "ticks": ""
             }
            },
            "type": "scattermapbox"
           }
          ],
          "scatterpolar": [
           {
            "marker": {
             "colorbar": {
              "outlinewidth": 0,
              "ticks": ""
             }
            },
            "type": "scatterpolar"
           }
          ],
          "scatterpolargl": [
           {
            "marker": {
             "colorbar": {
              "outlinewidth": 0,
              "ticks": ""
             }
            },
            "type": "scatterpolargl"
           }
          ],
          "scatterternary": [
           {
            "marker": {
             "colorbar": {
              "outlinewidth": 0,
              "ticks": ""
             }
            },
            "type": "scatterternary"
           }
          ],
          "surface": [
           {
            "colorbar": {
             "outlinewidth": 0,
             "ticks": ""
            },
            "colorscale": [
             [
              0,
              "#0d0887"
             ],
             [
              0.1111111111111111,
              "#46039f"
             ],
             [
              0.2222222222222222,
              "#7201a8"
             ],
             [
              0.3333333333333333,
              "#9c179e"
             ],
             [
              0.4444444444444444,
              "#bd3786"
             ],
             [
              0.5555555555555556,
              "#d8576b"
             ],
             [
              0.6666666666666666,
              "#ed7953"
             ],
             [
              0.7777777777777778,
              "#fb9f3a"
             ],
             [
              0.8888888888888888,
              "#fdca26"
             ],
             [
              1,
              "#f0f921"
             ]
            ],
            "type": "surface"
           }
          ],
          "table": [
           {
            "cells": {
             "fill": {
              "color": "#EBF0F8"
             },
             "line": {
              "color": "white"
             }
            },
            "header": {
             "fill": {
              "color": "#C8D4E3"
             },
             "line": {
              "color": "white"
             }
            },
            "type": "table"
           }
          ]
         },
         "layout": {
          "annotationdefaults": {
           "arrowcolor": "#2a3f5f",
           "arrowhead": 0,
           "arrowwidth": 1
          },
          "autotypenumbers": "strict",
          "coloraxis": {
           "colorbar": {
            "outlinewidth": 0,
            "ticks": ""
           }
          },
          "colorscale": {
           "diverging": [
            [
             0,
             "#8e0152"
            ],
            [
             0.1,
             "#c51b7d"
            ],
            [
             0.2,
             "#de77ae"
            ],
            [
             0.3,
             "#f1b6da"
            ],
            [
             0.4,
             "#fde0ef"
            ],
            [
             0.5,
             "#f7f7f7"
            ],
            [
             0.6,
             "#e6f5d0"
            ],
            [
             0.7,
             "#b8e186"
            ],
            [
             0.8,
             "#7fbc41"
            ],
            [
             0.9,
             "#4d9221"
            ],
            [
             1,
             "#276419"
            ]
           ],
           "sequential": [
            [
             0,
             "#0d0887"
            ],
            [
             0.1111111111111111,
             "#46039f"
            ],
            [
             0.2222222222222222,
             "#7201a8"
            ],
            [
             0.3333333333333333,
             "#9c179e"
            ],
            [
             0.4444444444444444,
             "#bd3786"
            ],
            [
             0.5555555555555556,
             "#d8576b"
            ],
            [
             0.6666666666666666,
             "#ed7953"
            ],
            [
             0.7777777777777778,
             "#fb9f3a"
            ],
            [
             0.8888888888888888,
             "#fdca26"
            ],
            [
             1,
             "#f0f921"
            ]
           ],
           "sequentialminus": [
            [
             0,
             "#0d0887"
            ],
            [
             0.1111111111111111,
             "#46039f"
            ],
            [
             0.2222222222222222,
             "#7201a8"
            ],
            [
             0.3333333333333333,
             "#9c179e"
            ],
            [
             0.4444444444444444,
             "#bd3786"
            ],
            [
             0.5555555555555556,
             "#d8576b"
            ],
            [
             0.6666666666666666,
             "#ed7953"
            ],
            [
             0.7777777777777778,
             "#fb9f3a"
            ],
            [
             0.8888888888888888,
             "#fdca26"
            ],
            [
             1,
             "#f0f921"
            ]
           ]
          },
          "colorway": [
           "#636efa",
           "#EF553B",
           "#00cc96",
           "#ab63fa",
           "#FFA15A",
           "#19d3f3",
           "#FF6692",
           "#B6E880",
           "#FF97FF",
           "#FECB52"
          ],
          "font": {
           "color": "#2a3f5f"
          },
          "geo": {
           "bgcolor": "white",
           "lakecolor": "white",
           "landcolor": "#E5ECF6",
           "showlakes": true,
           "showland": true,
           "subunitcolor": "white"
          },
          "hoverlabel": {
           "align": "left"
          },
          "hovermode": "closest",
          "mapbox": {
           "style": "light"
          },
          "paper_bgcolor": "white",
          "plot_bgcolor": "#E5ECF6",
          "polar": {
           "angularaxis": {
            "gridcolor": "white",
            "linecolor": "white",
            "ticks": ""
           },
           "bgcolor": "#E5ECF6",
           "radialaxis": {
            "gridcolor": "white",
            "linecolor": "white",
            "ticks": ""
           }
          },
          "scene": {
           "xaxis": {
            "backgroundcolor": "#E5ECF6",
            "gridcolor": "white",
            "gridwidth": 2,
            "linecolor": "white",
            "showbackground": true,
            "ticks": "",
            "zerolinecolor": "white"
           },
           "yaxis": {
            "backgroundcolor": "#E5ECF6",
            "gridcolor": "white",
            "gridwidth": 2,
            "linecolor": "white",
            "showbackground": true,
            "ticks": "",
            "zerolinecolor": "white"
           },
           "zaxis": {
            "backgroundcolor": "#E5ECF6",
            "gridcolor": "white",
            "gridwidth": 2,
            "linecolor": "white",
            "showbackground": true,
            "ticks": "",
            "zerolinecolor": "white"
           }
          },
          "shapedefaults": {
           "line": {
            "color": "#2a3f5f"
           }
          },
          "ternary": {
           "aaxis": {
            "gridcolor": "white",
            "linecolor": "white",
            "ticks": ""
           },
           "baxis": {
            "gridcolor": "white",
            "linecolor": "white",
            "ticks": ""
           },
           "bgcolor": "#E5ECF6",
           "caxis": {
            "gridcolor": "white",
            "linecolor": "white",
            "ticks": ""
           }
          },
          "title": {
           "x": 0.05
          },
          "xaxis": {
           "automargin": true,
           "gridcolor": "white",
           "linecolor": "white",
           "ticks": "",
           "title": {
            "standoff": 15
           },
           "zerolinecolor": "white",
           "zerolinewidth": 2
          },
          "yaxis": {
           "automargin": true,
           "gridcolor": "white",
           "linecolor": "white",
           "ticks": "",
           "title": {
            "standoff": 15
           },
           "zerolinecolor": "white",
           "zerolinewidth": 2
          }
         }
        },
        "title": {
         "text": "Tren Peserta KB Aktif"
        },
        "updatemenus": [
         {
          "font": {
           "family": "Arial"
          }
         }
        ],
        "xaxis": {
         "anchor": "y",
         "domain": [
          0,
          1
         ],
         "title": {
          "text": "Metode Kontrasepsi"
         }
        },
        "yaxis": {
         "anchor": "x",
         "domain": [
          0,
          1
         ],
         "title": {
          "text": "Jumlah Penggunaan"
         }
        }
       }
      }
     },
     "metadata": {},
     "output_type": "display_data"
    }
   ],
   "source": [
    "\n",
    "line_pa = px.line(data_pus, x=\"Bulan\", y=\"PUS\", title=\"Tren Peserta KB Aktif\", markers=True)\n",
    "\n",
    "line_pa.update_layout(\n",
    "    xaxis_title=\"Metode Kontrasepsi\",\n",
    "    yaxis_title=\"Jumlah Penggunaan\",\n",
    "    #xaxis=dict(categoryorder=\"total ascending\"),\n",
    "    font=dict(family=\"Arial\"),\n",
    "    margin=dict(l=50, r=50, b=50, t=50),\n",
    "    paper_bgcolor=\"#f6f8fa\",\n",
    "    plot_bgcolor=\"#f6f8fa\",\n",
    "    hoverlabel=dict(\n",
    "        bgcolor=\"white\",\n",
    "        font=dict(family=\"Arial\")\n",
    "    ),\n",
    "    legend=dict(font=dict(family=\"Arial\")),\n",
    "    hovermode=\"closest\",\n",
    "    hoverdistance=30,\n",
    "    updatemenus=[dict(font=dict(family=\"Arial\"))]\n",
    ")"
   ]
  },
  {
   "cell_type": "code",
   "execution_count": 37,
   "metadata": {},
   "outputs": [
    {
     "data": {
      "text/plain": [
       "840"
      ]
     },
     "execution_count": 37,
     "metadata": {},
     "output_type": "execute_result"
    }
   ],
   "source": [
    "data_pus = pl.read_excel(\"data/data_pus.xlsx\")\n",
    "\n",
    "data_pus = data_pus.filter(\n",
    "    pl.col(\"Kabupaten\").is_in(filter_kabupaten),\n",
    "    pl.col(\"Kecamatan\").is_in(filter_kecamatan),\n",
    "    pl.col(\"Kelurahan_Desa\").is_in(filter_desa),\n",
    "    pl.col(\"Bulan\").is_in(filter_bulan)\n",
    ")\n",
    "data_pus = data_pus['PUS'].sum()\n",
    "data_pus"
   ]
  },
  {
   "cell_type": "code",
   "execution_count": 56,
   "metadata": {},
   "outputs": [
    {
     "data": {
      "text/html": [
       "<div><style>\n",
       ".dataframe > thead > tr,\n",
       ".dataframe > tbody > tr {\n",
       "  text-align: right;\n",
       "  white-space: pre-wrap;\n",
       "}\n",
       "</style>\n",
       "<small>shape: (6, 4)</small><table border=\"1\" class=\"dataframe\"><thead><tr><th>Bulan</th><th>KB Modern</th><th>PUS</th><th>MCPR</th></tr><tr><td>str</td><td>i64</td><td>i64</td><td>f64</td></tr></thead><tbody><tr><td>&quot;FEBRUARI&quot;</td><td>283</td><td>775</td><td>36.52</td></tr><tr><td>&quot;APRIL&quot;</td><td>299</td><td>789</td><td>37.9</td></tr><tr><td>&quot;MARET&quot;</td><td>288</td><td>775</td><td>37.16</td></tr><tr><td>&quot;MEI&quot;</td><td>307</td><td>837</td><td>36.68</td></tr><tr><td>&quot;JUNI&quot;</td><td>319</td><td>840</td><td>37.98</td></tr><tr><td>&quot;JANUARI&quot;</td><td>283</td><td>778</td><td>36.38</td></tr></tbody></table></div>"
      ],
      "text/plain": [
       "shape: (6, 4)\n",
       "┌──────────┬───────────┬─────┬───────┐\n",
       "│ Bulan    ┆ KB Modern ┆ PUS ┆ MCPR  │\n",
       "│ ---      ┆ ---       ┆ --- ┆ ---   │\n",
       "│ str      ┆ i64       ┆ i64 ┆ f64   │\n",
       "╞══════════╪═══════════╪═════╪═══════╡\n",
       "│ FEBRUARI ┆ 283       ┆ 775 ┆ 36.52 │\n",
       "│ APRIL    ┆ 299       ┆ 789 ┆ 37.9  │\n",
       "│ MARET    ┆ 288       ┆ 775 ┆ 37.16 │\n",
       "│ MEI      ┆ 307       ┆ 837 ┆ 36.68 │\n",
       "│ JUNI     ┆ 319       ┆ 840 ┆ 37.98 │\n",
       "│ JANUARI  ┆ 283       ┆ 778 ┆ 36.38 │\n",
       "└──────────┴───────────┴─────┴───────┘"
      ]
     },
     "execution_count": 56,
     "metadata": {},
     "output_type": "execute_result"
    }
   ],
   "source": [
    "#MCPR\n",
    "data_pus = pl.read_excel(\"data/data_pus.xlsx\")\n",
    "\n",
    "hingga_bulan = bulan_hingga(\"JUNI\")\n",
    "\n",
    "data_pus = data_pus.filter(\n",
    "    pl.col(\"Kabupaten\").is_in(filter_kabupaten),\n",
    "    pl.col(\"Kecamatan\").is_in(filter_kecamatan),\n",
    "    pl.col(\"Kelurahan_Desa\").is_in(filter_desa),\n",
    "    pl.col(\"Bulan\").is_in(hingga_bulan)\n",
    ")\n",
    "data_pus = data_pus.select([\"PUS\", \"Bulan\"])\n",
    "data_pus = data_pus.group_by(\"Bulan\").agg([\n",
    "    pl.sum(\"PUS\")\n",
    "])\n",
    "\n",
    "#MCPR\n",
    "data_mcpr = pl.read_excel(\"data/data_mix_kontra.xlsx\")\n",
    "\n",
    "hingga_bulan = bulan_hingga(\"JUNI\")\n",
    "\n",
    "data_mcpr = data_mcpr.filter(\n",
    "    pl.col(\"Kabupaten\").is_in(filter_kabupaten),\n",
    "    pl.col(\"Kecamatan\").is_in(filter_kecamatan),\n",
    "    pl.col(\"Kelurahan/Desa\").is_in(filter_desa),\n",
    "    pl.col(\"Bulan\").is_in(hingga_bulan)\n",
    ")\n",
    "data_mcpr = data_mcpr.select([\"KB Modern\", \"Bulan\"])\n",
    "data_mcpr = data_mcpr.group_by(\"Bulan\").agg([\n",
    "    pl.sum(\"KB Modern\")\n",
    "])\n",
    "\n",
    "data_mcpr = data_mcpr.join(data_pus, on=\"Bulan\", how=\"inner\")\n",
    "\n",
    "data_mcpr = data_mcpr.with_columns(\n",
    "    (pl.col(\"KB Modern\") / pl.col(\"PUS\") * 100).round(2).alias(\"MCPR\")\n",
    ")\n",
    "data_mcpr"
   ]
  },
  {
   "cell_type": "code",
   "execution_count": 57,
   "metadata": {},
   "outputs": [
    {
     "data": {
      "text/html": [
       "<div><style>\n",
       ".dataframe > thead > tr,\n",
       ".dataframe > tbody > tr {\n",
       "  text-align: right;\n",
       "  white-space: pre-wrap;\n",
       "}\n",
       "</style>\n",
       "<small>shape: (1, 4)</small><table border=\"1\" class=\"dataframe\"><thead><tr><th>Bulan</th><th>KB Modern</th><th>PUS</th><th>MCPR</th></tr><tr><td>str</td><td>i64</td><td>i64</td><td>f64</td></tr></thead><tbody><tr><td>&quot;JUNI&quot;</td><td>319</td><td>840</td><td>37.98</td></tr></tbody></table></div>"
      ],
      "text/plain": [
       "shape: (1, 4)\n",
       "┌───────┬───────────┬─────┬───────┐\n",
       "│ Bulan ┆ KB Modern ┆ PUS ┆ MCPR  │\n",
       "│ ---   ┆ ---       ┆ --- ┆ ---   │\n",
       "│ str   ┆ i64       ┆ i64 ┆ f64   │\n",
       "╞═══════╪═══════════╪═════╪═══════╡\n",
       "│ JUNI  ┆ 319       ┆ 840 ┆ 37.98 │\n",
       "└───────┴───────────┴─────┴───────┘"
      ]
     },
     "execution_count": 57,
     "metadata": {},
     "output_type": "execute_result"
    }
   ],
   "source": [
    "#MCPR\n",
    "data_pus = pl.read_excel(\"data/data_pus.xlsx\")\n",
    "\n",
    "hingga_bulan = [\"JUNI\"]\n",
    "\n",
    "data_pus = data_pus.filter(\n",
    "    pl.col(\"Kabupaten\").is_in(filter_kabupaten),\n",
    "    pl.col(\"Kecamatan\").is_in(filter_kecamatan),\n",
    "    pl.col(\"Kelurahan_Desa\").is_in(filter_desa),\n",
    "    pl.col(\"Bulan\").is_in(hingga_bulan)\n",
    ")\n",
    "data_pus = data_pus.select([\"PUS\", \"Bulan\"])\n",
    "data_pus = data_pus.group_by(\"Bulan\").agg([\n",
    "    pl.sum(\"PUS\")\n",
    "])\n",
    "\n",
    "#MCPR\n",
    "data_mcpr = pl.read_excel(\"data/data_mix_kontra.xlsx\")\n",
    "\n",
    "hingga_bulan = bulan_hingga(\"JUNI\")\n",
    "\n",
    "data_mcpr = data_mcpr.filter(\n",
    "    pl.col(\"Kabupaten\").is_in(filter_kabupaten),\n",
    "    pl.col(\"Kecamatan\").is_in(filter_kecamatan),\n",
    "    pl.col(\"Kelurahan/Desa\").is_in(filter_desa),\n",
    "    pl.col(\"Bulan\").is_in(hingga_bulan)\n",
    ")\n",
    "data_mcpr = data_mcpr.select([\"KB Modern\", \"Bulan\"])\n",
    "data_mcpr = data_mcpr.group_by(\"Bulan\").agg([\n",
    "    pl.sum(\"KB Modern\")\n",
    "])\n",
    "\n",
    "data_mcpr = data_mcpr.join(data_pus, on=\"Bulan\", how=\"inner\")\n",
    "\n",
    "data_mcpr = data_mcpr.with_columns(\n",
    "    (pl.col(\"KB Modern\") / pl.col(\"PUS\") * 100).round(2).alias(\"MCPR\")\n",
    ")\n",
    "data_mcpr"
   ]
  },
  {
   "cell_type": "code",
   "execution_count": 63,
   "metadata": {},
   "outputs": [
    {
     "data": {
      "text/plain": [
       "37.98"
      ]
     },
     "execution_count": 63,
     "metadata": {},
     "output_type": "execute_result"
    }
   ],
   "source": [
    "#MCPR\n",
    "data_pus = pl.read_excel(\"data/data_pus.xlsx\")\n",
    "\n",
    "data_pus = data_pus.filter(\n",
    "    pl.col(\"Kabupaten\").is_in(filter_kabupaten),\n",
    "    pl.col(\"Kecamatan\").is_in(filter_kecamatan),\n",
    "    pl.col(\"Kelurahan_Desa\").is_in(filter_desa),\n",
    "    pl.col(\"Bulan\").is_in(filter_bulan)\n",
    ")\n",
    "data_pus = data_pus.select([\"PUS\", \"Bulan\"])\n",
    "data_pus = data_pus.group_by(\"Bulan\").agg([\n",
    "    pl.sum(\"PUS\")\n",
    "])\n",
    "\n",
    "#MCPR\n",
    "data_mcpr = pl.read_excel(\"data/data_mix_kontra.xlsx\")\n",
    "\n",
    "data_mcpr = data_mcpr.filter(\n",
    "    pl.col(\"Kabupaten\").is_in(filter_kabupaten),\n",
    "    pl.col(\"Kecamatan\").is_in(filter_kecamatan),\n",
    "    pl.col(\"Kelurahan/Desa\").is_in(filter_desa),\n",
    "    pl.col(\"Bulan\").is_in(filter_bulan)\n",
    ")\n",
    "data_mcpr = data_mcpr.select([\"KB Modern\", \"Bulan\"])\n",
    "data_mcpr = data_mcpr.group_by(\"Bulan\").agg([\n",
    "    pl.sum(\"KB Modern\")\n",
    "])\n",
    "\n",
    "data_mcpr = data_mcpr.join(data_pus, on=\"Bulan\", how=\"inner\")\n",
    "\n",
    "data_mcpr = data_mcpr.with_columns(\n",
    "    (pl.col(\"KB Modern\") / pl.col(\"PUS\") * 100).round(2).alias(\"MCPR\")\n",
    ")\n",
    "\n",
    "data_mcpr = data_mcpr[\"MCPR\"].sum()\n",
    "data_mcpr"
   ]
  },
  {
   "cell_type": "code",
   "execution_count": 54,
   "metadata": {},
   "outputs": [
    {
     "data": {
      "text/html": [
       "<div><style>\n",
       ".dataframe > thead > tr,\n",
       ".dataframe > tbody > tr {\n",
       "  text-align: right;\n",
       "  white-space: pre-wrap;\n",
       "}\n",
       "</style>\n",
       "<small>shape: (6, 4)</small><table border=\"1\" class=\"dataframe\"><thead><tr><th>Bulan</th><th>KB Modern</th><th>PUS</th><th>MCPR</th></tr><tr><td>str</td><td>i64</td><td>i64</td><td>f64</td></tr></thead><tbody><tr><td>&quot;APRIL&quot;</td><td>299</td><td>789</td><td>37.9</td></tr><tr><td>&quot;MARET&quot;</td><td>288</td><td>775</td><td>37.16</td></tr><tr><td>&quot;FEBRUARI&quot;</td><td>283</td><td>775</td><td>36.52</td></tr><tr><td>&quot;JUNI&quot;</td><td>319</td><td>840</td><td>37.98</td></tr><tr><td>&quot;MEI&quot;</td><td>307</td><td>837</td><td>36.68</td></tr><tr><td>&quot;JANUARI&quot;</td><td>283</td><td>778</td><td>36.38</td></tr></tbody></table></div>"
      ],
      "text/plain": [
       "shape: (6, 4)\n",
       "┌──────────┬───────────┬─────┬───────┐\n",
       "│ Bulan    ┆ KB Modern ┆ PUS ┆ MCPR  │\n",
       "│ ---      ┆ ---       ┆ --- ┆ ---   │\n",
       "│ str      ┆ i64       ┆ i64 ┆ f64   │\n",
       "╞══════════╪═══════════╪═════╪═══════╡\n",
       "│ APRIL    ┆ 299       ┆ 789 ┆ 37.9  │\n",
       "│ MARET    ┆ 288       ┆ 775 ┆ 37.16 │\n",
       "│ FEBRUARI ┆ 283       ┆ 775 ┆ 36.52 │\n",
       "│ JUNI     ┆ 319       ┆ 840 ┆ 37.98 │\n",
       "│ MEI      ┆ 307       ┆ 837 ┆ 36.68 │\n",
       "│ JANUARI  ┆ 283       ┆ 778 ┆ 36.38 │\n",
       "└──────────┴───────────┴─────┴───────┘"
      ]
     },
     "execution_count": 54,
     "metadata": {},
     "output_type": "execute_result"
    }
   ],
   "source": []
  },
  {
   "cell_type": "code",
   "execution_count": 15,
   "metadata": {},
   "outputs": [
    {
     "data": {
      "text/html": [
       "<div><style>\n",
       ".dataframe > thead > tr,\n",
       ".dataframe > tbody > tr {\n",
       "  text-align: right;\n",
       "  white-space: pre-wrap;\n",
       "}\n",
       "</style>\n",
       "<small>shape: (3, 16)</small><table border=\"1\" class=\"dataframe\"><thead><tr><th>__UNNAMED__0</th><th>Provinsi</th><th>Kabupaten</th><th>Kecamatan</th><th>Kelurahan/Desa</th><th>Nama Faskes</th><th>No. Registrasi</th><th>Nama Bidan</th><th>NIK Bidan</th><th>Alamat</th><th>No HP</th><th>Profesi</th><th>Pelatihan</th><th>Status Update</th><th>BULAN</th><th>BATAS</th></tr><tr><td>i64</td><td>str</td><td>str</td><td>str</td><td>str</td><td>str</td><td>str</td><td>str</td><td>str</td><td>str</td><td>str</td><td>str</td><td>str</td><td>str</td><td>str</td><td>null</td></tr></thead><tbody><tr><td>1524</td><td>&quot;SULAWESI BARAT&quot;</td><td>&quot;POLEWALI MANDAR&quot;</td><td>&quot;MAPILLI&quot;</td><td>&quot;MAPILI&quot;</td><td>&quot;Puskesmas Mapilli&quot;</td><td>&quot;7604028&quot;</td><td>&quot;Hernawati, A.Md. Keb&quot;</td><td>&quot;7604084609870007&quot;</td><td>&quot;MAPILLI&quot;</td><td>&quot;&quot;</td><td>&quot;Bidan&quot;</td><td>&quot;IUD/IMPLAN,R/R,Sertifikat Komp…</td><td>&quot;UPDATE&quot;</td><td>&quot;JUNI&quot;</td><td>null</td></tr><tr><td>1525</td><td>&quot;SULAWESI BARAT&quot;</td><td>&quot;POLEWALI MANDAR&quot;</td><td>&quot;MAPILLI&quot;</td><td>&quot;MAPILI&quot;</td><td>&quot;Puskesmas Mapilli&quot;</td><td>&quot;7604028&quot;</td><td>&quot;IRAWAHYUNI RASYID,S.ST&quot;</td><td>&quot;7604044505880003&quot;</td><td>&quot;PEKKABATA&quot;</td><td>&quot;&quot;</td><td>&quot;Bidan&quot;</td><td>&quot;IUD/IMPLAN,Sertifikat Kompeten…</td><td>&quot;UPDATE&quot;</td><td>&quot;JUNI&quot;</td><td>null</td></tr><tr><td>1540</td><td>&quot;SULAWESI BARAT&quot;</td><td>&quot;POLEWALI MANDAR&quot;</td><td>&quot;MAPILLI&quot;</td><td>&quot;KURMA&quot;</td><td>&quot;POSKESDES KURMA&quot;</td><td>&quot;760402810&quot;</td><td>&quot;HASNAWATI. M&quot;</td><td>&quot;7315056403790003&quot;</td><td>&quot;DUSUN PARADEANG&quot;</td><td>&quot;085394047037&quot;</td><td>&quot;Bidan&quot;</td><td>&quot;Belum Terlatih&quot;</td><td>&quot;UPDATE&quot;</td><td>&quot;JUNI&quot;</td><td>null</td></tr></tbody></table></div>"
      ],
      "text/plain": [
       "shape: (3, 16)\n",
       "┌─────────────────┬──────────┬───────────┬───────────┬───┬────────────────┬────────┬───────┬───────┐\n",
       "│ __UNNAMED__0    ┆ Provinsi ┆ Kabupaten ┆ Kecamatan ┆ … ┆ Pelatihan      ┆ Status ┆ BULAN ┆ BATAS │\n",
       "│ ---             ┆ ---      ┆ ---       ┆ ---       ┆   ┆ ---            ┆ Update ┆ ---   ┆ ---   │\n",
       "│ i64             ┆ str      ┆ str       ┆ str       ┆   ┆ str            ┆ ---    ┆ str   ┆ null  │\n",
       "│                 ┆          ┆           ┆           ┆   ┆                ┆ str    ┆       ┆       │\n",
       "╞═════════════════╪══════════╪═══════════╪═══════════╪═══╪════════════════╪════════╪═══════╪═══════╡\n",
       "│ 1524            ┆ SULAWESI ┆ POLEWALI  ┆ MAPILLI   ┆ … ┆ IUD/IMPLAN,R/R ┆ UPDATE ┆ JUNI  ┆ null  │\n",
       "│                 ┆ BARAT    ┆ MANDAR    ┆           ┆   ┆ ,Sertifikat    ┆        ┆       ┆       │\n",
       "│                 ┆          ┆           ┆           ┆   ┆ Komp…          ┆        ┆       ┆       │\n",
       "│ 1525            ┆ SULAWESI ┆ POLEWALI  ┆ MAPILLI   ┆ … ┆ IUD/IMPLAN,Ser ┆ UPDATE ┆ JUNI  ┆ null  │\n",
       "│                 ┆ BARAT    ┆ MANDAR    ┆           ┆   ┆ tifikat        ┆        ┆       ┆       │\n",
       "│                 ┆          ┆           ┆           ┆   ┆ Kompeten…      ┆        ┆       ┆       │\n",
       "│ 1540            ┆ SULAWESI ┆ POLEWALI  ┆ MAPILLI   ┆ … ┆ Belum Terlatih ┆ UPDATE ┆ JUNI  ┆ null  │\n",
       "│                 ┆ BARAT    ┆ MANDAR    ┆           ┆   ┆                ┆        ┆       ┆       │\n",
       "└─────────────────┴──────────┴───────────┴───────────┴───┴────────────────┴────────┴───────┴───────┘"
      ]
     },
     "execution_count": 15,
     "metadata": {},
     "output_type": "execute_result"
    }
   ],
   "source": [
    "data_bidan = pl.read_excel(\"data/data_faskes_siga.xlsx\")\n",
    "\n",
    "data_bidan = data_bidan.filter(\n",
    "    pl.col(\"Kabupaten\").is_in(filter_kabupaten),\n",
    "    pl.col(\"Kecamatan\").is_in(filter_kecamatan),\n",
    "    pl.col(\"Kelurahan/Desa\").is_in(filter_desa),\n",
    "    pl.col(\"BULAN\").is_in(filter_bulan)\n",
    ")\t\t\t \t\t\n",
    "\n",
    "data_bidan\n",
    "\n"
   ]
  },
  {
   "cell_type": "code",
   "execution_count": 18,
   "metadata": {},
   "outputs": [
    {
     "data": {
      "text/html": [
       "<div>\n",
       "<style scoped>\n",
       "    .dataframe tbody tr th:only-of-type {\n",
       "        vertical-align: middle;\n",
       "    }\n",
       "\n",
       "    .dataframe tbody tr th {\n",
       "        vertical-align: top;\n",
       "    }\n",
       "\n",
       "    .dataframe thead th {\n",
       "        text-align: right;\n",
       "    }\n",
       "</style>\n",
       "<table border=\"1\" class=\"dataframe\">\n",
       "  <thead>\n",
       "    <tr style=\"text-align: right;\">\n",
       "      <th></th>\n",
       "      <th>Pelatihan</th>\n",
       "      <th>Belum Terlatih</th>\n",
       "      <th>Terlatih</th>\n",
       "    </tr>\n",
       "    <tr>\n",
       "      <th>Kabupaten</th>\n",
       "      <th>Kecamatan</th>\n",
       "      <th></th>\n",
       "      <th></th>\n",
       "    </tr>\n",
       "  </thead>\n",
       "  <tbody>\n",
       "    <tr>\n",
       "      <th>POLEWALI MANDAR</th>\n",
       "      <th>MAPILLI</th>\n",
       "      <td>1</td>\n",
       "      <td>2</td>\n",
       "    </tr>\n",
       "  </tbody>\n",
       "</table>\n",
       "</div>"
      ],
      "text/plain": [
       "Pelatihan                  Belum Terlatih  Terlatih\n",
       "Kabupaten       Kecamatan                          \n",
       "POLEWALI MANDAR MAPILLI                 1         2"
      ]
     },
     "execution_count": 18,
     "metadata": {},
     "output_type": "execute_result"
    }
   ],
   "source": [
    "data_bidan = data_bidan.select(\n",
    "    pl.col(\"Provinsi\"), pl.col(\"Kabupaten\"),\n",
    "    pl.col(\"Kecamatan\"), pl.col(\"Kelurahan/Desa\"), pl.col(\"Nama Faskes\"),\n",
    "    pl.col(\"Nama Bidan\"), pl.col(\"Pelatihan\")\n",
    ")\n",
    "\n",
    "df = pl.DataFrame(data_bidan)\n",
    "\n",
    "# Konversi Polars DataFrame ke Pandas DataFrame\n",
    "df_pd = df.to_pandas()\n",
    "\n",
    "# Menambahkan kolom \"Status Pelatihan\" berdasarkan kondisi pada kolom \"Pelatihan\"\n",
    "df_pd[\"Pelatihan\"] = df_pd[\"Pelatihan\"].apply(\n",
    "    lambda x: \"Terlatih\" if (\"IUD\" in x or \"IMPLAN\" in x) else \"Belum Terlatih\"\n",
    ")\n",
    "\n",
    "# if input.pilih_kab() == \"SEMUA KABUPATEN\":\n",
    "#     df_pd = df_pd.groupby(['Kabupaten', 'Pelatihan']).size().unstack(fill_value=0)\n",
    "# elif input.pilih_kab() != \"SEMUA KABUPATEN\" and input.pilih_kec() == \"SEMUA KECAMATAN\":\n",
    "#     df_pd = df_pd.groupby(['Provinsi', 'Kabupaten', 'Kecamatan', 'Pelatihan']).size().unstack(fill_value=0)\n",
    "# elif input.pilih_kab() != \"SEMUA KABUPATEN\" and input.pilih_kec() != \"SEMUA KECAMATAN\" and input.pilih_desa() == \"SEMUA DESA/KELURAHAN\":\n",
    "#     df_pd = df_pd.groupby(['Provinsi', 'Kabupaten', 'Kecamatan', \"Kelurahan/Desa\", 'Pelatihan']).size().unstack(fill_value=0)\n",
    "# else:\n",
    "#     df_pd = df_pd\n",
    "df_pd.groupby(['Kabupaten', 'Kecamatan', 'Pelatihan']).size().unstack(fill_value=0)"
   ]
  },
  {
   "cell_type": "code",
   "execution_count": 24,
   "metadata": {},
   "outputs": [
    {
     "name": "stdout",
     "output_type": "stream",
     "text": [
      "shape: (1, 6)\n",
      "┌───────────┬───────────┬────────────────┬────────────────────┬────────────────┬──────────┐\n",
      "│ Kabupaten ┆ Kecamatan ┆ Kelurahan/Desa ┆ Nama Faskes        ┆ Belum Terlatih ┆ Terlatih │\n",
      "│ ---       ┆ ---       ┆ ---            ┆ ---                ┆ ---            ┆ ---      │\n",
      "│ str       ┆ str       ┆ str            ┆ str                ┆ u32            ┆ u32      │\n",
      "╞═══════════╪═══════════╪════════════════╪════════════════════╪════════════════╪══════════╡\n",
      "│ MAMASA    ┆ TAWALIAN  ┆ TAWALIAN       ┆ PUSKESMAS TAWALIAN ┆ 9              ┆ 1        │\n",
      "└───────────┴───────────┴────────────────┴────────────────────┴────────────────┴──────────┘\n"
     ]
    },
    {
     "name": "stderr",
     "output_type": "stream",
     "text": [
      "/tmp/ipykernel_2922/1200261974.py:23: DeprecationWarning: The argument `columns` for `DataFrame.pivot` is deprecated. It has been renamed to `on`.\n",
      "  summary_pivot = summary.pivot(\n"
     ]
    }
   ],
   "source": [
    "import polars as pl\n",
    "\n",
    "# Data sample\n",
    "data = {\n",
    "    'Provinsi': ['SULAWESI BARAT'] * 10,\n",
    "    'Kabupaten': ['MAMASA'] * 10,\n",
    "    'Kecamatan': ['TAWALIAN'] * 10,\n",
    "    'Kelurahan/Desa': ['TAWALIAN'] * 10,\n",
    "    'Nama Faskes': ['PUSKESMAS TAWALIAN'] * 10,\n",
    "    'Nama Bidan': ['DEWI A.Md. KEB', 'FEDRIANA', 'LILINARWASTI', 'GLORIA', 'DIANA SULLE', 'NURNAINNAH', 'NUR AISYAH', 'ADEL B PASAMBOAN', 'WINIARTI', 'RATA SARI PATANDEAN'],\n",
    "    'Pelatihan': ['Terlatih', 'Belum Terlatih', 'Belum Terlatih', 'Belum Terlatih', 'Belum Terlatih', 'Belum Terlatih', 'Belum Terlatih', 'Belum Terlatih', 'Belum Terlatih', 'Belum Terlatih']\n",
    "}\n",
    "\n",
    "# Membuat DataFrame Polars\n",
    "df = pl.DataFrame(data)\n",
    "\n",
    "# Mengelompokkan data dan menghitung jumlahnya\n",
    "summary = df.group_by(['Kabupaten', 'Kecamatan', 'Kelurahan/Desa', 'Nama Faskes', 'Pelatihan']).agg(\n",
    "    pl.col('Nama Bidan').count().alias('count')\n",
    ")\n",
    "\n",
    "# Mengubah format agar serupa dengan unstack di pandas\n",
    "summary_pivot = summary.pivot(\n",
    "    values='count',\n",
    "    index=['Kabupaten', 'Kecamatan', 'Kelurahan/Desa', 'Nama Faskes'],\n",
    "    on='Pelatihan'\n",
    ").fill_null(0)\n",
    "\n",
    "# Menampilkan hasil\n",
    "print(summary_pivot)\n"
   ]
  },
  {
   "cell_type": "code",
   "execution_count": null,
   "metadata": {},
   "outputs": [],
   "source": []
  },
  {
   "cell_type": "markdown",
   "metadata": {},
   "source": [
    "## Batas bawah"
   ]
  },
  {
   "cell_type": "code",
   "execution_count": null,
   "metadata": {},
   "outputs": [],
   "source": []
  },
  {
   "cell_type": "code",
   "execution_count": 2,
   "metadata": {},
   "outputs": [
    {
     "data": {
      "text/html": [
       "<div><style>\n",
       ".dataframe > thead > tr,\n",
       ".dataframe > tbody > tr {\n",
       "  text-align: right;\n",
       "  white-space: pre-wrap;\n",
       "}\n",
       "</style>\n",
       "<small>shape: (5, 14)</small><table border=\"1\" class=\"dataframe\"><thead><tr><th>PROVINSI</th><th>KABUPATEN</th><th>KECAMATAN</th><th>KELURAHAN</th><th>LATITUDE</th><th>LONGITUDE</th><th>PUS</th><th>Kampung KB</th><th>Rumah DataKU</th><th>BKB</th><th>BKR</th><th>BKL</th><th>UPPKA</th><th>PIK-R</th></tr><tr><td>str</td><td>str</td><td>str</td><td>str</td><td>f64</td><td>f64</td><td>i64</td><td>str</td><td>str</td><td>str</td><td>str</td><td>str</td><td>str</td><td>str</td></tr></thead><tbody><tr><td>&quot;SULAWESI BARAT&quot;</td><td>&quot;MAMUJU TENGAH&quot;</td><td>&quot;TOBADAK&quot;</td><td>&quot;MAHAHE&quot;</td><td>-2.122958</td><td>119.365442</td><td>1</td><td>&quot;Ada&quot;</td><td>&quot;Ada&quot;</td><td>&quot;Ada&quot;</td><td>&quot;Ada&quot;</td><td>&quot;Ada&quot;</td><td>&quot;Ada&quot;</td><td>&quot;Ada&quot;</td></tr><tr><td>&quot;SULAWESI BARAT&quot;</td><td>&quot;MAMUJU TENGAH&quot;</td><td>&quot;TOBADAK&quot;</td><td>&quot;SALOBAJA&quot;</td><td>-2.156691</td><td>119.336074</td><td>1</td><td>&quot;Ada&quot;</td><td>&quot;Ada&quot;</td><td>&quot;Ada&quot;</td><td>&quot;Ada&quot;</td><td>&quot;Ada&quot;</td><td>&quot;Ada&quot;</td><td>&quot;Ada&quot;</td></tr><tr><td>&quot;SULAWESI BARAT&quot;</td><td>&quot;MAMUJU TENGAH&quot;</td><td>&quot;TOBADAK&quot;</td><td>&quot;TOBADAK&quot;</td><td>-2.104302</td><td>119.491646</td><td>1</td><td>&quot;Ada&quot;</td><td>&quot;Ada&quot;</td><td>&quot;Ada&quot;</td><td>&quot;Ada&quot;</td><td>&quot;Ada&quot;</td><td>&quot;Ada&quot;</td><td>&quot;Tidak ada&quot;</td></tr><tr><td>&quot;SULAWESI BARAT&quot;</td><td>&quot;MAMUJU TENGAH&quot;</td><td>&quot;TOBADAK&quot;</td><td>&quot;PALONGAAN&quot;</td><td>-2.105264</td><td>119.40054</td><td>1</td><td>&quot;Ada&quot;</td><td>&quot;Ada&quot;</td><td>&quot;Ada&quot;</td><td>&quot;Ada&quot;</td><td>&quot;Ada&quot;</td><td>&quot;Tidak ada&quot;</td><td>&quot;Tidak ada&quot;</td></tr><tr><td>&quot;SULAWESI BARAT&quot;</td><td>&quot;MAMUJU TENGAH&quot;</td><td>&quot;TOBADAK&quot;</td><td>&quot;BATU PARIGI&quot;</td><td>-2.07222</td><td>119.538128</td><td>1</td><td>&quot;Ada&quot;</td><td>&quot;Ada&quot;</td><td>&quot;Ada&quot;</td><td>&quot;Tidak ada&quot;</td><td>&quot;Ada&quot;</td><td>&quot;Tidak ada&quot;</td><td>&quot;Ada&quot;</td></tr></tbody></table></div>"
      ],
      "text/plain": [
       "shape: (5, 14)\n",
       "┌─────────────┬─────────────┬───────────┬────────────┬───┬───────────┬─────┬───────────┬───────────┐\n",
       "│ PROVINSI    ┆ KABUPATEN   ┆ KECAMATAN ┆ KELURAHAN  ┆ … ┆ BKR       ┆ BKL ┆ UPPKA     ┆ PIK-R     │\n",
       "│ ---         ┆ ---         ┆ ---       ┆ ---        ┆   ┆ ---       ┆ --- ┆ ---       ┆ ---       │\n",
       "│ str         ┆ str         ┆ str       ┆ str        ┆   ┆ str       ┆ str ┆ str       ┆ str       │\n",
       "╞═════════════╪═════════════╪═══════════╪════════════╪═══╪═══════════╪═════╪═══════════╪═══════════╡\n",
       "│ SULAWESI    ┆ MAMUJU      ┆ TOBADAK   ┆ MAHAHE     ┆ … ┆ Ada       ┆ Ada ┆ Ada       ┆ Ada       │\n",
       "│ BARAT       ┆ TENGAH      ┆           ┆            ┆   ┆           ┆     ┆           ┆           │\n",
       "│ SULAWESI    ┆ MAMUJU      ┆ TOBADAK   ┆ SALOBAJA   ┆ … ┆ Ada       ┆ Ada ┆ Ada       ┆ Ada       │\n",
       "│ BARAT       ┆ TENGAH      ┆           ┆            ┆   ┆           ┆     ┆           ┆           │\n",
       "│ SULAWESI    ┆ MAMUJU      ┆ TOBADAK   ┆ TOBADAK    ┆ … ┆ Ada       ┆ Ada ┆ Ada       ┆ Tidak ada │\n",
       "│ BARAT       ┆ TENGAH      ┆           ┆            ┆   ┆           ┆     ┆           ┆           │\n",
       "│ SULAWESI    ┆ MAMUJU      ┆ TOBADAK   ┆ PALONGAAN  ┆ … ┆ Ada       ┆ Ada ┆ Tidak ada ┆ Tidak ada │\n",
       "│ BARAT       ┆ TENGAH      ┆           ┆            ┆   ┆           ┆     ┆           ┆           │\n",
       "│ SULAWESI    ┆ MAMUJU      ┆ TOBADAK   ┆ BATU       ┆ … ┆ Tidak ada ┆ Ada ┆ Tidak ada ┆ Ada       │\n",
       "│ BARAT       ┆ TENGAH      ┆           ┆ PARIGI     ┆   ┆           ┆     ┆           ┆           │\n",
       "└─────────────┴─────────────┴───────────┴────────────┴───┴───────────┴─────┴───────────┴───────────┘"
      ]
     },
     "execution_count": 2,
     "metadata": {},
     "output_type": "execute_result"
    }
   ],
   "source": [
    "data_poktan = pl.read_csv(\"data/profil_poktan.csv\")\n",
    "data_poktan.head(5)"
   ]
  },
  {
   "cell_type": "code",
   "execution_count": 9,
   "metadata": {},
   "outputs": [
    {
     "data": {
      "text/html": [
       "<div><style>\n",
       ".dataframe > thead > tr,\n",
       ".dataframe > tbody > tr {\n",
       "  text-align: right;\n",
       "  white-space: pre-wrap;\n",
       "}\n",
       "</style>\n",
       "<small>shape: (8, 2)</small><table border=\"1\" class=\"dataframe\"><thead><tr><th>Variable</th><th>jumlah_ada</th></tr><tr><td>str</td><td>i64</td></tr></thead><tbody><tr><td>&quot;Desa/Kelurahan…</td><td>648</td></tr><tr><td>&quot;Kampung KB&quot;</td><td>518</td></tr><tr><td>&quot;Rumah DataKU&quot;</td><td>506</td></tr><tr><td>&quot;BKB&quot;</td><td>595</td></tr><tr><td>&quot;BKR&quot;</td><td>505</td></tr><tr><td>&quot;BKL&quot;</td><td>505</td></tr><tr><td>&quot;UPPKA&quot;</td><td>430</td></tr><tr><td>&quot;PIK-R&quot;</td><td>441</td></tr></tbody></table></div>"
      ],
      "text/plain": [
       "shape: (8, 2)\n",
       "┌────────────────┬────────────┐\n",
       "│ Variable       ┆ jumlah_ada │\n",
       "│ ---            ┆ ---        │\n",
       "│ str            ┆ i64        │\n",
       "╞════════════════╪════════════╡\n",
       "│ Desa/Kelurahan ┆ 648        │\n",
       "│ Kampung KB     ┆ 518        │\n",
       "│ Rumah DataKU   ┆ 506        │\n",
       "│ BKB            ┆ 595        │\n",
       "│ BKR            ┆ 505        │\n",
       "│ BKL            ┆ 505        │\n",
       "│ UPPKA          ┆ 430        │\n",
       "│ PIK-R          ┆ 441        │\n",
       "└────────────────┴────────────┘"
      ]
     },
     "execution_count": 9,
     "metadata": {},
     "output_type": "execute_result"
    }
   ],
   "source": [
    "# List kolom yang akan dihitung\n",
    "columns_to_count = [\"Kampung KB\", \"Rumah DataKU\", \"BKB\", \"BKR\", \"BKL\", \"UPPKA\", \"PIK-R\"]\n",
    "\n",
    "# Menghitung jumlah \"Ada\" untuk setiap kolom\n",
    "counts = [data_poktan[col].str.count_matches(\"Ada\").sum() for col in columns_to_count]\n",
    "\n",
    "# Menghitung jumlah desa unik berdasarkan kombinasi KECAMATAN dan KELURAHAN\n",
    "unique_desa = data_poktan.select([\"KECAMATAN\", \"KELURAHAN\"]).unique().shape[0]\n",
    "\n",
    "# Membuat DataFrame hasil\n",
    "results = pl.DataFrame({\n",
    "    \"Variable\": [\"Desa/Kelurahan\"] + columns_to_count,\n",
    "    \"jumlah_ada\": [unique_desa] + counts\n",
    "})\n",
    "\n",
    "results"
   ]
  },
  {
   "cell_type": "code",
   "execution_count": 10,
   "metadata": {},
   "outputs": [
    {
     "data": {
      "text/html": [
       "<div><style>\n",
       ".dataframe > thead > tr,\n",
       ".dataframe > tbody > tr {\n",
       "  text-align: right;\n",
       "  white-space: pre-wrap;\n",
       "}\n",
       "</style>\n",
       "<small>shape: (7, 2)</small><table border=\"1\" class=\"dataframe\"><thead><tr><th>Variable</th><th>jumlah_ada</th></tr><tr><td>str</td><td>i64</td></tr></thead><tbody><tr><td>&quot;Kampung KB&quot;</td><td>5</td></tr><tr><td>&quot;Rumah DataKU&quot;</td><td>0</td></tr><tr><td>&quot;BKB&quot;</td><td>5</td></tr><tr><td>&quot;BKR&quot;</td><td>5</td></tr><tr><td>&quot;BKL&quot;</td><td>0</td></tr><tr><td>&quot;UPPKA&quot;</td><td>5</td></tr><tr><td>&quot;PIK-R&quot;</td><td>0</td></tr></tbody></table></div>"
      ],
      "text/plain": [
       "shape: (7, 2)\n",
       "┌──────────────┬────────────┐\n",
       "│ Variable     ┆ jumlah_ada │\n",
       "│ ---          ┆ ---        │\n",
       "│ str          ┆ i64        │\n",
       "╞══════════════╪════════════╡\n",
       "│ Kampung KB   ┆ 5          │\n",
       "│ Rumah DataKU ┆ 0          │\n",
       "│ BKB          ┆ 5          │\n",
       "│ BKR          ┆ 5          │\n",
       "│ BKL          ┆ 0          │\n",
       "│ UPPKA        ┆ 5          │\n",
       "│ PIK-R        ┆ 0          │\n",
       "└──────────────┴────────────┘"
      ]
     },
     "execution_count": 10,
     "metadata": {},
     "output_type": "execute_result"
    }
   ],
   "source": [
    "import polars as pl\n",
    "\n",
    "# Membuat DataFrame dari data yang ada\n",
    "data = {\n",
    "    \"KABUPATEN\": [\"MAMUJU TENGAH\"] * 5,\n",
    "    \"KECAMATAN\": [\"TOBADAK\"] * 5,\n",
    "    \"KELURAHAN\": [\"MAHAHE\", \"SALOBAJA\", \"TOBADAK\", \"PALONGAAN\", \"BATU PARIGI\"],\n",
    "    \"LATITUDE\": [\"-2.122958\", \"-2.156691\", \"-2.104302\", \"-2.105264\", \"-2.07222\"],\n",
    "    \"LONGITUDE\": [119.365442, 119.336074, 119.491646, 119.40054, 119.538128],\n",
    "    \"PUS\": [1] * 5,\n",
    "    \"Kampung KB\": [\"Ada\"] * 5,\n",
    "    \"Rumah DataKU\": [\"Tidak ada\"] * 5,\n",
    "    \"BKB\": [\"Ada\"] * 5,\n",
    "    \"BKR\": [\"Ada\"] * 5,\n",
    "    \"BKL\": [\"Tidak ada\"] * 5,\n",
    "    \"UPPKA\": [\"Ada\"] * 5,\n",
    "    \"PIK-R\": [\"Tidak ada\"] * 5\n",
    "}\n",
    "\n",
    "df = pl.DataFrame(data)\n",
    "\n",
    "# List kolom yang akan dihitung\n",
    "columns_to_count = [\"Kampung KB\", \"Rumah DataKU\", \"BKB\", \"BKR\", \"BKL\", \"UPPKA\", \"PIK-R\"]\n",
    "\n",
    "# Menghitung jumlah \"Ada\" untuk setiap kolom dan menyusunnya ke dalam DataFrame baru\n",
    "results = pl.DataFrame({\n",
    "    \"Variable\": columns_to_count,\n",
    "    \"jumlah_ada\": [df[col].str.count_matches(\"Ada\").sum() for col in columns_to_count]\n",
    "})\n",
    "\n",
    "# Menampilkan hasil\n",
    "results\n"
   ]
  },
  {
   "cell_type": "code",
   "execution_count": null,
   "metadata": {},
   "outputs": [],
   "source": [
    "import plotly.graph_objs as go\n",
    "import pandas as pd\n",
    "\n",
    "# Load the data into a pandas DataFrame\n",
    "df = pd.read_csv(\"population_data.csv\")\n",
    "\n",
    "# Create the male and female bar traces\n",
    "trace_male = go.Bar(x=df[df[\"gender\"]==\"M\"][\"count\"],\n",
    "                \ty=df[df[\"gender\"]==\"M\"][\"age\"],\n",
    "                \torientation=\"h\",\n",
    "                \tname=\"Male\",\n",
    "                \tmarker=dict(color=\"#1f77b4\"))\n",
    "\n",
    "trace_female = go.Bar(x=df[df[\"gender\"]==\"F\"][\"count\"]*(-1),\n",
    "                  \ty=df[df[\"gender\"]==\"F\"][\"age\"],\n",
    "                  \torientation=\"h\",\n",
    "                  \tname=\"Female\",\n",
    "                  \tmarker=dict(color=\"#d62728\"))\n",
    "\n",
    "# Create the layout\n",
    "layout = go.Layout(title=\"Population Pyramid\",\n",
    "               \txaxis=dict(title=\"Count\"),\n",
    "               \tyaxis=dict(title=\"Age\"),\n",
    "               \tbarmode=\"overlay\",\n",
    "               \tbargap=0.1)\n",
    "\n",
    "# Create the figure\n",
    "fig = go.Figure(data=[trace_male, trace_female], layout=layout)\n",
    "\n",
    "# Show the plot\n",
    "fig.show()"
   ]
  },
  {
   "cell_type": "code",
   "execution_count": 52,
   "metadata": {},
   "outputs": [
    {
     "data": {
      "text/html": [
       "<div><style>\n",
       ".dataframe > thead > tr,\n",
       ".dataframe > tbody > tr {\n",
       "  text-align: right;\n",
       "  white-space: pre-wrap;\n",
       "}\n",
       "</style>\n",
       "<small>shape: (17, 3)</small><table border=\"1\" class=\"dataframe\"><thead><tr><th>PROVINSI</th><th>Age_Group</th><th>Laki-laki</th></tr><tr><td>str</td><td>str</td><td>i64</td></tr></thead><tbody><tr><td>&quot;SULAWESI BARAT…</td><td>&quot;Umur 0 - 1&quot;</td><td>7655</td></tr><tr><td>&quot;SULAWESI BARAT…</td><td>&quot;Umur 2 - 4&quot;</td><td>31161</td></tr><tr><td>&quot;SULAWESI BARAT…</td><td>&quot;Umur 5 - 9&quot;</td><td>59619</td></tr><tr><td>&quot;SULAWESI BARAT…</td><td>&quot;Umur 10 - 14&quot;</td><td>62885</td></tr><tr><td>&quot;SULAWESI BARAT…</td><td>&quot;Umur 15 - 19&quot;</td><td>67733</td></tr><tr><td>&quot;SULAWESI BARAT…</td><td>&quot;Umur 20 - 24&quot;</td><td>63400</td></tr><tr><td>&quot;SULAWESI BARAT…</td><td>&quot;Umur 25 - 29&quot;</td><td>50836</td></tr><tr><td>&quot;SULAWESI BARAT…</td><td>&quot;Umur 30 - 34&quot;</td><td>44164</td></tr><tr><td>&quot;SULAWESI BARAT…</td><td>&quot;Umur 35 - 39&quot;</td><td>43901</td></tr><tr><td>&quot;SULAWESI BARAT…</td><td>&quot;Umur 40 - 44&quot;</td><td>43060</td></tr><tr><td>&quot;SULAWESI BARAT…</td><td>&quot;Umur 45 - 49&quot;</td><td>37852</td></tr><tr><td>&quot;SULAWESI BARAT…</td><td>&quot;Umur 50 - 54&quot;</td><td>35784</td></tr><tr><td>&quot;SULAWESI BARAT…</td><td>&quot;Umur 55 - 59&quot;</td><td>23180</td></tr><tr><td>&quot;SULAWESI BARAT…</td><td>&quot;Umur 60 - 64&quot;</td><td>16926</td></tr><tr><td>&quot;SULAWESI BARAT…</td><td>&quot;Umur 65 - 69&quot;</td><td>10960</td></tr><tr><td>&quot;SULAWESI BARAT…</td><td>&quot;Umur 70 - 74&quot;</td><td>7635</td></tr><tr><td>&quot;SULAWESI BARAT…</td><td>&quot;Umur 75+&quot;</td><td>8956</td></tr></tbody></table></div>"
      ],
      "text/plain": [
       "shape: (17, 3)\n",
       "┌────────────────┬──────────────┬───────────┐\n",
       "│ PROVINSI       ┆ Age_Group    ┆ Laki-laki │\n",
       "│ ---            ┆ ---          ┆ ---       │\n",
       "│ str            ┆ str          ┆ i64       │\n",
       "╞════════════════╪══════════════╪═══════════╡\n",
       "│ SULAWESI BARAT ┆ Umur 0 - 1   ┆ 7655      │\n",
       "│ SULAWESI BARAT ┆ Umur 2 - 4   ┆ 31161     │\n",
       "│ SULAWESI BARAT ┆ Umur 5 - 9   ┆ 59619     │\n",
       "│ SULAWESI BARAT ┆ Umur 10 - 14 ┆ 62885     │\n",
       "│ SULAWESI BARAT ┆ Umur 15 - 19 ┆ 67733     │\n",
       "│ …              ┆ …            ┆ …         │\n",
       "│ SULAWESI BARAT ┆ Umur 55 - 59 ┆ 23180     │\n",
       "│ SULAWESI BARAT ┆ Umur 60 - 64 ┆ 16926     │\n",
       "│ SULAWESI BARAT ┆ Umur 65 - 69 ┆ 10960     │\n",
       "│ SULAWESI BARAT ┆ Umur 70 - 74 ┆ 7635      │\n",
       "│ SULAWESI BARAT ┆ Umur 75+     ┆ 8956      │\n",
       "└────────────────┴──────────────┴───────────┘"
      ]
     },
     "execution_count": 52,
     "metadata": {},
     "output_type": "execute_result"
    }
   ],
   "source": [
    "kelompok_umur_lk = pl.read_csv('data/PIRAMIDA PENDUDUK - Laki-laki.csv')\n",
    "\n",
    "# Mendefinisikan range kolom yang akan dijumlahkan\n",
    "columns_to_sum = [kelompok_umur_lk.columns[i] for i in range(6, 23)]\n",
    "\n",
    "# Membuat daftar agregasi\n",
    "aggregations = [pl.sum(col) for col in columns_to_sum]\n",
    "\n",
    "# Melakukan pengelompokan dan agregasi\n",
    "result = kelompok_umur_lk.group_by(\"PROVINSI\").agg(aggregations)\n",
    "\n",
    "# Asumsi bahwa 'result' adalah DataFrame yang dihasilkan dari kode sebelumnya\n",
    "columns_to_melt = [col for col in result.columns if col != \"PROVINSI\"]\n",
    "\n",
    "# Melakukan melt pada DataFrame\n",
    "melted_result_lk = result.melt(\n",
    "    id_vars=[\"PROVINSI\"], \n",
    "    value_vars=columns_to_melt, \n",
    "    variable_name=\"Age_Group\", \n",
    "    value_name=\"Laki-laki\"\n",
    ")\n",
    "\n",
    "# Menambahkan kolom 'Jenis_Kelamin' dengan isi 'Laki-laki'\n",
    "#melted_result_lk = melted_result.with_columns([pl.lit(\"Laki-laki\").alias(\"Jenis_Kelamin\")])\n",
    "\n",
    "# Menampilkan hasil\n",
    "melted_result_lk"
   ]
  },
  {
   "cell_type": "code",
   "execution_count": 53,
   "metadata": {},
   "outputs": [
    {
     "data": {
      "text/html": [
       "<div><style>\n",
       ".dataframe > thead > tr,\n",
       ".dataframe > tbody > tr {\n",
       "  text-align: right;\n",
       "  white-space: pre-wrap;\n",
       "}\n",
       "</style>\n",
       "<small>shape: (2, 23)</small><table border=\"1\" class=\"dataframe\"><thead><tr><th>PROVINSI</th><th>KABUPATEN</th><th>KECAMATAN</th><th>KODE</th><th>KELURAHAN</th><th>Jumlah_Penduduk</th><th>Umur 0 - 1</th><th>Umur 2 - 4</th><th>Umur 5 - 9</th><th>Umur 10 - 14</th><th>Umur 15 - 19</th><th>Umur 20 - 24</th><th>Umur 25 - 29</th><th>Umur 30 - 34</th><th>Umur 35 - 39</th><th>Umur 40 - 44</th><th>Umur 45 - 49</th><th>Umur 50 - 54</th><th>Umur 55 - 59</th><th>Umur 60 - 64</th><th>Umur 65 - 69</th><th>Umur 70 - 74</th><th>Umur 75+</th></tr><tr><td>str</td><td>str</td><td>str</td><td>i64</td><td>str</td><td>i64</td><td>i64</td><td>i64</td><td>i64</td><td>i64</td><td>i64</td><td>i64</td><td>i64</td><td>i64</td><td>i64</td><td>i64</td><td>i64</td><td>i64</td><td>i64</td><td>i64</td><td>i64</td><td>i64</td><td>i64</td></tr></thead><tbody><tr><td>&quot;SULAWESI BARAT…</td><td>&quot;PASANGKAYU&quot;</td><td>&quot;BAMBALAMOTU&quot;</td><td>1006</td><td>&quot;BAMBALAMOTU&quot;</td><td>1994</td><td>52</td><td>111</td><td>205</td><td>217</td><td>263</td><td>186</td><td>157</td><td>129</td><td>142</td><td>135</td><td>107</td><td>115</td><td>76</td><td>46</td><td>19</td><td>20</td><td>14</td></tr><tr><td>&quot;SULAWESI BARAT…</td><td>&quot;PASANGKAYU&quot;</td><td>&quot;BAMBALAMOTU&quot;</td><td>2003</td><td>&quot;POLEWALI&quot;</td><td>1712</td><td>20</td><td>96</td><td>188</td><td>172</td><td>213</td><td>166</td><td>125</td><td>107</td><td>126</td><td>125</td><td>107</td><td>100</td><td>58</td><td>53</td><td>21</td><td>21</td><td>14</td></tr></tbody></table></div>"
      ],
      "text/plain": [
       "shape: (2, 23)\n",
       "┌────────────┬────────────┬────────────┬──────┬───┬────────────┬────────────┬───────────┬──────────┐\n",
       "│ PROVINSI   ┆ KABUPATEN  ┆ KECAMATAN  ┆ KODE ┆ … ┆ Umur 60 -  ┆ Umur 65 -  ┆ Umur 70 - ┆ Umur 75+ │\n",
       "│ ---        ┆ ---        ┆ ---        ┆ ---  ┆   ┆ 64         ┆ 69         ┆ 74        ┆ ---      │\n",
       "│ str        ┆ str        ┆ str        ┆ i64  ┆   ┆ ---        ┆ ---        ┆ ---       ┆ i64      │\n",
       "│            ┆            ┆            ┆      ┆   ┆ i64        ┆ i64        ┆ i64       ┆          │\n",
       "╞════════════╪════════════╪════════════╪══════╪═══╪════════════╪════════════╪═══════════╪══════════╡\n",
       "│ SULAWESI   ┆ PASANGKAYU ┆ BAMBALAMOT ┆ 1006 ┆ … ┆ 46         ┆ 19         ┆ 20        ┆ 14       │\n",
       "│ BARAT      ┆            ┆ U          ┆      ┆   ┆            ┆            ┆           ┆          │\n",
       "│ SULAWESI   ┆ PASANGKAYU ┆ BAMBALAMOT ┆ 2003 ┆ … ┆ 53         ┆ 21         ┆ 21        ┆ 14       │\n",
       "│ BARAT      ┆            ┆ U          ┆      ┆   ┆            ┆            ┆           ┆          │\n",
       "└────────────┴────────────┴────────────┴──────┴───┴────────────┴────────────┴───────────┴──────────┘"
      ]
     },
     "execution_count": 53,
     "metadata": {},
     "output_type": "execute_result"
    }
   ],
   "source": [
    "kelompok_umur_lk.head(2)"
   ]
  },
  {
   "cell_type": "code",
   "execution_count": 40,
   "metadata": {},
   "outputs": [
    {
     "data": {
      "text/html": [
       "<div><style>\n",
       ".dataframe > thead > tr,\n",
       ".dataframe > tbody > tr {\n",
       "  text-align: right;\n",
       "  white-space: pre-wrap;\n",
       "}\n",
       "</style>\n",
       "<small>shape: (17, 3)</small><table border=\"1\" class=\"dataframe\"><thead><tr><th>PROVINSI</th><th>Age_Group</th><th>Perempuan</th></tr><tr><td>str</td><td>str</td><td>i64</td></tr></thead><tbody><tr><td>&quot;SULAWESI BARAT…</td><td>&quot;Umur 0 - 1&quot;</td><td>7111</td></tr><tr><td>&quot;SULAWESI BARAT…</td><td>&quot;Umur 2 - 4&quot;</td><td>28925</td></tr><tr><td>&quot;SULAWESI BARAT…</td><td>&quot;Umur 5 - 9&quot;</td><td>55267</td></tr><tr><td>&quot;SULAWESI BARAT…</td><td>&quot;Umur 10 - 14&quot;</td><td>58918</td></tr><tr><td>&quot;SULAWESI BARAT…</td><td>&quot;Umur 15 - 19&quot;</td><td>62332</td></tr><tr><td>&quot;SULAWESI BARAT…</td><td>&quot;Umur 20 - 24&quot;</td><td>60634</td></tr><tr><td>&quot;SULAWESI BARAT…</td><td>&quot;Umur 25 - 29&quot;</td><td>49743</td></tr><tr><td>&quot;SULAWESI BARAT…</td><td>&quot;Umur 30 - 34&quot;</td><td>44449</td></tr><tr><td>&quot;SULAWESI BARAT…</td><td>&quot;Umur 35 - 39&quot;</td><td>44751</td></tr><tr><td>&quot;SULAWESI BARAT…</td><td>&quot;Umur 40 - 44&quot;</td><td>42947</td></tr><tr><td>&quot;SULAWESI BARAT…</td><td>&quot;Umur 45 - 49&quot;</td><td>38118</td></tr><tr><td>&quot;SULAWESI BARAT…</td><td>&quot;Umur 50 - 54&quot;</td><td>33159</td></tr><tr><td>&quot;SULAWESI BARAT…</td><td>&quot;Umur 55 - 59&quot;</td><td>22622</td></tr><tr><td>&quot;SULAWESI BARAT…</td><td>&quot;Umur 60 - 64&quot;</td><td>16619</td></tr><tr><td>&quot;SULAWESI BARAT…</td><td>&quot;Umur 65 - 69&quot;</td><td>11118</td></tr><tr><td>&quot;SULAWESI BARAT…</td><td>&quot;Umur 70 - 74&quot;</td><td>8090</td></tr><tr><td>&quot;SULAWESI BARAT…</td><td>&quot;Umur 75+&quot;</td><td>10386</td></tr></tbody></table></div>"
      ],
      "text/plain": [
       "shape: (17, 3)\n",
       "┌────────────────┬──────────────┬───────────┐\n",
       "│ PROVINSI       ┆ Age_Group    ┆ Perempuan │\n",
       "│ ---            ┆ ---          ┆ ---       │\n",
       "│ str            ┆ str          ┆ i64       │\n",
       "╞════════════════╪══════════════╪═══════════╡\n",
       "│ SULAWESI BARAT ┆ Umur 0 - 1   ┆ 7111      │\n",
       "│ SULAWESI BARAT ┆ Umur 2 - 4   ┆ 28925     │\n",
       "│ SULAWESI BARAT ┆ Umur 5 - 9   ┆ 55267     │\n",
       "│ SULAWESI BARAT ┆ Umur 10 - 14 ┆ 58918     │\n",
       "│ SULAWESI BARAT ┆ Umur 15 - 19 ┆ 62332     │\n",
       "│ …              ┆ …            ┆ …         │\n",
       "│ SULAWESI BARAT ┆ Umur 55 - 59 ┆ 22622     │\n",
       "│ SULAWESI BARAT ┆ Umur 60 - 64 ┆ 16619     │\n",
       "│ SULAWESI BARAT ┆ Umur 65 - 69 ┆ 11118     │\n",
       "│ SULAWESI BARAT ┆ Umur 70 - 74 ┆ 8090      │\n",
       "│ SULAWESI BARAT ┆ Umur 75+     ┆ 10386     │\n",
       "└────────────────┴──────────────┴───────────┘"
      ]
     },
     "execution_count": 40,
     "metadata": {},
     "output_type": "execute_result"
    }
   ],
   "source": [
    "kelompok_umur_pr = pl.read_csv('data/PIRAMIDA PENDUDUK - Perempuan.csv')\n",
    "# Mendefinisikan range kolom yang akan dijumlahkan\n",
    "columns_to_sum = [kelompok_umur_pr.columns[i] for i in range(6, 23)]\n",
    "\n",
    "# Membuat daftar agregasi\n",
    "aggregations = [pl.sum(col) for col in columns_to_sum]\n",
    "\n",
    "# Melakukan pengelompokan dan agregasi\n",
    "result = kelompok_umur_pr.group_by(\"PROVINSI\").agg(aggregations)\n",
    "\n",
    "# Asumsi bahwa 'result' adalah DataFrame yang dihasilkan dari kode sebelumnya\n",
    "columns_to_melt = [col for col in result.columns if col != \"PROVINSI\"]\n",
    "\n",
    "# Melakukan melt pada DataFrame\n",
    "melted_result_pr = result.melt(\n",
    "    id_vars=[\"PROVINSI\"], \n",
    "    value_vars=columns_to_melt, \n",
    "    variable_name=\"Age_Group\", \n",
    "    value_name=\"Perempuan\"\n",
    ")\n",
    "\n",
    "# Menambahkan kolom 'Jenis_Kelamin' dengan isi 'Perempuan'\n",
    "#melted_result_pr = melted_result.with_columns([pl.lit(\"Perempuan\").alias(\"Jenis_Kelamin\")])\n",
    "\n",
    "# Menampilkan hasil\n",
    "melted_result_pr"
   ]
  },
  {
   "cell_type": "code",
   "execution_count": 41,
   "metadata": {},
   "outputs": [
    {
     "data": {
      "text/html": [
       "<div><style>\n",
       ".dataframe > thead > tr,\n",
       ".dataframe > tbody > tr {\n",
       "  text-align: right;\n",
       "  white-space: pre-wrap;\n",
       "}\n",
       "</style>\n",
       "<small>shape: (17, 6)</small><table border=\"1\" class=\"dataframe\"><thead><tr><th>PROVINSI</th><th>Age_Group</th><th>Perempuan</th><th>PROVINSI_right</th><th>Laki-laki</th><th>Kategori_Umur</th></tr><tr><td>str</td><td>str</td><td>i64</td><td>str</td><td>i64</td><td>str</td></tr></thead><tbody><tr><td>&quot;SULAWESI BARAT…</td><td>&quot;Umur 0 - 1&quot;</td><td>7111</td><td>&quot;SULAWESI BARAT…</td><td>7655</td><td>&quot;0 - 1&quot;</td></tr><tr><td>&quot;SULAWESI BARAT…</td><td>&quot;Umur 2 - 4&quot;</td><td>28925</td><td>&quot;SULAWESI BARAT…</td><td>31161</td><td>&quot;2 - 4&quot;</td></tr><tr><td>&quot;SULAWESI BARAT…</td><td>&quot;Umur 5 - 9&quot;</td><td>55267</td><td>&quot;SULAWESI BARAT…</td><td>59619</td><td>&quot;5 - 9&quot;</td></tr><tr><td>&quot;SULAWESI BARAT…</td><td>&quot;Umur 10 - 14&quot;</td><td>58918</td><td>&quot;SULAWESI BARAT…</td><td>62885</td><td>&quot;10 - 14&quot;</td></tr><tr><td>&quot;SULAWESI BARAT…</td><td>&quot;Umur 15 - 19&quot;</td><td>62332</td><td>&quot;SULAWESI BARAT…</td><td>67733</td><td>&quot;15 - 19&quot;</td></tr><tr><td>&quot;SULAWESI BARAT…</td><td>&quot;Umur 20 - 24&quot;</td><td>60634</td><td>&quot;SULAWESI BARAT…</td><td>63400</td><td>&quot;20 - 24&quot;</td></tr><tr><td>&quot;SULAWESI BARAT…</td><td>&quot;Umur 25 - 29&quot;</td><td>49743</td><td>&quot;SULAWESI BARAT…</td><td>50836</td><td>&quot;25 - 29&quot;</td></tr><tr><td>&quot;SULAWESI BARAT…</td><td>&quot;Umur 30 - 34&quot;</td><td>44449</td><td>&quot;SULAWESI BARAT…</td><td>44164</td><td>&quot;30 - 34&quot;</td></tr><tr><td>&quot;SULAWESI BARAT…</td><td>&quot;Umur 35 - 39&quot;</td><td>44751</td><td>&quot;SULAWESI BARAT…</td><td>43901</td><td>&quot;35 - 39&quot;</td></tr><tr><td>&quot;SULAWESI BARAT…</td><td>&quot;Umur 40 - 44&quot;</td><td>42947</td><td>&quot;SULAWESI BARAT…</td><td>43060</td><td>&quot;40 - 44&quot;</td></tr><tr><td>&quot;SULAWESI BARAT…</td><td>&quot;Umur 45 - 49&quot;</td><td>38118</td><td>&quot;SULAWESI BARAT…</td><td>37852</td><td>&quot;45 - 49&quot;</td></tr><tr><td>&quot;SULAWESI BARAT…</td><td>&quot;Umur 50 - 54&quot;</td><td>33159</td><td>&quot;SULAWESI BARAT…</td><td>35784</td><td>&quot;50 - 54&quot;</td></tr><tr><td>&quot;SULAWESI BARAT…</td><td>&quot;Umur 55 - 59&quot;</td><td>22622</td><td>&quot;SULAWESI BARAT…</td><td>23180</td><td>&quot;55 - 59&quot;</td></tr><tr><td>&quot;SULAWESI BARAT…</td><td>&quot;Umur 60 - 64&quot;</td><td>16619</td><td>&quot;SULAWESI BARAT…</td><td>16926</td><td>&quot;60 - 64&quot;</td></tr><tr><td>&quot;SULAWESI BARAT…</td><td>&quot;Umur 65 - 69&quot;</td><td>11118</td><td>&quot;SULAWESI BARAT…</td><td>10960</td><td>&quot;65 - 69&quot;</td></tr><tr><td>&quot;SULAWESI BARAT…</td><td>&quot;Umur 70 - 74&quot;</td><td>8090</td><td>&quot;SULAWESI BARAT…</td><td>7635</td><td>&quot;70 - 74&quot;</td></tr><tr><td>&quot;SULAWESI BARAT…</td><td>&quot;Umur 75+&quot;</td><td>10386</td><td>&quot;SULAWESI BARAT…</td><td>8956</td><td>&quot;75+&quot;</td></tr></tbody></table></div>"
      ],
      "text/plain": [
       "shape: (17, 6)\n",
       "┌────────────────┬──────────────┬───────────┬────────────────┬───────────┬───────────────┐\n",
       "│ PROVINSI       ┆ Age_Group    ┆ Perempuan ┆ PROVINSI_right ┆ Laki-laki ┆ Kategori_Umur │\n",
       "│ ---            ┆ ---          ┆ ---       ┆ ---            ┆ ---       ┆ ---           │\n",
       "│ str            ┆ str          ┆ i64       ┆ str            ┆ i64       ┆ str           │\n",
       "╞════════════════╪══════════════╪═══════════╪════════════════╪═══════════╪═══════════════╡\n",
       "│ SULAWESI BARAT ┆ Umur 0 - 1   ┆ 7111      ┆ SULAWESI BARAT ┆ 7655      ┆ 0 - 1         │\n",
       "│ SULAWESI BARAT ┆ Umur 2 - 4   ┆ 28925     ┆ SULAWESI BARAT ┆ 31161     ┆ 2 - 4         │\n",
       "│ SULAWESI BARAT ┆ Umur 5 - 9   ┆ 55267     ┆ SULAWESI BARAT ┆ 59619     ┆ 5 - 9         │\n",
       "│ SULAWESI BARAT ┆ Umur 10 - 14 ┆ 58918     ┆ SULAWESI BARAT ┆ 62885     ┆ 10 - 14       │\n",
       "│ SULAWESI BARAT ┆ Umur 15 - 19 ┆ 62332     ┆ SULAWESI BARAT ┆ 67733     ┆ 15 - 19       │\n",
       "│ …              ┆ …            ┆ …         ┆ …              ┆ …         ┆ …             │\n",
       "│ SULAWESI BARAT ┆ Umur 55 - 59 ┆ 22622     ┆ SULAWESI BARAT ┆ 23180     ┆ 55 - 59       │\n",
       "│ SULAWESI BARAT ┆ Umur 60 - 64 ┆ 16619     ┆ SULAWESI BARAT ┆ 16926     ┆ 60 - 64       │\n",
       "│ SULAWESI BARAT ┆ Umur 65 - 69 ┆ 11118     ┆ SULAWESI BARAT ┆ 10960     ┆ 65 - 69       │\n",
       "│ SULAWESI BARAT ┆ Umur 70 - 74 ┆ 8090      ┆ SULAWESI BARAT ┆ 7635      ┆ 70 - 74       │\n",
       "│ SULAWESI BARAT ┆ Umur 75+     ┆ 10386     ┆ SULAWESI BARAT ┆ 8956      ┆ 75+           │\n",
       "└────────────────┴──────────────┴───────────┴────────────────┴───────────┴───────────────┘"
      ]
     },
     "execution_count": 41,
     "metadata": {},
     "output_type": "execute_result"
    }
   ],
   "source": [
    "df_horizontal_join = melted_result_pr.join(melted_result_lk, on=\"Age_Group\", how=\"inner\")\n",
    "\n",
    "# Daftar kategori usia\n",
    "ku = [\"0 - 1\", \"2 - 4\", \"5 - 9\", \"10 - 14\", \"15 - 19\", \n",
    "      \"20 - 24\", \"25 - 29\", \"30 - 34\", \"35 - 39\", \"40 - 44\", \n",
    "      \"45 - 49\", \"50 - 54\", \"55 - 59\", \"60 - 64\", \n",
    "      \"65 - 69\", \"70 - 74\", \"75+\"]\n",
    "\n",
    "# Menghitung berapa kali daftar ku perlu diulang\n",
    "repeat_count = df_horizontal_join.shape[0] // len(ku) + 1\n",
    "repeated_ku = (ku * repeat_count)[:df_horizontal_join.shape[0]]\n",
    "\n",
    "# Menambahkan kolom kategori umur\n",
    "df_horizontal_join = df_horizontal_join.with_columns([pl.Series(name=\"Kategori_Umur\", values=repeated_ku)])\n",
    "\n",
    "df_horizontal_join"
   ]
  },
  {
   "cell_type": "code",
   "execution_count": 43,
   "metadata": {},
   "outputs": [],
   "source": [
    "y_age = df_horizontal_join['Kategori_Umur'] \n",
    "x_M = df_horizontal_join['Laki-laki'] \n",
    "x_F = df_horizontal_join['Perempuan'] * -1\n",
    "\n",
    "if max(x_M) >= max(x_F):\n",
    "    maks = max(x_M)\n",
    "else:\n",
    "    maks = max(x_F)\n",
    "\n",
    "import math\n",
    "\n",
    "def round_up_to_nearest(number, base):\n",
    "    return base * math.ceil(number / base)\n",
    "\n",
    "def auto_round_up(number):\n",
    "    if number == 0:\n",
    "        return 0\n",
    "    base = 10 ** (len(str(number)) - 1)\n",
    "    return round_up_to_nearest(number, base)\n",
    "\n",
    "maks1 = auto_round_up(maks)\n",
    "maks2 = auto_round_up(int(maks - (maks * 1 / 3)))\n",
    "maks3 = auto_round_up(int(maks - (maks * 2 / 3)))\n",
    "\n",
    "tick_vals = [-maks1, -maks2, -maks3, 0, maks1, maks2, maks3]\n",
    "tick_str = [str(abs(value)) for value in tick_vals]"
   ]
  },
  {
   "cell_type": "code",
   "execution_count": 44,
   "metadata": {},
   "outputs": [],
   "source": []
  },
  {
   "cell_type": "code",
   "execution_count": 50,
   "metadata": {},
   "outputs": [
    {
     "data": {
      "application/vnd.plotly.v1+json": {
       "config": {
        "plotlyServerURL": "https://plot.ly"
       },
       "data": [
        {
         "customdata": [
          7111,
          28925,
          55267,
          58918,
          62332,
          60634,
          49743,
          44449,
          44751,
          42947,
          38118,
          33159,
          22622,
          16619,
          11118,
          8090,
          10386
         ],
         "hovertemplate": "Perempuan Umur %{y}<br>Jumlah: %{customdata}<extra></extra>",
         "marker": {
          "color": "#ffc107"
         },
         "name": "Perempuan",
         "orientation": "h",
         "type": "bar",
         "x": [
          -7111,
          -28925,
          -55267,
          -58918,
          -62332,
          -60634,
          -49743,
          -44449,
          -44751,
          -42947,
          -38118,
          -33159,
          -22622,
          -16619,
          -11118,
          -8090,
          -10386
         ],
         "y": [
          "0 - 1",
          "2 - 4",
          "5 - 9",
          "10 - 14",
          "15 - 19",
          "20 - 24",
          "25 - 29",
          "30 - 34",
          "35 - 39",
          "40 - 44",
          "45 - 49",
          "50 - 54",
          "55 - 59",
          "60 - 64",
          "65 - 69",
          "70 - 74",
          "75+"
         ]
        },
        {
         "hovertemplate": "Laki-laki Umur %{y}<br> %{x}<extra></extra>",
         "marker": {
          "color": "#0d6efd"
         },
         "name": "Laki-laki",
         "orientation": "h",
         "type": "bar",
         "x": [
          7655,
          31161,
          59619,
          62885,
          67733,
          63400,
          50836,
          44164,
          43901,
          43060,
          37852,
          35784,
          23180,
          16926,
          10960,
          7635,
          8956
         ],
         "y": [
          "0 - 1",
          "2 - 4",
          "5 - 9",
          "10 - 14",
          "15 - 19",
          "20 - 24",
          "25 - 29",
          "30 - 34",
          "35 - 39",
          "40 - 44",
          "45 - 49",
          "50 - 54",
          "55 - 59",
          "60 - 64",
          "65 - 69",
          "70 - 74",
          "75+"
         ]
        }
       ],
       "layout": {
        "bargap": 0,
        "bargroupgap": 0,
        "barmode": "relative",
        "legend": {
         "orientation": "h",
         "x": 0.5,
         "xanchor": "center",
         "y": -0.3,
         "yanchor": "bottom"
        },
        "paper_bgcolor": "#f6f8fa",
        "plot_bgcolor": "#f6f8fa",
        "template": {
         "data": {
          "bar": [
           {
            "error_x": {
             "color": "#2a3f5f"
            },
            "error_y": {
             "color": "#2a3f5f"
            },
            "marker": {
             "line": {
              "color": "#E5ECF6",
              "width": 0.5
             },
             "pattern": {
              "fillmode": "overlay",
              "size": 10,
              "solidity": 0.2
             }
            },
            "type": "bar"
           }
          ],
          "barpolar": [
           {
            "marker": {
             "line": {
              "color": "#E5ECF6",
              "width": 0.5
             },
             "pattern": {
              "fillmode": "overlay",
              "size": 10,
              "solidity": 0.2
             }
            },
            "type": "barpolar"
           }
          ],
          "carpet": [
           {
            "aaxis": {
             "endlinecolor": "#2a3f5f",
             "gridcolor": "white",
             "linecolor": "white",
             "minorgridcolor": "white",
             "startlinecolor": "#2a3f5f"
            },
            "baxis": {
             "endlinecolor": "#2a3f5f",
             "gridcolor": "white",
             "linecolor": "white",
             "minorgridcolor": "white",
             "startlinecolor": "#2a3f5f"
            },
            "type": "carpet"
           }
          ],
          "choropleth": [
           {
            "colorbar": {
             "outlinewidth": 0,
             "ticks": ""
            },
            "type": "choropleth"
           }
          ],
          "contour": [
           {
            "colorbar": {
             "outlinewidth": 0,
             "ticks": ""
            },
            "colorscale": [
             [
              0,
              "#0d0887"
             ],
             [
              0.1111111111111111,
              "#46039f"
             ],
             [
              0.2222222222222222,
              "#7201a8"
             ],
             [
              0.3333333333333333,
              "#9c179e"
             ],
             [
              0.4444444444444444,
              "#bd3786"
             ],
             [
              0.5555555555555556,
              "#d8576b"
             ],
             [
              0.6666666666666666,
              "#ed7953"
             ],
             [
              0.7777777777777778,
              "#fb9f3a"
             ],
             [
              0.8888888888888888,
              "#fdca26"
             ],
             [
              1,
              "#f0f921"
             ]
            ],
            "type": "contour"
           }
          ],
          "contourcarpet": [
           {
            "colorbar": {
             "outlinewidth": 0,
             "ticks": ""
            },
            "type": "contourcarpet"
           }
          ],
          "heatmap": [
           {
            "colorbar": {
             "outlinewidth": 0,
             "ticks": ""
            },
            "colorscale": [
             [
              0,
              "#0d0887"
             ],
             [
              0.1111111111111111,
              "#46039f"
             ],
             [
              0.2222222222222222,
              "#7201a8"
             ],
             [
              0.3333333333333333,
              "#9c179e"
             ],
             [
              0.4444444444444444,
              "#bd3786"
             ],
             [
              0.5555555555555556,
              "#d8576b"
             ],
             [
              0.6666666666666666,
              "#ed7953"
             ],
             [
              0.7777777777777778,
              "#fb9f3a"
             ],
             [
              0.8888888888888888,
              "#fdca26"
             ],
             [
              1,
              "#f0f921"
             ]
            ],
            "type": "heatmap"
           }
          ],
          "heatmapgl": [
           {
            "colorbar": {
             "outlinewidth": 0,
             "ticks": ""
            },
            "colorscale": [
             [
              0,
              "#0d0887"
             ],
             [
              0.1111111111111111,
              "#46039f"
             ],
             [
              0.2222222222222222,
              "#7201a8"
             ],
             [
              0.3333333333333333,
              "#9c179e"
             ],
             [
              0.4444444444444444,
              "#bd3786"
             ],
             [
              0.5555555555555556,
              "#d8576b"
             ],
             [
              0.6666666666666666,
              "#ed7953"
             ],
             [
              0.7777777777777778,
              "#fb9f3a"
             ],
             [
              0.8888888888888888,
              "#fdca26"
             ],
             [
              1,
              "#f0f921"
             ]
            ],
            "type": "heatmapgl"
           }
          ],
          "histogram": [
           {
            "marker": {
             "pattern": {
              "fillmode": "overlay",
              "size": 10,
              "solidity": 0.2
             }
            },
            "type": "histogram"
           }
          ],
          "histogram2d": [
           {
            "colorbar": {
             "outlinewidth": 0,
             "ticks": ""
            },
            "colorscale": [
             [
              0,
              "#0d0887"
             ],
             [
              0.1111111111111111,
              "#46039f"
             ],
             [
              0.2222222222222222,
              "#7201a8"
             ],
             [
              0.3333333333333333,
              "#9c179e"
             ],
             [
              0.4444444444444444,
              "#bd3786"
             ],
             [
              0.5555555555555556,
              "#d8576b"
             ],
             [
              0.6666666666666666,
              "#ed7953"
             ],
             [
              0.7777777777777778,
              "#fb9f3a"
             ],
             [
              0.8888888888888888,
              "#fdca26"
             ],
             [
              1,
              "#f0f921"
             ]
            ],
            "type": "histogram2d"
           }
          ],
          "histogram2dcontour": [
           {
            "colorbar": {
             "outlinewidth": 0,
             "ticks": ""
            },
            "colorscale": [
             [
              0,
              "#0d0887"
             ],
             [
              0.1111111111111111,
              "#46039f"
             ],
             [
              0.2222222222222222,
              "#7201a8"
             ],
             [
              0.3333333333333333,
              "#9c179e"
             ],
             [
              0.4444444444444444,
              "#bd3786"
             ],
             [
              0.5555555555555556,
              "#d8576b"
             ],
             [
              0.6666666666666666,
              "#ed7953"
             ],
             [
              0.7777777777777778,
              "#fb9f3a"
             ],
             [
              0.8888888888888888,
              "#fdca26"
             ],
             [
              1,
              "#f0f921"
             ]
            ],
            "type": "histogram2dcontour"
           }
          ],
          "mesh3d": [
           {
            "colorbar": {
             "outlinewidth": 0,
             "ticks": ""
            },
            "type": "mesh3d"
           }
          ],
          "parcoords": [
           {
            "line": {
             "colorbar": {
              "outlinewidth": 0,
              "ticks": ""
             }
            },
            "type": "parcoords"
           }
          ],
          "pie": [
           {
            "automargin": true,
            "type": "pie"
           }
          ],
          "scatter": [
           {
            "fillpattern": {
             "fillmode": "overlay",
             "size": 10,
             "solidity": 0.2
            },
            "type": "scatter"
           }
          ],
          "scatter3d": [
           {
            "line": {
             "colorbar": {
              "outlinewidth": 0,
              "ticks": ""
             }
            },
            "marker": {
             "colorbar": {
              "outlinewidth": 0,
              "ticks": ""
             }
            },
            "type": "scatter3d"
           }
          ],
          "scattercarpet": [
           {
            "marker": {
             "colorbar": {
              "outlinewidth": 0,
              "ticks": ""
             }
            },
            "type": "scattercarpet"
           }
          ],
          "scattergeo": [
           {
            "marker": {
             "colorbar": {
              "outlinewidth": 0,
              "ticks": ""
             }
            },
            "type": "scattergeo"
           }
          ],
          "scattergl": [
           {
            "marker": {
             "colorbar": {
              "outlinewidth": 0,
              "ticks": ""
             }
            },
            "type": "scattergl"
           }
          ],
          "scattermapbox": [
           {
            "marker": {
             "colorbar": {
              "outlinewidth": 0,
              "ticks": ""
             }
            },
            "type": "scattermapbox"
           }
          ],
          "scatterpolar": [
           {
            "marker": {
             "colorbar": {
              "outlinewidth": 0,
              "ticks": ""
             }
            },
            "type": "scatterpolar"
           }
          ],
          "scatterpolargl": [
           {
            "marker": {
             "colorbar": {
              "outlinewidth": 0,
              "ticks": ""
             }
            },
            "type": "scatterpolargl"
           }
          ],
          "scatterternary": [
           {
            "marker": {
             "colorbar": {
              "outlinewidth": 0,
              "ticks": ""
             }
            },
            "type": "scatterternary"
           }
          ],
          "surface": [
           {
            "colorbar": {
             "outlinewidth": 0,
             "ticks": ""
            },
            "colorscale": [
             [
              0,
              "#0d0887"
             ],
             [
              0.1111111111111111,
              "#46039f"
             ],
             [
              0.2222222222222222,
              "#7201a8"
             ],
             [
              0.3333333333333333,
              "#9c179e"
             ],
             [
              0.4444444444444444,
              "#bd3786"
             ],
             [
              0.5555555555555556,
              "#d8576b"
             ],
             [
              0.6666666666666666,
              "#ed7953"
             ],
             [
              0.7777777777777778,
              "#fb9f3a"
             ],
             [
              0.8888888888888888,
              "#fdca26"
             ],
             [
              1,
              "#f0f921"
             ]
            ],
            "type": "surface"
           }
          ],
          "table": [
           {
            "cells": {
             "fill": {
              "color": "#EBF0F8"
             },
             "line": {
              "color": "white"
             }
            },
            "header": {
             "fill": {
              "color": "#C8D4E3"
             },
             "line": {
              "color": "white"
             }
            },
            "type": "table"
           }
          ]
         },
         "layout": {
          "annotationdefaults": {
           "arrowcolor": "#2a3f5f",
           "arrowhead": 0,
           "arrowwidth": 1
          },
          "autotypenumbers": "strict",
          "coloraxis": {
           "colorbar": {
            "outlinewidth": 0,
            "ticks": ""
           }
          },
          "colorscale": {
           "diverging": [
            [
             0,
             "#8e0152"
            ],
            [
             0.1,
             "#c51b7d"
            ],
            [
             0.2,
             "#de77ae"
            ],
            [
             0.3,
             "#f1b6da"
            ],
            [
             0.4,
             "#fde0ef"
            ],
            [
             0.5,
             "#f7f7f7"
            ],
            [
             0.6,
             "#e6f5d0"
            ],
            [
             0.7,
             "#b8e186"
            ],
            [
             0.8,
             "#7fbc41"
            ],
            [
             0.9,
             "#4d9221"
            ],
            [
             1,
             "#276419"
            ]
           ],
           "sequential": [
            [
             0,
             "#0d0887"
            ],
            [
             0.1111111111111111,
             "#46039f"
            ],
            [
             0.2222222222222222,
             "#7201a8"
            ],
            [
             0.3333333333333333,
             "#9c179e"
            ],
            [
             0.4444444444444444,
             "#bd3786"
            ],
            [
             0.5555555555555556,
             "#d8576b"
            ],
            [
             0.6666666666666666,
             "#ed7953"
            ],
            [
             0.7777777777777778,
             "#fb9f3a"
            ],
            [
             0.8888888888888888,
             "#fdca26"
            ],
            [
             1,
             "#f0f921"
            ]
           ],
           "sequentialminus": [
            [
             0,
             "#0d0887"
            ],
            [
             0.1111111111111111,
             "#46039f"
            ],
            [
             0.2222222222222222,
             "#7201a8"
            ],
            [
             0.3333333333333333,
             "#9c179e"
            ],
            [
             0.4444444444444444,
             "#bd3786"
            ],
            [
             0.5555555555555556,
             "#d8576b"
            ],
            [
             0.6666666666666666,
             "#ed7953"
            ],
            [
             0.7777777777777778,
             "#fb9f3a"
            ],
            [
             0.8888888888888888,
             "#fdca26"
            ],
            [
             1,
             "#f0f921"
            ]
           ]
          },
          "colorway": [
           "#636efa",
           "#EF553B",
           "#00cc96",
           "#ab63fa",
           "#FFA15A",
           "#19d3f3",
           "#FF6692",
           "#B6E880",
           "#FF97FF",
           "#FECB52"
          ],
          "font": {
           "color": "#2a3f5f"
          },
          "geo": {
           "bgcolor": "white",
           "lakecolor": "white",
           "landcolor": "#E5ECF6",
           "showlakes": true,
           "showland": true,
           "subunitcolor": "white"
          },
          "hoverlabel": {
           "align": "left"
          },
          "hovermode": "closest",
          "mapbox": {
           "style": "light"
          },
          "paper_bgcolor": "white",
          "plot_bgcolor": "#E5ECF6",
          "polar": {
           "angularaxis": {
            "gridcolor": "white",
            "linecolor": "white",
            "ticks": ""
           },
           "bgcolor": "#E5ECF6",
           "radialaxis": {
            "gridcolor": "white",
            "linecolor": "white",
            "ticks": ""
           }
          },
          "scene": {
           "xaxis": {
            "backgroundcolor": "#E5ECF6",
            "gridcolor": "white",
            "gridwidth": 2,
            "linecolor": "white",
            "showbackground": true,
            "ticks": "",
            "zerolinecolor": "white"
           },
           "yaxis": {
            "backgroundcolor": "#E5ECF6",
            "gridcolor": "white",
            "gridwidth": 2,
            "linecolor": "white",
            "showbackground": true,
            "ticks": "",
            "zerolinecolor": "white"
           },
           "zaxis": {
            "backgroundcolor": "#E5ECF6",
            "gridcolor": "white",
            "gridwidth": 2,
            "linecolor": "white",
            "showbackground": true,
            "ticks": "",
            "zerolinecolor": "white"
           }
          },
          "shapedefaults": {
           "line": {
            "color": "#2a3f5f"
           }
          },
          "ternary": {
           "aaxis": {
            "gridcolor": "white",
            "linecolor": "white",
            "ticks": ""
           },
           "baxis": {
            "gridcolor": "white",
            "linecolor": "white",
            "ticks": ""
           },
           "bgcolor": "#E5ECF6",
           "caxis": {
            "gridcolor": "white",
            "linecolor": "white",
            "ticks": ""
           }
          },
          "title": {
           "x": 0.05
          },
          "xaxis": {
           "automargin": true,
           "gridcolor": "white",
           "linecolor": "white",
           "ticks": "",
           "title": {
            "standoff": 15
           },
           "zerolinecolor": "white",
           "zerolinewidth": 2
          },
          "yaxis": {
           "automargin": true,
           "gridcolor": "white",
           "linecolor": "white",
           "ticks": "",
           "title": {
            "standoff": 15
           },
           "zerolinecolor": "white",
           "zerolinewidth": 2
          }
         }
        },
        "title": {
         "font": {
          "size": 22
         },
         "text": "Piramida Penduduk"
        },
        "xaxis": {
         "ticktext": [
          "70000",
          "50000",
          "30000",
          "0",
          "70000",
          "50000",
          "30000"
         ],
         "tickvals": [
          -70000,
          -50000,
          -30000,
          0,
          70000,
          50000,
          30000
         ],
         "title": {
          "font": {
           "size": 14
          },
          "text": "Jumlah"
         }
        }
       }
      }
     },
     "metadata": {},
     "output_type": "display_data"
    }
   ],
   "source": [
    "import plotly.graph_objects as gp\n",
    "# Creating instance of the figure \n",
    "fig = gp.Figure() \n",
    "  \n",
    "\n",
    "# Adding Female data to the figure \n",
    "fig.add_trace(gp.Bar(y = y_age, x = x_F, \n",
    "                     name = 'Perempuan', orientation = 'h',\n",
    "                     marker=dict(color='#ffc107'),\n",
    "                     hovertemplate='Perempuan Umur %{y}<br>Jumlah: %{customdata}<extra></extra>',\n",
    "                     customdata=[abs(x) for x in x_F]\n",
    "                     )) \n",
    "\n",
    "# Adding Male data to the figure \n",
    "fig.add_trace(gp.Bar(y= y_age, x = x_M,  \n",
    "                     name = 'Laki-laki',  \n",
    "                     orientation = 'h',\n",
    "                     marker=dict(color='#0d6efd'),\n",
    "                     hovertemplate='Laki-laki Umur %{y}<br> %{x}<extra></extra>')) \n",
    "\n",
    "  \n",
    "# Updating the layout for our graph \n",
    "fig.update_layout(title = 'Piramida Penduduk', \n",
    "                 title_font_size = 22, barmode = 'relative', \n",
    "                 bargap = 0.0, bargroupgap = 0, \n",
    "                 xaxis = dict(tickvals = tick_vals, \n",
    "                              ticktext = tick_str, \n",
    "                              title = 'Jumlah', \n",
    "                              title_font_size = 14),\n",
    "                legend=dict(\n",
    "                        orientation='h',\n",
    "                        yanchor='bottom',\n",
    "                        y=-0.3,  # Adjust this value to move the legend up or down\n",
    "                        xanchor='center',\n",
    "                        x=0.5\n",
    "                ),\n",
    "                plot_bgcolor='#f6f8fa',  # Set background color of the plot area to green\n",
    "                paper_bgcolor='#f6f8fa'  # Set background color of the entire canvas to green \n",
    ")\n",
    "  \n",
    "fig.show()"
   ]
  },
  {
   "cell_type": "code",
   "execution_count": 51,
   "metadata": {},
   "outputs": [
    {
     "data": {
      "application/vnd.plotly.v1+json": {
       "config": {
        "plotlyServerURL": "https://plot.ly"
       },
       "data": [
        {
         "customdata": [
          7111,
          28925,
          55267,
          58918,
          62332,
          60634,
          49743,
          44449,
          44751,
          42947,
          38118,
          33159,
          22622,
          16619,
          11118,
          8090,
          10386
         ],
         "hovertemplate": "Perempuan Umur %{y}<br>Jumlah: %{customdata}<extra></extra>",
         "marker": {
          "color": "#ffc107"
         },
         "name": "Perempuan",
         "orientation": "h",
         "type": "bar",
         "x": [
          -7111,
          -28925,
          -55267,
          -58918,
          -62332,
          -60634,
          -49743,
          -44449,
          -44751,
          -42947,
          -38118,
          -33159,
          -22622,
          -16619,
          -11118,
          -8090,
          -10386
         ],
         "y": [
          "0 - 1",
          "2 - 4",
          "5 - 9",
          "10 - 14",
          "15 - 19",
          "20 - 24",
          "25 - 29",
          "30 - 34",
          "35 - 39",
          "40 - 44",
          "45 - 49",
          "50 - 54",
          "55 - 59",
          "60 - 64",
          "65 - 69",
          "70 - 74",
          "75+"
         ]
        },
        {
         "hovertemplate": "Laki-laki Umur %{y}<br> %{x}<extra></extra>",
         "marker": {
          "color": "#0d6efd"
         },
         "name": "Laki-laki",
         "orientation": "h",
         "type": "bar",
         "x": [
          7655,
          31161,
          59619,
          62885,
          67733,
          63400,
          50836,
          44164,
          43901,
          43060,
          37852,
          35784,
          23180,
          16926,
          10960,
          7635,
          8956
         ],
         "y": [
          "0 - 1",
          "2 - 4",
          "5 - 9",
          "10 - 14",
          "15 - 19",
          "20 - 24",
          "25 - 29",
          "30 - 34",
          "35 - 39",
          "40 - 44",
          "45 - 49",
          "50 - 54",
          "55 - 59",
          "60 - 64",
          "65 - 69",
          "70 - 74",
          "75+"
         ]
        }
       ],
       "layout": {
        "bargap": 0,
        "bargroupgap": 0,
        "barmode": "relative",
        "legend": {
         "orientation": "h",
         "x": 0.5,
         "xanchor": "center",
         "y": -0.3,
         "yanchor": "bottom"
        },
        "paper_bgcolor": "#f6f8fa",
        "plot_bgcolor": "#f6f8fa",
        "template": {
         "data": {
          "bar": [
           {
            "error_x": {
             "color": "#2a3f5f"
            },
            "error_y": {
             "color": "#2a3f5f"
            },
            "marker": {
             "line": {
              "color": "#E5ECF6",
              "width": 0.5
             },
             "pattern": {
              "fillmode": "overlay",
              "size": 10,
              "solidity": 0.2
             }
            },
            "type": "bar"
           }
          ],
          "barpolar": [
           {
            "marker": {
             "line": {
              "color": "#E5ECF6",
              "width": 0.5
             },
             "pattern": {
              "fillmode": "overlay",
              "size": 10,
              "solidity": 0.2
             }
            },
            "type": "barpolar"
           }
          ],
          "carpet": [
           {
            "aaxis": {
             "endlinecolor": "#2a3f5f",
             "gridcolor": "white",
             "linecolor": "white",
             "minorgridcolor": "white",
             "startlinecolor": "#2a3f5f"
            },
            "baxis": {
             "endlinecolor": "#2a3f5f",
             "gridcolor": "white",
             "linecolor": "white",
             "minorgridcolor": "white",
             "startlinecolor": "#2a3f5f"
            },
            "type": "carpet"
           }
          ],
          "choropleth": [
           {
            "colorbar": {
             "outlinewidth": 0,
             "ticks": ""
            },
            "type": "choropleth"
           }
          ],
          "contour": [
           {
            "colorbar": {
             "outlinewidth": 0,
             "ticks": ""
            },
            "colorscale": [
             [
              0,
              "#0d0887"
             ],
             [
              0.1111111111111111,
              "#46039f"
             ],
             [
              0.2222222222222222,
              "#7201a8"
             ],
             [
              0.3333333333333333,
              "#9c179e"
             ],
             [
              0.4444444444444444,
              "#bd3786"
             ],
             [
              0.5555555555555556,
              "#d8576b"
             ],
             [
              0.6666666666666666,
              "#ed7953"
             ],
             [
              0.7777777777777778,
              "#fb9f3a"
             ],
             [
              0.8888888888888888,
              "#fdca26"
             ],
             [
              1,
              "#f0f921"
             ]
            ],
            "type": "contour"
           }
          ],
          "contourcarpet": [
           {
            "colorbar": {
             "outlinewidth": 0,
             "ticks": ""
            },
            "type": "contourcarpet"
           }
          ],
          "heatmap": [
           {
            "colorbar": {
             "outlinewidth": 0,
             "ticks": ""
            },
            "colorscale": [
             [
              0,
              "#0d0887"
             ],
             [
              0.1111111111111111,
              "#46039f"
             ],
             [
              0.2222222222222222,
              "#7201a8"
             ],
             [
              0.3333333333333333,
              "#9c179e"
             ],
             [
              0.4444444444444444,
              "#bd3786"
             ],
             [
              0.5555555555555556,
              "#d8576b"
             ],
             [
              0.6666666666666666,
              "#ed7953"
             ],
             [
              0.7777777777777778,
              "#fb9f3a"
             ],
             [
              0.8888888888888888,
              "#fdca26"
             ],
             [
              1,
              "#f0f921"
             ]
            ],
            "type": "heatmap"
           }
          ],
          "heatmapgl": [
           {
            "colorbar": {
             "outlinewidth": 0,
             "ticks": ""
            },
            "colorscale": [
             [
              0,
              "#0d0887"
             ],
             [
              0.1111111111111111,
              "#46039f"
             ],
             [
              0.2222222222222222,
              "#7201a8"
             ],
             [
              0.3333333333333333,
              "#9c179e"
             ],
             [
              0.4444444444444444,
              "#bd3786"
             ],
             [
              0.5555555555555556,
              "#d8576b"
             ],
             [
              0.6666666666666666,
              "#ed7953"
             ],
             [
              0.7777777777777778,
              "#fb9f3a"
             ],
             [
              0.8888888888888888,
              "#fdca26"
             ],
             [
              1,
              "#f0f921"
             ]
            ],
            "type": "heatmapgl"
           }
          ],
          "histogram": [
           {
            "marker": {
             "pattern": {
              "fillmode": "overlay",
              "size": 10,
              "solidity": 0.2
             }
            },
            "type": "histogram"
           }
          ],
          "histogram2d": [
           {
            "colorbar": {
             "outlinewidth": 0,
             "ticks": ""
            },
            "colorscale": [
             [
              0,
              "#0d0887"
             ],
             [
              0.1111111111111111,
              "#46039f"
             ],
             [
              0.2222222222222222,
              "#7201a8"
             ],
             [
              0.3333333333333333,
              "#9c179e"
             ],
             [
              0.4444444444444444,
              "#bd3786"
             ],
             [
              0.5555555555555556,
              "#d8576b"
             ],
             [
              0.6666666666666666,
              "#ed7953"
             ],
             [
              0.7777777777777778,
              "#fb9f3a"
             ],
             [
              0.8888888888888888,
              "#fdca26"
             ],
             [
              1,
              "#f0f921"
             ]
            ],
            "type": "histogram2d"
           }
          ],
          "histogram2dcontour": [
           {
            "colorbar": {
             "outlinewidth": 0,
             "ticks": ""
            },
            "colorscale": [
             [
              0,
              "#0d0887"
             ],
             [
              0.1111111111111111,
              "#46039f"
             ],
             [
              0.2222222222222222,
              "#7201a8"
             ],
             [
              0.3333333333333333,
              "#9c179e"
             ],
             [
              0.4444444444444444,
              "#bd3786"
             ],
             [
              0.5555555555555556,
              "#d8576b"
             ],
             [
              0.6666666666666666,
              "#ed7953"
             ],
             [
              0.7777777777777778,
              "#fb9f3a"
             ],
             [
              0.8888888888888888,
              "#fdca26"
             ],
             [
              1,
              "#f0f921"
             ]
            ],
            "type": "histogram2dcontour"
           }
          ],
          "mesh3d": [
           {
            "colorbar": {
             "outlinewidth": 0,
             "ticks": ""
            },
            "type": "mesh3d"
           }
          ],
          "parcoords": [
           {
            "line": {
             "colorbar": {
              "outlinewidth": 0,
              "ticks": ""
             }
            },
            "type": "parcoords"
           }
          ],
          "pie": [
           {
            "automargin": true,
            "type": "pie"
           }
          ],
          "scatter": [
           {
            "fillpattern": {
             "fillmode": "overlay",
             "size": 10,
             "solidity": 0.2
            },
            "type": "scatter"
           }
          ],
          "scatter3d": [
           {
            "line": {
             "colorbar": {
              "outlinewidth": 0,
              "ticks": ""
             }
            },
            "marker": {
             "colorbar": {
              "outlinewidth": 0,
              "ticks": ""
             }
            },
            "type": "scatter3d"
           }
          ],
          "scattercarpet": [
           {
            "marker": {
             "colorbar": {
              "outlinewidth": 0,
              "ticks": ""
             }
            },
            "type": "scattercarpet"
           }
          ],
          "scattergeo": [
           {
            "marker": {
             "colorbar": {
              "outlinewidth": 0,
              "ticks": ""
             }
            },
            "type": "scattergeo"
           }
          ],
          "scattergl": [
           {
            "marker": {
             "colorbar": {
              "outlinewidth": 0,
              "ticks": ""
             }
            },
            "type": "scattergl"
           }
          ],
          "scattermapbox": [
           {
            "marker": {
             "colorbar": {
              "outlinewidth": 0,
              "ticks": ""
             }
            },
            "type": "scattermapbox"
           }
          ],
          "scatterpolar": [
           {
            "marker": {
             "colorbar": {
              "outlinewidth": 0,
              "ticks": ""
             }
            },
            "type": "scatterpolar"
           }
          ],
          "scatterpolargl": [
           {
            "marker": {
             "colorbar": {
              "outlinewidth": 0,
              "ticks": ""
             }
            },
            "type": "scatterpolargl"
           }
          ],
          "scatterternary": [
           {
            "marker": {
             "colorbar": {
              "outlinewidth": 0,
              "ticks": ""
             }
            },
            "type": "scatterternary"
           }
          ],
          "surface": [
           {
            "colorbar": {
             "outlinewidth": 0,
             "ticks": ""
            },
            "colorscale": [
             [
              0,
              "#0d0887"
             ],
             [
              0.1111111111111111,
              "#46039f"
             ],
             [
              0.2222222222222222,
              "#7201a8"
             ],
             [
              0.3333333333333333,
              "#9c179e"
             ],
             [
              0.4444444444444444,
              "#bd3786"
             ],
             [
              0.5555555555555556,
              "#d8576b"
             ],
             [
              0.6666666666666666,
              "#ed7953"
             ],
             [
              0.7777777777777778,
              "#fb9f3a"
             ],
             [
              0.8888888888888888,
              "#fdca26"
             ],
             [
              1,
              "#f0f921"
             ]
            ],
            "type": "surface"
           }
          ],
          "table": [
           {
            "cells": {
             "fill": {
              "color": "#EBF0F8"
             },
             "line": {
              "color": "white"
             }
            },
            "header": {
             "fill": {
              "color": "#C8D4E3"
             },
             "line": {
              "color": "white"
             }
            },
            "type": "table"
           }
          ]
         },
         "layout": {
          "annotationdefaults": {
           "arrowcolor": "#2a3f5f",
           "arrowhead": 0,
           "arrowwidth": 1
          },
          "autotypenumbers": "strict",
          "coloraxis": {
           "colorbar": {
            "outlinewidth": 0,
            "ticks": ""
           }
          },
          "colorscale": {
           "diverging": [
            [
             0,
             "#8e0152"
            ],
            [
             0.1,
             "#c51b7d"
            ],
            [
             0.2,
             "#de77ae"
            ],
            [
             0.3,
             "#f1b6da"
            ],
            [
             0.4,
             "#fde0ef"
            ],
            [
             0.5,
             "#f7f7f7"
            ],
            [
             0.6,
             "#e6f5d0"
            ],
            [
             0.7,
             "#b8e186"
            ],
            [
             0.8,
             "#7fbc41"
            ],
            [
             0.9,
             "#4d9221"
            ],
            [
             1,
             "#276419"
            ]
           ],
           "sequential": [
            [
             0,
             "#0d0887"
            ],
            [
             0.1111111111111111,
             "#46039f"
            ],
            [
             0.2222222222222222,
             "#7201a8"
            ],
            [
             0.3333333333333333,
             "#9c179e"
            ],
            [
             0.4444444444444444,
             "#bd3786"
            ],
            [
             0.5555555555555556,
             "#d8576b"
            ],
            [
             0.6666666666666666,
             "#ed7953"
            ],
            [
             0.7777777777777778,
             "#fb9f3a"
            ],
            [
             0.8888888888888888,
             "#fdca26"
            ],
            [
             1,
             "#f0f921"
            ]
           ],
           "sequentialminus": [
            [
             0,
             "#0d0887"
            ],
            [
             0.1111111111111111,
             "#46039f"
            ],
            [
             0.2222222222222222,
             "#7201a8"
            ],
            [
             0.3333333333333333,
             "#9c179e"
            ],
            [
             0.4444444444444444,
             "#bd3786"
            ],
            [
             0.5555555555555556,
             "#d8576b"
            ],
            [
             0.6666666666666666,
             "#ed7953"
            ],
            [
             0.7777777777777778,
             "#fb9f3a"
            ],
            [
             0.8888888888888888,
             "#fdca26"
            ],
            [
             1,
             "#f0f921"
            ]
           ]
          },
          "colorway": [
           "#636efa",
           "#EF553B",
           "#00cc96",
           "#ab63fa",
           "#FFA15A",
           "#19d3f3",
           "#FF6692",
           "#B6E880",
           "#FF97FF",
           "#FECB52"
          ],
          "font": {
           "color": "#2a3f5f"
          },
          "geo": {
           "bgcolor": "white",
           "lakecolor": "white",
           "landcolor": "#E5ECF6",
           "showlakes": true,
           "showland": true,
           "subunitcolor": "white"
          },
          "hoverlabel": {
           "align": "left"
          },
          "hovermode": "closest",
          "mapbox": {
           "style": "light"
          },
          "paper_bgcolor": "white",
          "plot_bgcolor": "#E5ECF6",
          "polar": {
           "angularaxis": {
            "gridcolor": "white",
            "linecolor": "white",
            "ticks": ""
           },
           "bgcolor": "#E5ECF6",
           "radialaxis": {
            "gridcolor": "white",
            "linecolor": "white",
            "ticks": ""
           }
          },
          "scene": {
           "xaxis": {
            "backgroundcolor": "#E5ECF6",
            "gridcolor": "white",
            "gridwidth": 2,
            "linecolor": "white",
            "showbackground": true,
            "ticks": "",
            "zerolinecolor": "white"
           },
           "yaxis": {
            "backgroundcolor": "#E5ECF6",
            "gridcolor": "white",
            "gridwidth": 2,
            "linecolor": "white",
            "showbackground": true,
            "ticks": "",
            "zerolinecolor": "white"
           },
           "zaxis": {
            "backgroundcolor": "#E5ECF6",
            "gridcolor": "white",
            "gridwidth": 2,
            "linecolor": "white",
            "showbackground": true,
            "ticks": "",
            "zerolinecolor": "white"
           }
          },
          "shapedefaults": {
           "line": {
            "color": "#2a3f5f"
           }
          },
          "ternary": {
           "aaxis": {
            "gridcolor": "white",
            "linecolor": "white",
            "ticks": ""
           },
           "baxis": {
            "gridcolor": "white",
            "linecolor": "white",
            "ticks": ""
           },
           "bgcolor": "#E5ECF6",
           "caxis": {
            "gridcolor": "white",
            "linecolor": "white",
            "ticks": ""
           }
          },
          "title": {
           "x": 0.05
          },
          "xaxis": {
           "automargin": true,
           "gridcolor": "white",
           "linecolor": "white",
           "ticks": "",
           "title": {
            "standoff": 15
           },
           "zerolinecolor": "white",
           "zerolinewidth": 2
          },
          "yaxis": {
           "automargin": true,
           "gridcolor": "white",
           "linecolor": "white",
           "ticks": "",
           "title": {
            "standoff": 15
           },
           "zerolinecolor": "white",
           "zerolinewidth": 2
          }
         }
        },
        "title": {
         "font": {
          "size": 22
         },
         "text": "Piramida Penduduk"
        },
        "xaxis": {
         "ticktext": [
          "70000",
          "50000",
          "30000",
          "0",
          "70000",
          "50000",
          "30000"
         ],
         "tickvals": [
          -70000,
          -50000,
          -30000,
          0,
          70000,
          50000,
          30000
         ],
         "title": {
          "font": {
           "size": 14
          },
          "text": "Jumlah"
         }
        }
       }
      }
     },
     "metadata": {},
     "output_type": "display_data"
    }
   ],
   "source": [
    "kelompok_umur_lk = pl.read_csv('data/PIRAMIDA PENDUDUK - Laki-laki.csv')\n",
    "# Mendefinisikan range kolom yang akan dijumlahkan\n",
    "columns_to_sum = [kelompok_umur_lk.columns[i] for i in range(6, 23)]\n",
    "\n",
    "# Membuat daftar agregasi\n",
    "aggregations = [pl.sum(col) for col in columns_to_sum]\n",
    "\n",
    "# Melakukan pengelompokan dan agregasi\n",
    "result = kelompok_umur_lk.group_by(\"PROVINSI\").agg(aggregations)\n",
    "\n",
    "# Asumsi bahwa 'result' adalah DataFrame yang dihasilkan dari kode sebelumnya\n",
    "columns_to_melt = [col for col in result.columns if col != \"PROVINSI\"]\n",
    "\n",
    "# Melakukan melt pada DataFrame\n",
    "melted_result_lk = result.melt(\n",
    "    id_vars=[\"PROVINSI\"], \n",
    "    value_vars=columns_to_melt, \n",
    "    variable_name=\"Age_Group\", \n",
    "    value_name=\"Laki-laki\"\n",
    ")\n",
    "\n",
    "kelompok_umur_pr = pl.read_csv('data/PIRAMIDA PENDUDUK - Perempuan.csv')\n",
    "# Mendefinisikan range kolom yang akan dijumlahkan\n",
    "columns_to_sum = [kelompok_umur_pr.columns[i] for i in range(6, 23)]\n",
    "\n",
    "# Membuat daftar agregasi\n",
    "aggregations = [pl.sum(col) for col in columns_to_sum]\n",
    "\n",
    "# Melakukan pengelompokan dan agregasi\n",
    "result = kelompok_umur_pr.group_by(\"PROVINSI\").agg(aggregations)\n",
    "\n",
    "# Asumsi bahwa 'result' adalah DataFrame yang dihasilkan dari kode sebelumnya\n",
    "columns_to_melt = [col for col in result.columns if col != \"PROVINSI\"]\n",
    "\n",
    "# Melakukan melt pada DataFrame\n",
    "melted_result_pr = result.melt(\n",
    "    id_vars=[\"PROVINSI\"], \n",
    "    value_vars=columns_to_melt, \n",
    "    variable_name=\"Age_Group\", \n",
    "    value_name=\"Perempuan\"\n",
    ")\n",
    "\n",
    "df_horizontal_join = melted_result_pr.join(melted_result_lk, on=\"Age_Group\", how=\"inner\")\n",
    "\n",
    "# Daftar kategori usia\n",
    "ku = [\"0 - 1\", \"2 - 4\", \"5 - 9\", \"10 - 14\", \"15 - 19\", \n",
    "      \"20 - 24\", \"25 - 29\", \"30 - 34\", \"35 - 39\", \"40 - 44\", \n",
    "      \"45 - 49\", \"50 - 54\", \"55 - 59\", \"60 - 64\", \n",
    "      \"65 - 69\", \"70 - 74\", \"75+\"]\n",
    "\n",
    "# Menghitung berapa kali daftar ku perlu diulang\n",
    "repeat_count = df_horizontal_join.shape[0] // len(ku) + 1\n",
    "repeated_ku = (ku * repeat_count)[:df_horizontal_join.shape[0]]\n",
    "\n",
    "# Menambahkan kolom kategori umur\n",
    "df_horizontal_join = df_horizontal_join.with_columns([pl.Series(name=\"Kategori_Umur\", values=repeated_ku)])\n",
    "\n",
    "y_age = df_horizontal_join['Kategori_Umur'] \n",
    "x_M = df_horizontal_join['Laki-laki'] \n",
    "x_F = df_horizontal_join['Perempuan'] * -1\n",
    "\n",
    "if max(x_M) >= max(x_F):\n",
    "    maks = max(x_M)\n",
    "else:\n",
    "    maks = max(x_F)\n",
    "\n",
    "import math\n",
    "\n",
    "def round_up_to_nearest(number, base):\n",
    "    return base * math.ceil(number / base)\n",
    "\n",
    "def auto_round_up(number):\n",
    "    if number == 0:\n",
    "        return 0\n",
    "    base = 10 ** (len(str(number)) - 1)\n",
    "    return round_up_to_nearest(number, base)\n",
    "\n",
    "maks1 = auto_round_up(maks)\n",
    "maks2 = auto_round_up(int(maks - (maks * 1 / 3)))\n",
    "maks3 = auto_round_up(int(maks - (maks * 2 / 3)))\n",
    "\n",
    "tick_vals = [-maks1, -maks2, -maks3, 0, maks1, maks2, maks3]\n",
    "tick_str = [str(abs(value)) for value in tick_vals]\n",
    "\n",
    "import plotly.graph_objects as gp\n",
    "# Creating instance of the figure \n",
    "fig = gp.Figure() \n",
    "  \n",
    "\n",
    "# Adding Female data to the figure \n",
    "fig.add_trace(gp.Bar(y = y_age, x = x_F, \n",
    "                     name = 'Perempuan', orientation = 'h',\n",
    "                     marker=dict(color='#ffc107'),\n",
    "                     hovertemplate='Perempuan Umur %{y}<br>Jumlah: %{customdata}<extra></extra>',\n",
    "                     customdata=[abs(x) for x in x_F]\n",
    "                     )) \n",
    "\n",
    "# Adding Male data to the figure \n",
    "fig.add_trace(gp.Bar(y= y_age, x = x_M,  \n",
    "                     name = 'Laki-laki',  \n",
    "                     orientation = 'h',\n",
    "                     marker=dict(color='#0d6efd'),\n",
    "                     hovertemplate='Laki-laki Umur %{y}<br> %{x}<extra></extra>')) \n",
    "\n",
    "  \n",
    "# Updating the layout for our graph \n",
    "fig.update_layout(title = 'Piramida Penduduk', \n",
    "                 title_font_size = 22, barmode = 'relative', \n",
    "                 bargap = 0.0, bargroupgap = 0, \n",
    "                 xaxis = dict(tickvals = tick_vals, \n",
    "                              ticktext = tick_str, \n",
    "                              title = 'Jumlah', \n",
    "                              title_font_size = 14),\n",
    "                legend=dict(\n",
    "                        orientation='h',\n",
    "                        yanchor='bottom',\n",
    "                        y=-0.3,  # Adjust this value to move the legend up or down\n",
    "                        xanchor='center',\n",
    "                        x=0.5\n",
    "                ),\n",
    "                plot_bgcolor='#f6f8fa',  # Set background color of the plot area to green\n",
    "                paper_bgcolor='#f6f8fa'  # Set background color of the entire canvas to green \n",
    ")\n",
    "  \n",
    "fig.show()"
   ]
  },
  {
   "cell_type": "code",
   "execution_count": 56,
   "metadata": {},
   "outputs": [
    {
     "data": {
      "text/html": [
       "<div><style>\n",
       ".dataframe > thead > tr,\n",
       ".dataframe > tbody > tr {\n",
       "  text-align: right;\n",
       "  white-space: pre-wrap;\n",
       "}\n",
       "</style>\n",
       "<small>shape: (17, 3)</small><table border=\"1\" class=\"dataframe\"><thead><tr><th>Kategori_Umur</th><th>Perempuan</th><th>Laki-laki</th></tr><tr><td>str</td><td>i64</td><td>i64</td></tr></thead><tbody><tr><td>&quot;0 - 1&quot;</td><td>7111</td><td>7655</td></tr><tr><td>&quot;2 - 4&quot;</td><td>28925</td><td>31161</td></tr><tr><td>&quot;5 - 9&quot;</td><td>55267</td><td>59619</td></tr><tr><td>&quot;10 - 14&quot;</td><td>58918</td><td>62885</td></tr><tr><td>&quot;15 - 19&quot;</td><td>62332</td><td>67733</td></tr><tr><td>&quot;20 - 24&quot;</td><td>60634</td><td>63400</td></tr><tr><td>&quot;25 - 29&quot;</td><td>49743</td><td>50836</td></tr><tr><td>&quot;30 - 34&quot;</td><td>44449</td><td>44164</td></tr><tr><td>&quot;35 - 39&quot;</td><td>44751</td><td>43901</td></tr><tr><td>&quot;40 - 44&quot;</td><td>42947</td><td>43060</td></tr><tr><td>&quot;45 - 49&quot;</td><td>38118</td><td>37852</td></tr><tr><td>&quot;50 - 54&quot;</td><td>33159</td><td>35784</td></tr><tr><td>&quot;55 - 59&quot;</td><td>22622</td><td>23180</td></tr><tr><td>&quot;60 - 64&quot;</td><td>16619</td><td>16926</td></tr><tr><td>&quot;65 - 69&quot;</td><td>11118</td><td>10960</td></tr><tr><td>&quot;70 - 74&quot;</td><td>8090</td><td>7635</td></tr><tr><td>&quot;75+&quot;</td><td>10386</td><td>8956</td></tr></tbody></table></div>"
      ],
      "text/plain": [
       "shape: (17, 3)\n",
       "┌───────────────┬───────────┬───────────┐\n",
       "│ Kategori_Umur ┆ Perempuan ┆ Laki-laki │\n",
       "│ ---           ┆ ---       ┆ ---       │\n",
       "│ str           ┆ i64       ┆ i64       │\n",
       "╞═══════════════╪═══════════╪═══════════╡\n",
       "│ 0 - 1         ┆ 7111      ┆ 7655      │\n",
       "│ 2 - 4         ┆ 28925     ┆ 31161     │\n",
       "│ 5 - 9         ┆ 55267     ┆ 59619     │\n",
       "│ 10 - 14       ┆ 58918     ┆ 62885     │\n",
       "│ 15 - 19       ┆ 62332     ┆ 67733     │\n",
       "│ …             ┆ …         ┆ …         │\n",
       "│ 55 - 59       ┆ 22622     ┆ 23180     │\n",
       "│ 60 - 64       ┆ 16619     ┆ 16926     │\n",
       "│ 65 - 69       ┆ 11118     ┆ 10960     │\n",
       "│ 70 - 74       ┆ 8090      ┆ 7635      │\n",
       "│ 75+           ┆ 10386     ┆ 8956      │\n",
       "└───────────────┴───────────┴───────────┘"
      ]
     },
     "execution_count": 56,
     "metadata": {},
     "output_type": "execute_result"
    }
   ],
   "source": [
    "df_horizontal_join.select('Kategori_Umur', 'Perempuan', 'Laki-laki')"
   ]
  },
  {
   "cell_type": "code",
   "execution_count": null,
   "metadata": {},
   "outputs": [],
   "source": []
  }
 ],
 "metadata": {
  "kernelspec": {
   "display_name": "Python 3",
   "language": "python",
   "name": "python3"
  },
  "language_info": {
   "codemirror_mode": {
    "name": "ipython",
    "version": 3
   },
   "file_extension": ".py",
   "mimetype": "text/x-python",
   "name": "python",
   "nbconvert_exporter": "python",
   "pygments_lexer": "ipython3",
   "version": "3.10.12"
  }
 },
 "nbformat": 4,
 "nbformat_minor": 2
}
