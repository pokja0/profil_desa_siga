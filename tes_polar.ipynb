{
 "cells": [
  {
   "cell_type": "code",
   "execution_count": 7,
   "metadata": {},
   "outputs": [],
   "source": [
    "import polars as pl"
   ]
  },
  {
   "cell_type": "code",
   "execution_count": 8,
   "metadata": {},
   "outputs": [
    {
     "data": {
      "text/html": [
       "<div><style>\n",
       ".dataframe > thead > tr,\n",
       ".dataframe > tbody > tr {\n",
       "  text-align: right;\n",
       "  white-space: pre-wrap;\n",
       "}\n",
       "</style>\n",
       "<small>shape: (5, 14)</small><table border=\"1\" class=\"dataframe\"><thead><tr><th>PROVINSI</th><th>KABUPATEN</th><th>KECAMATAN</th><th>KELURAHAN</th><th>LATITUDE</th><th>LONGITUDE</th><th>PUS</th><th>Kampung KB</th><th>Rumah DataKU</th><th>BKB</th><th>BKR</th><th>BKL</th><th>UPPKA</th><th>PIK-R</th></tr><tr><td>str</td><td>str</td><td>str</td><td>str</td><td>f64</td><td>f64</td><td>i64</td><td>str</td><td>str</td><td>str</td><td>str</td><td>str</td><td>str</td><td>str</td></tr></thead><tbody><tr><td>&quot;SULAWESI BARAT…</td><td>&quot;MAMUJU TENGAH&quot;</td><td>&quot;TOBADAK&quot;</td><td>&quot;MAHAHE&quot;</td><td>-2.122958</td><td>119.365442</td><td>1</td><td>&quot;Ada&quot;</td><td>&quot;Ada&quot;</td><td>&quot;Ada&quot;</td><td>&quot;Ada&quot;</td><td>&quot;Ada&quot;</td><td>&quot;Ada&quot;</td><td>&quot;Ada&quot;</td></tr><tr><td>&quot;SULAWESI BARAT…</td><td>&quot;MAMUJU TENGAH&quot;</td><td>&quot;TOBADAK&quot;</td><td>&quot;SALOBAJA&quot;</td><td>-2.156691</td><td>119.336074</td><td>1</td><td>&quot;Ada&quot;</td><td>&quot;Ada&quot;</td><td>&quot;Ada&quot;</td><td>&quot;Ada&quot;</td><td>&quot;Ada&quot;</td><td>&quot;Ada&quot;</td><td>&quot;Ada&quot;</td></tr><tr><td>&quot;SULAWESI BARAT…</td><td>&quot;MAMUJU TENGAH&quot;</td><td>&quot;TOBADAK&quot;</td><td>&quot;TOBADAK&quot;</td><td>-2.104302</td><td>119.491646</td><td>1</td><td>&quot;Ada&quot;</td><td>&quot;Ada&quot;</td><td>&quot;Ada&quot;</td><td>&quot;Ada&quot;</td><td>&quot;Ada&quot;</td><td>&quot;Ada&quot;</td><td>&quot;Tidak ada&quot;</td></tr><tr><td>&quot;SULAWESI BARAT…</td><td>&quot;MAMUJU TENGAH&quot;</td><td>&quot;TOBADAK&quot;</td><td>&quot;PALONGAAN&quot;</td><td>-2.105264</td><td>119.40054</td><td>1</td><td>&quot;Ada&quot;</td><td>&quot;Ada&quot;</td><td>&quot;Ada&quot;</td><td>&quot;Ada&quot;</td><td>&quot;Ada&quot;</td><td>&quot;Tidak ada&quot;</td><td>&quot;Tidak ada&quot;</td></tr><tr><td>&quot;SULAWESI BARAT…</td><td>&quot;MAMUJU TENGAH&quot;</td><td>&quot;TOBADAK&quot;</td><td>&quot;BATU PARIGI&quot;</td><td>-2.07222</td><td>119.538128</td><td>1</td><td>&quot;Ada&quot;</td><td>&quot;Ada&quot;</td><td>&quot;Ada&quot;</td><td>&quot;Tidak ada&quot;</td><td>&quot;Ada&quot;</td><td>&quot;Tidak ada&quot;</td><td>&quot;Ada&quot;</td></tr></tbody></table></div>"
      ],
      "text/plain": [
       "shape: (5, 14)\n",
       "┌─────────────┬─────────────┬───────────┬────────────┬───┬───────────┬─────┬───────────┬───────────┐\n",
       "│ PROVINSI    ┆ KABUPATEN   ┆ KECAMATAN ┆ KELURAHAN  ┆ … ┆ BKR       ┆ BKL ┆ UPPKA     ┆ PIK-R     │\n",
       "│ ---         ┆ ---         ┆ ---       ┆ ---        ┆   ┆ ---       ┆ --- ┆ ---       ┆ ---       │\n",
       "│ str         ┆ str         ┆ str       ┆ str        ┆   ┆ str       ┆ str ┆ str       ┆ str       │\n",
       "╞═════════════╪═════════════╪═══════════╪════════════╪═══╪═══════════╪═════╪═══════════╪═══════════╡\n",
       "│ SULAWESI    ┆ MAMUJU      ┆ TOBADAK   ┆ MAHAHE     ┆ … ┆ Ada       ┆ Ada ┆ Ada       ┆ Ada       │\n",
       "│ BARAT       ┆ TENGAH      ┆           ┆            ┆   ┆           ┆     ┆           ┆           │\n",
       "│ SULAWESI    ┆ MAMUJU      ┆ TOBADAK   ┆ SALOBAJA   ┆ … ┆ Ada       ┆ Ada ┆ Ada       ┆ Ada       │\n",
       "│ BARAT       ┆ TENGAH      ┆           ┆            ┆   ┆           ┆     ┆           ┆           │\n",
       "│ SULAWESI    ┆ MAMUJU      ┆ TOBADAK   ┆ TOBADAK    ┆ … ┆ Ada       ┆ Ada ┆ Ada       ┆ Tidak ada │\n",
       "│ BARAT       ┆ TENGAH      ┆           ┆            ┆   ┆           ┆     ┆           ┆           │\n",
       "│ SULAWESI    ┆ MAMUJU      ┆ TOBADAK   ┆ PALONGAAN  ┆ … ┆ Ada       ┆ Ada ┆ Tidak ada ┆ Tidak ada │\n",
       "│ BARAT       ┆ TENGAH      ┆           ┆            ┆   ┆           ┆     ┆           ┆           │\n",
       "│ SULAWESI    ┆ MAMUJU      ┆ TOBADAK   ┆ BATU       ┆ … ┆ Tidak ada ┆ Ada ┆ Tidak ada ┆ Ada       │\n",
       "│ BARAT       ┆ TENGAH      ┆           ┆ PARIGI     ┆   ┆           ┆     ┆           ┆           │\n",
       "└─────────────┴─────────────┴───────────┴────────────┴───┴───────────┴─────┴───────────┴───────────┘"
      ]
     },
     "execution_count": 8,
     "metadata": {},
     "output_type": "execute_result"
    }
   ],
   "source": [
    "data_poktan = pl.read_csv(\"data/profil_poktan.csv\")\n",
    "data_poktan.head(5)"
   ]
  },
  {
   "cell_type": "code",
   "execution_count": 9,
   "metadata": {},
   "outputs": [
    {
     "data": {
      "text/html": [
       "<div><style>\n",
       ".dataframe > thead > tr,\n",
       ".dataframe > tbody > tr {\n",
       "  text-align: right;\n",
       "  white-space: pre-wrap;\n",
       "}\n",
       "</style>\n",
       "<small>shape: (8, 2)</small><table border=\"1\" class=\"dataframe\"><thead><tr><th>Variable</th><th>jumlah_ada</th></tr><tr><td>str</td><td>i64</td></tr></thead><tbody><tr><td>&quot;Desa/Kelurahan…</td><td>648</td></tr><tr><td>&quot;Kampung KB&quot;</td><td>518</td></tr><tr><td>&quot;Rumah DataKU&quot;</td><td>506</td></tr><tr><td>&quot;BKB&quot;</td><td>595</td></tr><tr><td>&quot;BKR&quot;</td><td>505</td></tr><tr><td>&quot;BKL&quot;</td><td>505</td></tr><tr><td>&quot;UPPKA&quot;</td><td>430</td></tr><tr><td>&quot;PIK-R&quot;</td><td>441</td></tr></tbody></table></div>"
      ],
      "text/plain": [
       "shape: (8, 2)\n",
       "┌────────────────┬────────────┐\n",
       "│ Variable       ┆ jumlah_ada │\n",
       "│ ---            ┆ ---        │\n",
       "│ str            ┆ i64        │\n",
       "╞════════════════╪════════════╡\n",
       "│ Desa/Kelurahan ┆ 648        │\n",
       "│ Kampung KB     ┆ 518        │\n",
       "│ Rumah DataKU   ┆ 506        │\n",
       "│ BKB            ┆ 595        │\n",
       "│ BKR            ┆ 505        │\n",
       "│ BKL            ┆ 505        │\n",
       "│ UPPKA          ┆ 430        │\n",
       "│ PIK-R          ┆ 441        │\n",
       "└────────────────┴────────────┘"
      ]
     },
     "execution_count": 9,
     "metadata": {},
     "output_type": "execute_result"
    }
   ],
   "source": [
    "# List kolom yang akan dihitung\n",
    "columns_to_count = [\"Kampung KB\", \"Rumah DataKU\", \"BKB\", \"BKR\", \"BKL\", \"UPPKA\", \"PIK-R\"]\n",
    "\n",
    "# Menghitung jumlah \"Ada\" untuk setiap kolom\n",
    "counts = [data_poktan[col].str.count_matches(\"Ada\").sum() for col in columns_to_count]\n",
    "\n",
    "# Menghitung jumlah desa unik berdasarkan kombinasi KECAMATAN dan KELURAHAN\n",
    "unique_desa = data_poktan.select([\"KECAMATAN\", \"KELURAHAN\"]).unique().shape[0]\n",
    "\n",
    "# Membuat DataFrame hasil\n",
    "results = pl.DataFrame({\n",
    "    \"Variable\": [\"Desa/Kelurahan\"] + columns_to_count,\n",
    "    \"jumlah_ada\": [unique_desa] + counts\n",
    "})\n",
    "\n",
    "results"
   ]
  },
  {
   "cell_type": "code",
   "execution_count": 10,
   "metadata": {},
   "outputs": [
    {
     "data": {
      "text/html": [
       "<div><style>\n",
       ".dataframe > thead > tr,\n",
       ".dataframe > tbody > tr {\n",
       "  text-align: right;\n",
       "  white-space: pre-wrap;\n",
       "}\n",
       "</style>\n",
       "<small>shape: (7, 2)</small><table border=\"1\" class=\"dataframe\"><thead><tr><th>Variable</th><th>jumlah_ada</th></tr><tr><td>str</td><td>i64</td></tr></thead><tbody><tr><td>&quot;Kampung KB&quot;</td><td>5</td></tr><tr><td>&quot;Rumah DataKU&quot;</td><td>0</td></tr><tr><td>&quot;BKB&quot;</td><td>5</td></tr><tr><td>&quot;BKR&quot;</td><td>5</td></tr><tr><td>&quot;BKL&quot;</td><td>0</td></tr><tr><td>&quot;UPPKA&quot;</td><td>5</td></tr><tr><td>&quot;PIK-R&quot;</td><td>0</td></tr></tbody></table></div>"
      ],
      "text/plain": [
       "shape: (7, 2)\n",
       "┌──────────────┬────────────┐\n",
       "│ Variable     ┆ jumlah_ada │\n",
       "│ ---          ┆ ---        │\n",
       "│ str          ┆ i64        │\n",
       "╞══════════════╪════════════╡\n",
       "│ Kampung KB   ┆ 5          │\n",
       "│ Rumah DataKU ┆ 0          │\n",
       "│ BKB          ┆ 5          │\n",
       "│ BKR          ┆ 5          │\n",
       "│ BKL          ┆ 0          │\n",
       "│ UPPKA        ┆ 5          │\n",
       "│ PIK-R        ┆ 0          │\n",
       "└──────────────┴────────────┘"
      ]
     },
     "execution_count": 10,
     "metadata": {},
     "output_type": "execute_result"
    }
   ],
   "source": [
    "import polars as pl\n",
    "\n",
    "# Membuat DataFrame dari data yang ada\n",
    "data = {\n",
    "    \"KABUPATEN\": [\"MAMUJU TENGAH\"] * 5,\n",
    "    \"KECAMATAN\": [\"TOBADAK\"] * 5,\n",
    "    \"KELURAHAN\": [\"MAHAHE\", \"SALOBAJA\", \"TOBADAK\", \"PALONGAAN\", \"BATU PARIGI\"],\n",
    "    \"LATITUDE\": [\"-2.122958\", \"-2.156691\", \"-2.104302\", \"-2.105264\", \"-2.07222\"],\n",
    "    \"LONGITUDE\": [119.365442, 119.336074, 119.491646, 119.40054, 119.538128],\n",
    "    \"PUS\": [1] * 5,\n",
    "    \"Kampung KB\": [\"Ada\"] * 5,\n",
    "    \"Rumah DataKU\": [\"Tidak ada\"] * 5,\n",
    "    \"BKB\": [\"Ada\"] * 5,\n",
    "    \"BKR\": [\"Ada\"] * 5,\n",
    "    \"BKL\": [\"Tidak ada\"] * 5,\n",
    "    \"UPPKA\": [\"Ada\"] * 5,\n",
    "    \"PIK-R\": [\"Tidak ada\"] * 5\n",
    "}\n",
    "\n",
    "df = pl.DataFrame(data)\n",
    "\n",
    "# List kolom yang akan dihitung\n",
    "columns_to_count = [\"Kampung KB\", \"Rumah DataKU\", \"BKB\", \"BKR\", \"BKL\", \"UPPKA\", \"PIK-R\"]\n",
    "\n",
    "# Menghitung jumlah \"Ada\" untuk setiap kolom dan menyusunnya ke dalam DataFrame baru\n",
    "results = pl.DataFrame({\n",
    "    \"Variable\": columns_to_count,\n",
    "    \"jumlah_ada\": [df[col].str.count_matches(\"Ada\").sum() for col in columns_to_count]\n",
    "})\n",
    "\n",
    "# Menampilkan hasil\n",
    "results\n"
   ]
  },
  {
   "cell_type": "code",
   "execution_count": 11,
   "metadata": {},
   "outputs": [
    {
     "ename": "ImportError",
     "evalue": "\nThe plotly.plotly module is deprecated,\nplease install the chart-studio package and use the\nchart_studio.plotly module instead. \n",
     "output_type": "error",
     "traceback": [
      "\u001b[0;31m---------------------------------------------------------------------------\u001b[0m",
      "\u001b[0;31mImportError\u001b[0m                               Traceback (most recent call last)",
      "Cell \u001b[0;32mIn[11], line 1\u001b[0m\n\u001b[0;32m----> 1\u001b[0m \u001b[38;5;28;01mimport\u001b[39;00m \u001b[38;5;21;01mplotly\u001b[39;00m\u001b[38;5;21;01m.\u001b[39;00m\u001b[38;5;21;01mplotly\u001b[39;00m \u001b[38;5;28;01mas\u001b[39;00m \u001b[38;5;21;01mpy\u001b[39;00m\n\u001b[1;32m      2\u001b[0m \u001b[38;5;28;01mimport\u001b[39;00m \u001b[38;5;21;01mplotly\u001b[39;00m\u001b[38;5;21;01m.\u001b[39;00m\u001b[38;5;21;01mgraph_objs\u001b[39;00m \u001b[38;5;28;01mas\u001b[39;00m \u001b[38;5;21;01mgo\u001b[39;00m\n\u001b[1;32m      4\u001b[0m \u001b[38;5;28;01mimport\u001b[39;00m \u001b[38;5;21;01mnumpy\u001b[39;00m \u001b[38;5;28;01mas\u001b[39;00m \u001b[38;5;21;01mnp\u001b[39;00m\n",
      "File \u001b[0;32m~/.local/lib/python3.10/site-packages/plotly/plotly/__init__.py:3\u001b[0m\n\u001b[1;32m      1\u001b[0m \u001b[38;5;28;01mfrom\u001b[39;00m \u001b[38;5;21;01m_plotly_future_\u001b[39;00m \u001b[38;5;28;01mimport\u001b[39;00m _chart_studio_error\n\u001b[0;32m----> 3\u001b[0m \u001b[43m_chart_studio_error\u001b[49m\u001b[43m(\u001b[49m\u001b[38;5;124;43m\"\u001b[39;49m\u001b[38;5;124;43mplotly\u001b[39;49m\u001b[38;5;124;43m\"\u001b[39;49m\u001b[43m)\u001b[49m\n",
      "File \u001b[0;32m~/.local/lib/python3.10/site-packages/_plotly_future_/__init__.py:43\u001b[0m, in \u001b[0;36m_chart_studio_error\u001b[0;34m(submodule)\u001b[0m\n\u001b[1;32m     42\u001b[0m \u001b[38;5;28;01mdef\u001b[39;00m \u001b[38;5;21m_chart_studio_error\u001b[39m(submodule):\n\u001b[0;32m---> 43\u001b[0m     \u001b[38;5;28;01mraise\u001b[39;00m \u001b[38;5;167;01mImportError\u001b[39;00m(\n\u001b[1;32m     44\u001b[0m \u001b[38;5;250m        \u001b[39m\u001b[38;5;124;03m\"\"\"\u001b[39;00m\n\u001b[1;32m     45\u001b[0m \u001b[38;5;124;03mThe plotly.{submodule} module is deprecated,\u001b[39;00m\n\u001b[1;32m     46\u001b[0m \u001b[38;5;124;03mplease install the chart-studio package and use the\u001b[39;00m\n\u001b[1;32m     47\u001b[0m \u001b[38;5;124;03mchart_studio.{submodule} module instead. \u001b[39;00m\n\u001b[1;32m     48\u001b[0m \u001b[38;5;124;03m\"\"\"\u001b[39;00m\u001b[38;5;241m.\u001b[39mformat(\n\u001b[1;32m     49\u001b[0m             submodule\u001b[38;5;241m=\u001b[39msubmodule\n\u001b[1;32m     50\u001b[0m         )\n\u001b[1;32m     51\u001b[0m     )\n",
      "\u001b[0;31mImportError\u001b[0m: \nThe plotly.plotly module is deprecated,\nplease install the chart-studio package and use the\nchart_studio.plotly module instead. \n"
     ]
    }
   ],
   "source": [
    "import plotly.plotly as py\n",
    "import plotly.graph_objs as go\n",
    "\n",
    "import numpy as np\n",
    "\n",
    "women_bins = np.array([-600, -623, -653, -650, -670, -578, -541, -411, -322, -230])\n",
    "men_bins = np.array([600, 623, 653, 650, 670, 578, 541, 360, 312, 170])\n",
    "\n",
    "y = list(range(0, 100, 10))\n",
    "\n",
    "layout = go.Layout(yaxis=go.layout.YAxis(title='Age'),\n",
    "                   xaxis=go.layout.XAxis(\n",
    "                       range=[-1200, 1200],\n",
    "                       tickvals=[-1000, -700, -300, 0, 300, 700, 1000],\n",
    "                       ticktext=[1000, 700, 300, 0, 300, 700, 1000],\n",
    "                       title='Number'),\n",
    "                   barmode='overlay',\n",
    "                   bargap=0.1)\n",
    "\n",
    "data = [go.Bar(y=y,\n",
    "               x=men_bins,\n",
    "               orientation='h',\n",
    "               name='Men',\n",
    "               hoverinfo='x',\n",
    "               marker=dict(color='powderblue')\n",
    "               ),\n",
    "        go.Bar(y=y,\n",
    "               x=women_bins,\n",
    "               orientation='h',\n",
    "               name='Women',\n",
    "               text=-1 * women_bins.astype('int'),\n",
    "               hoverinfo='text',\n",
    "               marker=dict(color='seagreen')\n",
    "               )]\n",
    "\n",
    "py.iplot(dict(data=data, layout=layout), filename='EXAMPLES/bar_pyramid')"
   ]
  },
  {
   "cell_type": "code",
   "execution_count": null,
   "metadata": {},
   "outputs": [],
   "source": [
    "import plotly.graph_objs as go\n",
    "import pandas as pd\n",
    "\n",
    "# Load the data into a pandas DataFrame\n",
    "df = pd.read_csv(\"population_data.csv\")\n",
    "\n",
    "# Create the male and female bar traces\n",
    "trace_male = go.Bar(x=df[df[\"gender\"]==\"M\"][\"count\"],\n",
    "                \ty=df[df[\"gender\"]==\"M\"][\"age\"],\n",
    "                \torientation=\"h\",\n",
    "                \tname=\"Male\",\n",
    "                \tmarker=dict(color=\"#1f77b4\"))\n",
    "\n",
    "trace_female = go.Bar(x=df[df[\"gender\"]==\"F\"][\"count\"]*(-1),\n",
    "                  \ty=df[df[\"gender\"]==\"F\"][\"age\"],\n",
    "                  \torientation=\"h\",\n",
    "                  \tname=\"Female\",\n",
    "                  \tmarker=dict(color=\"#d62728\"))\n",
    "\n",
    "# Create the layout\n",
    "layout = go.Layout(title=\"Population Pyramid\",\n",
    "               \txaxis=dict(title=\"Count\"),\n",
    "               \tyaxis=dict(title=\"Age\"),\n",
    "               \tbarmode=\"overlay\",\n",
    "               \tbargap=0.1)\n",
    "\n",
    "# Create the figure\n",
    "fig = go.Figure(data=[trace_male, trace_female], layout=layout)\n",
    "\n",
    "# Show the plot\n",
    "fig.show()"
   ]
  },
  {
   "cell_type": "code",
   "execution_count": 52,
   "metadata": {},
   "outputs": [
    {
     "data": {
      "text/html": [
       "<div><style>\n",
       ".dataframe > thead > tr,\n",
       ".dataframe > tbody > tr {\n",
       "  text-align: right;\n",
       "  white-space: pre-wrap;\n",
       "}\n",
       "</style>\n",
       "<small>shape: (17, 3)</small><table border=\"1\" class=\"dataframe\"><thead><tr><th>PROVINSI</th><th>Age_Group</th><th>Laki-laki</th></tr><tr><td>str</td><td>str</td><td>i64</td></tr></thead><tbody><tr><td>&quot;SULAWESI BARAT…</td><td>&quot;Umur 0 - 1&quot;</td><td>7655</td></tr><tr><td>&quot;SULAWESI BARAT…</td><td>&quot;Umur 2 - 4&quot;</td><td>31161</td></tr><tr><td>&quot;SULAWESI BARAT…</td><td>&quot;Umur 5 - 9&quot;</td><td>59619</td></tr><tr><td>&quot;SULAWESI BARAT…</td><td>&quot;Umur 10 - 14&quot;</td><td>62885</td></tr><tr><td>&quot;SULAWESI BARAT…</td><td>&quot;Umur 15 - 19&quot;</td><td>67733</td></tr><tr><td>&quot;SULAWESI BARAT…</td><td>&quot;Umur 20 - 24&quot;</td><td>63400</td></tr><tr><td>&quot;SULAWESI BARAT…</td><td>&quot;Umur 25 - 29&quot;</td><td>50836</td></tr><tr><td>&quot;SULAWESI BARAT…</td><td>&quot;Umur 30 - 34&quot;</td><td>44164</td></tr><tr><td>&quot;SULAWESI BARAT…</td><td>&quot;Umur 35 - 39&quot;</td><td>43901</td></tr><tr><td>&quot;SULAWESI BARAT…</td><td>&quot;Umur 40 - 44&quot;</td><td>43060</td></tr><tr><td>&quot;SULAWESI BARAT…</td><td>&quot;Umur 45 - 49&quot;</td><td>37852</td></tr><tr><td>&quot;SULAWESI BARAT…</td><td>&quot;Umur 50 - 54&quot;</td><td>35784</td></tr><tr><td>&quot;SULAWESI BARAT…</td><td>&quot;Umur 55 - 59&quot;</td><td>23180</td></tr><tr><td>&quot;SULAWESI BARAT…</td><td>&quot;Umur 60 - 64&quot;</td><td>16926</td></tr><tr><td>&quot;SULAWESI BARAT…</td><td>&quot;Umur 65 - 69&quot;</td><td>10960</td></tr><tr><td>&quot;SULAWESI BARAT…</td><td>&quot;Umur 70 - 74&quot;</td><td>7635</td></tr><tr><td>&quot;SULAWESI BARAT…</td><td>&quot;Umur 75+&quot;</td><td>8956</td></tr></tbody></table></div>"
      ],
      "text/plain": [
       "shape: (17, 3)\n",
       "┌────────────────┬──────────────┬───────────┐\n",
       "│ PROVINSI       ┆ Age_Group    ┆ Laki-laki │\n",
       "│ ---            ┆ ---          ┆ ---       │\n",
       "│ str            ┆ str          ┆ i64       │\n",
       "╞════════════════╪══════════════╪═══════════╡\n",
       "│ SULAWESI BARAT ┆ Umur 0 - 1   ┆ 7655      │\n",
       "│ SULAWESI BARAT ┆ Umur 2 - 4   ┆ 31161     │\n",
       "│ SULAWESI BARAT ┆ Umur 5 - 9   ┆ 59619     │\n",
       "│ SULAWESI BARAT ┆ Umur 10 - 14 ┆ 62885     │\n",
       "│ SULAWESI BARAT ┆ Umur 15 - 19 ┆ 67733     │\n",
       "│ …              ┆ …            ┆ …         │\n",
       "│ SULAWESI BARAT ┆ Umur 55 - 59 ┆ 23180     │\n",
       "│ SULAWESI BARAT ┆ Umur 60 - 64 ┆ 16926     │\n",
       "│ SULAWESI BARAT ┆ Umur 65 - 69 ┆ 10960     │\n",
       "│ SULAWESI BARAT ┆ Umur 70 - 74 ┆ 7635      │\n",
       "│ SULAWESI BARAT ┆ Umur 75+     ┆ 8956      │\n",
       "└────────────────┴──────────────┴───────────┘"
      ]
     },
     "execution_count": 52,
     "metadata": {},
     "output_type": "execute_result"
    }
   ],
   "source": [
    "kelompok_umur_lk = pl.read_csv('data/PIRAMIDA PENDUDUK - Laki-laki.csv')\n",
    "\n",
    "# Mendefinisikan range kolom yang akan dijumlahkan\n",
    "columns_to_sum = [kelompok_umur_lk.columns[i] for i in range(6, 23)]\n",
    "\n",
    "# Membuat daftar agregasi\n",
    "aggregations = [pl.sum(col) for col in columns_to_sum]\n",
    "\n",
    "# Melakukan pengelompokan dan agregasi\n",
    "result = kelompok_umur_lk.group_by(\"PROVINSI\").agg(aggregations)\n",
    "\n",
    "# Asumsi bahwa 'result' adalah DataFrame yang dihasilkan dari kode sebelumnya\n",
    "columns_to_melt = [col for col in result.columns if col != \"PROVINSI\"]\n",
    "\n",
    "# Melakukan melt pada DataFrame\n",
    "melted_result_lk = result.melt(\n",
    "    id_vars=[\"PROVINSI\"], \n",
    "    value_vars=columns_to_melt, \n",
    "    variable_name=\"Age_Group\", \n",
    "    value_name=\"Laki-laki\"\n",
    ")\n",
    "\n",
    "# Menambahkan kolom 'Jenis_Kelamin' dengan isi 'Laki-laki'\n",
    "#melted_result_lk = melted_result.with_columns([pl.lit(\"Laki-laki\").alias(\"Jenis_Kelamin\")])\n",
    "\n",
    "# Menampilkan hasil\n",
    "melted_result_lk"
   ]
  },
  {
   "cell_type": "code",
   "execution_count": 53,
   "metadata": {},
   "outputs": [
    {
     "data": {
      "text/html": [
       "<div><style>\n",
       ".dataframe > thead > tr,\n",
       ".dataframe > tbody > tr {\n",
       "  text-align: right;\n",
       "  white-space: pre-wrap;\n",
       "}\n",
       "</style>\n",
       "<small>shape: (2, 23)</small><table border=\"1\" class=\"dataframe\"><thead><tr><th>PROVINSI</th><th>KABUPATEN</th><th>KECAMATAN</th><th>KODE</th><th>KELURAHAN</th><th>Jumlah_Penduduk</th><th>Umur 0 - 1</th><th>Umur 2 - 4</th><th>Umur 5 - 9</th><th>Umur 10 - 14</th><th>Umur 15 - 19</th><th>Umur 20 - 24</th><th>Umur 25 - 29</th><th>Umur 30 - 34</th><th>Umur 35 - 39</th><th>Umur 40 - 44</th><th>Umur 45 - 49</th><th>Umur 50 - 54</th><th>Umur 55 - 59</th><th>Umur 60 - 64</th><th>Umur 65 - 69</th><th>Umur 70 - 74</th><th>Umur 75+</th></tr><tr><td>str</td><td>str</td><td>str</td><td>i64</td><td>str</td><td>i64</td><td>i64</td><td>i64</td><td>i64</td><td>i64</td><td>i64</td><td>i64</td><td>i64</td><td>i64</td><td>i64</td><td>i64</td><td>i64</td><td>i64</td><td>i64</td><td>i64</td><td>i64</td><td>i64</td><td>i64</td></tr></thead><tbody><tr><td>&quot;SULAWESI BARAT…</td><td>&quot;PASANGKAYU&quot;</td><td>&quot;BAMBALAMOTU&quot;</td><td>1006</td><td>&quot;BAMBALAMOTU&quot;</td><td>1994</td><td>52</td><td>111</td><td>205</td><td>217</td><td>263</td><td>186</td><td>157</td><td>129</td><td>142</td><td>135</td><td>107</td><td>115</td><td>76</td><td>46</td><td>19</td><td>20</td><td>14</td></tr><tr><td>&quot;SULAWESI BARAT…</td><td>&quot;PASANGKAYU&quot;</td><td>&quot;BAMBALAMOTU&quot;</td><td>2003</td><td>&quot;POLEWALI&quot;</td><td>1712</td><td>20</td><td>96</td><td>188</td><td>172</td><td>213</td><td>166</td><td>125</td><td>107</td><td>126</td><td>125</td><td>107</td><td>100</td><td>58</td><td>53</td><td>21</td><td>21</td><td>14</td></tr></tbody></table></div>"
      ],
      "text/plain": [
       "shape: (2, 23)\n",
       "┌────────────┬────────────┬────────────┬──────┬───┬────────────┬────────────┬───────────┬──────────┐\n",
       "│ PROVINSI   ┆ KABUPATEN  ┆ KECAMATAN  ┆ KODE ┆ … ┆ Umur 60 -  ┆ Umur 65 -  ┆ Umur 70 - ┆ Umur 75+ │\n",
       "│ ---        ┆ ---        ┆ ---        ┆ ---  ┆   ┆ 64         ┆ 69         ┆ 74        ┆ ---      │\n",
       "│ str        ┆ str        ┆ str        ┆ i64  ┆   ┆ ---        ┆ ---        ┆ ---       ┆ i64      │\n",
       "│            ┆            ┆            ┆      ┆   ┆ i64        ┆ i64        ┆ i64       ┆          │\n",
       "╞════════════╪════════════╪════════════╪══════╪═══╪════════════╪════════════╪═══════════╪══════════╡\n",
       "│ SULAWESI   ┆ PASANGKAYU ┆ BAMBALAMOT ┆ 1006 ┆ … ┆ 46         ┆ 19         ┆ 20        ┆ 14       │\n",
       "│ BARAT      ┆            ┆ U          ┆      ┆   ┆            ┆            ┆           ┆          │\n",
       "│ SULAWESI   ┆ PASANGKAYU ┆ BAMBALAMOT ┆ 2003 ┆ … ┆ 53         ┆ 21         ┆ 21        ┆ 14       │\n",
       "│ BARAT      ┆            ┆ U          ┆      ┆   ┆            ┆            ┆           ┆          │\n",
       "└────────────┴────────────┴────────────┴──────┴───┴────────────┴────────────┴───────────┴──────────┘"
      ]
     },
     "execution_count": 53,
     "metadata": {},
     "output_type": "execute_result"
    }
   ],
   "source": [
    "kelompok_umur_lk.head(2)"
   ]
  },
  {
   "cell_type": "code",
   "execution_count": 40,
   "metadata": {},
   "outputs": [
    {
     "data": {
      "text/html": [
       "<div><style>\n",
       ".dataframe > thead > tr,\n",
       ".dataframe > tbody > tr {\n",
       "  text-align: right;\n",
       "  white-space: pre-wrap;\n",
       "}\n",
       "</style>\n",
       "<small>shape: (17, 3)</small><table border=\"1\" class=\"dataframe\"><thead><tr><th>PROVINSI</th><th>Age_Group</th><th>Perempuan</th></tr><tr><td>str</td><td>str</td><td>i64</td></tr></thead><tbody><tr><td>&quot;SULAWESI BARAT…</td><td>&quot;Umur 0 - 1&quot;</td><td>7111</td></tr><tr><td>&quot;SULAWESI BARAT…</td><td>&quot;Umur 2 - 4&quot;</td><td>28925</td></tr><tr><td>&quot;SULAWESI BARAT…</td><td>&quot;Umur 5 - 9&quot;</td><td>55267</td></tr><tr><td>&quot;SULAWESI BARAT…</td><td>&quot;Umur 10 - 14&quot;</td><td>58918</td></tr><tr><td>&quot;SULAWESI BARAT…</td><td>&quot;Umur 15 - 19&quot;</td><td>62332</td></tr><tr><td>&quot;SULAWESI BARAT…</td><td>&quot;Umur 20 - 24&quot;</td><td>60634</td></tr><tr><td>&quot;SULAWESI BARAT…</td><td>&quot;Umur 25 - 29&quot;</td><td>49743</td></tr><tr><td>&quot;SULAWESI BARAT…</td><td>&quot;Umur 30 - 34&quot;</td><td>44449</td></tr><tr><td>&quot;SULAWESI BARAT…</td><td>&quot;Umur 35 - 39&quot;</td><td>44751</td></tr><tr><td>&quot;SULAWESI BARAT…</td><td>&quot;Umur 40 - 44&quot;</td><td>42947</td></tr><tr><td>&quot;SULAWESI BARAT…</td><td>&quot;Umur 45 - 49&quot;</td><td>38118</td></tr><tr><td>&quot;SULAWESI BARAT…</td><td>&quot;Umur 50 - 54&quot;</td><td>33159</td></tr><tr><td>&quot;SULAWESI BARAT…</td><td>&quot;Umur 55 - 59&quot;</td><td>22622</td></tr><tr><td>&quot;SULAWESI BARAT…</td><td>&quot;Umur 60 - 64&quot;</td><td>16619</td></tr><tr><td>&quot;SULAWESI BARAT…</td><td>&quot;Umur 65 - 69&quot;</td><td>11118</td></tr><tr><td>&quot;SULAWESI BARAT…</td><td>&quot;Umur 70 - 74&quot;</td><td>8090</td></tr><tr><td>&quot;SULAWESI BARAT…</td><td>&quot;Umur 75+&quot;</td><td>10386</td></tr></tbody></table></div>"
      ],
      "text/plain": [
       "shape: (17, 3)\n",
       "┌────────────────┬──────────────┬───────────┐\n",
       "│ PROVINSI       ┆ Age_Group    ┆ Perempuan │\n",
       "│ ---            ┆ ---          ┆ ---       │\n",
       "│ str            ┆ str          ┆ i64       │\n",
       "╞════════════════╪══════════════╪═══════════╡\n",
       "│ SULAWESI BARAT ┆ Umur 0 - 1   ┆ 7111      │\n",
       "│ SULAWESI BARAT ┆ Umur 2 - 4   ┆ 28925     │\n",
       "│ SULAWESI BARAT ┆ Umur 5 - 9   ┆ 55267     │\n",
       "│ SULAWESI BARAT ┆ Umur 10 - 14 ┆ 58918     │\n",
       "│ SULAWESI BARAT ┆ Umur 15 - 19 ┆ 62332     │\n",
       "│ …              ┆ …            ┆ …         │\n",
       "│ SULAWESI BARAT ┆ Umur 55 - 59 ┆ 22622     │\n",
       "│ SULAWESI BARAT ┆ Umur 60 - 64 ┆ 16619     │\n",
       "│ SULAWESI BARAT ┆ Umur 65 - 69 ┆ 11118     │\n",
       "│ SULAWESI BARAT ┆ Umur 70 - 74 ┆ 8090      │\n",
       "│ SULAWESI BARAT ┆ Umur 75+     ┆ 10386     │\n",
       "└────────────────┴──────────────┴───────────┘"
      ]
     },
     "execution_count": 40,
     "metadata": {},
     "output_type": "execute_result"
    }
   ],
   "source": [
    "kelompok_umur_pr = pl.read_csv('data/PIRAMIDA PENDUDUK - Perempuan.csv')\n",
    "# Mendefinisikan range kolom yang akan dijumlahkan\n",
    "columns_to_sum = [kelompok_umur_pr.columns[i] for i in range(6, 23)]\n",
    "\n",
    "# Membuat daftar agregasi\n",
    "aggregations = [pl.sum(col) for col in columns_to_sum]\n",
    "\n",
    "# Melakukan pengelompokan dan agregasi\n",
    "result = kelompok_umur_pr.group_by(\"PROVINSI\").agg(aggregations)\n",
    "\n",
    "# Asumsi bahwa 'result' adalah DataFrame yang dihasilkan dari kode sebelumnya\n",
    "columns_to_melt = [col for col in result.columns if col != \"PROVINSI\"]\n",
    "\n",
    "# Melakukan melt pada DataFrame\n",
    "melted_result_pr = result.melt(\n",
    "    id_vars=[\"PROVINSI\"], \n",
    "    value_vars=columns_to_melt, \n",
    "    variable_name=\"Age_Group\", \n",
    "    value_name=\"Perempuan\"\n",
    ")\n",
    "\n",
    "# Menambahkan kolom 'Jenis_Kelamin' dengan isi 'Perempuan'\n",
    "#melted_result_pr = melted_result.with_columns([pl.lit(\"Perempuan\").alias(\"Jenis_Kelamin\")])\n",
    "\n",
    "# Menampilkan hasil\n",
    "melted_result_pr"
   ]
  },
  {
   "cell_type": "code",
   "execution_count": 41,
   "metadata": {},
   "outputs": [
    {
     "data": {
      "text/html": [
       "<div><style>\n",
       ".dataframe > thead > tr,\n",
       ".dataframe > tbody > tr {\n",
       "  text-align: right;\n",
       "  white-space: pre-wrap;\n",
       "}\n",
       "</style>\n",
       "<small>shape: (17, 6)</small><table border=\"1\" class=\"dataframe\"><thead><tr><th>PROVINSI</th><th>Age_Group</th><th>Perempuan</th><th>PROVINSI_right</th><th>Laki-laki</th><th>Kategori_Umur</th></tr><tr><td>str</td><td>str</td><td>i64</td><td>str</td><td>i64</td><td>str</td></tr></thead><tbody><tr><td>&quot;SULAWESI BARAT…</td><td>&quot;Umur 0 - 1&quot;</td><td>7111</td><td>&quot;SULAWESI BARAT…</td><td>7655</td><td>&quot;0 - 1&quot;</td></tr><tr><td>&quot;SULAWESI BARAT…</td><td>&quot;Umur 2 - 4&quot;</td><td>28925</td><td>&quot;SULAWESI BARAT…</td><td>31161</td><td>&quot;2 - 4&quot;</td></tr><tr><td>&quot;SULAWESI BARAT…</td><td>&quot;Umur 5 - 9&quot;</td><td>55267</td><td>&quot;SULAWESI BARAT…</td><td>59619</td><td>&quot;5 - 9&quot;</td></tr><tr><td>&quot;SULAWESI BARAT…</td><td>&quot;Umur 10 - 14&quot;</td><td>58918</td><td>&quot;SULAWESI BARAT…</td><td>62885</td><td>&quot;10 - 14&quot;</td></tr><tr><td>&quot;SULAWESI BARAT…</td><td>&quot;Umur 15 - 19&quot;</td><td>62332</td><td>&quot;SULAWESI BARAT…</td><td>67733</td><td>&quot;15 - 19&quot;</td></tr><tr><td>&quot;SULAWESI BARAT…</td><td>&quot;Umur 20 - 24&quot;</td><td>60634</td><td>&quot;SULAWESI BARAT…</td><td>63400</td><td>&quot;20 - 24&quot;</td></tr><tr><td>&quot;SULAWESI BARAT…</td><td>&quot;Umur 25 - 29&quot;</td><td>49743</td><td>&quot;SULAWESI BARAT…</td><td>50836</td><td>&quot;25 - 29&quot;</td></tr><tr><td>&quot;SULAWESI BARAT…</td><td>&quot;Umur 30 - 34&quot;</td><td>44449</td><td>&quot;SULAWESI BARAT…</td><td>44164</td><td>&quot;30 - 34&quot;</td></tr><tr><td>&quot;SULAWESI BARAT…</td><td>&quot;Umur 35 - 39&quot;</td><td>44751</td><td>&quot;SULAWESI BARAT…</td><td>43901</td><td>&quot;35 - 39&quot;</td></tr><tr><td>&quot;SULAWESI BARAT…</td><td>&quot;Umur 40 - 44&quot;</td><td>42947</td><td>&quot;SULAWESI BARAT…</td><td>43060</td><td>&quot;40 - 44&quot;</td></tr><tr><td>&quot;SULAWESI BARAT…</td><td>&quot;Umur 45 - 49&quot;</td><td>38118</td><td>&quot;SULAWESI BARAT…</td><td>37852</td><td>&quot;45 - 49&quot;</td></tr><tr><td>&quot;SULAWESI BARAT…</td><td>&quot;Umur 50 - 54&quot;</td><td>33159</td><td>&quot;SULAWESI BARAT…</td><td>35784</td><td>&quot;50 - 54&quot;</td></tr><tr><td>&quot;SULAWESI BARAT…</td><td>&quot;Umur 55 - 59&quot;</td><td>22622</td><td>&quot;SULAWESI BARAT…</td><td>23180</td><td>&quot;55 - 59&quot;</td></tr><tr><td>&quot;SULAWESI BARAT…</td><td>&quot;Umur 60 - 64&quot;</td><td>16619</td><td>&quot;SULAWESI BARAT…</td><td>16926</td><td>&quot;60 - 64&quot;</td></tr><tr><td>&quot;SULAWESI BARAT…</td><td>&quot;Umur 65 - 69&quot;</td><td>11118</td><td>&quot;SULAWESI BARAT…</td><td>10960</td><td>&quot;65 - 69&quot;</td></tr><tr><td>&quot;SULAWESI BARAT…</td><td>&quot;Umur 70 - 74&quot;</td><td>8090</td><td>&quot;SULAWESI BARAT…</td><td>7635</td><td>&quot;70 - 74&quot;</td></tr><tr><td>&quot;SULAWESI BARAT…</td><td>&quot;Umur 75+&quot;</td><td>10386</td><td>&quot;SULAWESI BARAT…</td><td>8956</td><td>&quot;75+&quot;</td></tr></tbody></table></div>"
      ],
      "text/plain": [
       "shape: (17, 6)\n",
       "┌────────────────┬──────────────┬───────────┬────────────────┬───────────┬───────────────┐\n",
       "│ PROVINSI       ┆ Age_Group    ┆ Perempuan ┆ PROVINSI_right ┆ Laki-laki ┆ Kategori_Umur │\n",
       "│ ---            ┆ ---          ┆ ---       ┆ ---            ┆ ---       ┆ ---           │\n",
       "│ str            ┆ str          ┆ i64       ┆ str            ┆ i64       ┆ str           │\n",
       "╞════════════════╪══════════════╪═══════════╪════════════════╪═══════════╪═══════════════╡\n",
       "│ SULAWESI BARAT ┆ Umur 0 - 1   ┆ 7111      ┆ SULAWESI BARAT ┆ 7655      ┆ 0 - 1         │\n",
       "│ SULAWESI BARAT ┆ Umur 2 - 4   ┆ 28925     ┆ SULAWESI BARAT ┆ 31161     ┆ 2 - 4         │\n",
       "│ SULAWESI BARAT ┆ Umur 5 - 9   ┆ 55267     ┆ SULAWESI BARAT ┆ 59619     ┆ 5 - 9         │\n",
       "│ SULAWESI BARAT ┆ Umur 10 - 14 ┆ 58918     ┆ SULAWESI BARAT ┆ 62885     ┆ 10 - 14       │\n",
       "│ SULAWESI BARAT ┆ Umur 15 - 19 ┆ 62332     ┆ SULAWESI BARAT ┆ 67733     ┆ 15 - 19       │\n",
       "│ …              ┆ …            ┆ …         ┆ …              ┆ …         ┆ …             │\n",
       "│ SULAWESI BARAT ┆ Umur 55 - 59 ┆ 22622     ┆ SULAWESI BARAT ┆ 23180     ┆ 55 - 59       │\n",
       "│ SULAWESI BARAT ┆ Umur 60 - 64 ┆ 16619     ┆ SULAWESI BARAT ┆ 16926     ┆ 60 - 64       │\n",
       "│ SULAWESI BARAT ┆ Umur 65 - 69 ┆ 11118     ┆ SULAWESI BARAT ┆ 10960     ┆ 65 - 69       │\n",
       "│ SULAWESI BARAT ┆ Umur 70 - 74 ┆ 8090      ┆ SULAWESI BARAT ┆ 7635      ┆ 70 - 74       │\n",
       "│ SULAWESI BARAT ┆ Umur 75+     ┆ 10386     ┆ SULAWESI BARAT ┆ 8956      ┆ 75+           │\n",
       "└────────────────┴──────────────┴───────────┴────────────────┴───────────┴───────────────┘"
      ]
     },
     "execution_count": 41,
     "metadata": {},
     "output_type": "execute_result"
    }
   ],
   "source": [
    "df_horizontal_join = melted_result_pr.join(melted_result_lk, on=\"Age_Group\", how=\"inner\")\n",
    "\n",
    "# Daftar kategori usia\n",
    "ku = [\"0 - 1\", \"2 - 4\", \"5 - 9\", \"10 - 14\", \"15 - 19\", \n",
    "      \"20 - 24\", \"25 - 29\", \"30 - 34\", \"35 - 39\", \"40 - 44\", \n",
    "      \"45 - 49\", \"50 - 54\", \"55 - 59\", \"60 - 64\", \n",
    "      \"65 - 69\", \"70 - 74\", \"75+\"]\n",
    "\n",
    "# Menghitung berapa kali daftar ku perlu diulang\n",
    "repeat_count = df_horizontal_join.shape[0] // len(ku) + 1\n",
    "repeated_ku = (ku * repeat_count)[:df_horizontal_join.shape[0]]\n",
    "\n",
    "# Menambahkan kolom kategori umur\n",
    "df_horizontal_join = df_horizontal_join.with_columns([pl.Series(name=\"Kategori_Umur\", values=repeated_ku)])\n",
    "\n",
    "df_horizontal_join"
   ]
  },
  {
   "cell_type": "code",
   "execution_count": 43,
   "metadata": {},
   "outputs": [],
   "source": [
    "y_age = df_horizontal_join['Kategori_Umur'] \n",
    "x_M = df_horizontal_join['Laki-laki'] \n",
    "x_F = df_horizontal_join['Perempuan'] * -1\n",
    "\n",
    "if max(x_M) >= max(x_F):\n",
    "    maks = max(x_M)\n",
    "else:\n",
    "    maks = max(x_F)\n",
    "\n",
    "import math\n",
    "\n",
    "def round_up_to_nearest(number, base):\n",
    "    return base * math.ceil(number / base)\n",
    "\n",
    "def auto_round_up(number):\n",
    "    if number == 0:\n",
    "        return 0\n",
    "    base = 10 ** (len(str(number)) - 1)\n",
    "    return round_up_to_nearest(number, base)\n",
    "\n",
    "maks1 = auto_round_up(maks)\n",
    "maks2 = auto_round_up(int(maks - (maks * 1 / 3)))\n",
    "maks3 = auto_round_up(int(maks - (maks * 2 / 3)))\n",
    "\n",
    "tick_vals = [-maks1, -maks2, -maks3, 0, maks1, maks2, maks3]\n",
    "tick_str = [str(abs(value)) for value in tick_vals]"
   ]
  },
  {
   "cell_type": "code",
   "execution_count": 44,
   "metadata": {},
   "outputs": [],
   "source": []
  },
  {
   "cell_type": "code",
   "execution_count": 50,
   "metadata": {},
   "outputs": [
    {
     "data": {
      "application/vnd.plotly.v1+json": {
       "config": {
        "plotlyServerURL": "https://plot.ly"
       },
       "data": [
        {
         "customdata": [
          7111,
          28925,
          55267,
          58918,
          62332,
          60634,
          49743,
          44449,
          44751,
          42947,
          38118,
          33159,
          22622,
          16619,
          11118,
          8090,
          10386
         ],
         "hovertemplate": "Perempuan Umur %{y}<br>Jumlah: %{customdata}<extra></extra>",
         "marker": {
          "color": "#ffc107"
         },
         "name": "Perempuan",
         "orientation": "h",
         "type": "bar",
         "x": [
          -7111,
          -28925,
          -55267,
          -58918,
          -62332,
          -60634,
          -49743,
          -44449,
          -44751,
          -42947,
          -38118,
          -33159,
          -22622,
          -16619,
          -11118,
          -8090,
          -10386
         ],
         "y": [
          "0 - 1",
          "2 - 4",
          "5 - 9",
          "10 - 14",
          "15 - 19",
          "20 - 24",
          "25 - 29",
          "30 - 34",
          "35 - 39",
          "40 - 44",
          "45 - 49",
          "50 - 54",
          "55 - 59",
          "60 - 64",
          "65 - 69",
          "70 - 74",
          "75+"
         ]
        },
        {
         "hovertemplate": "Laki-laki Umur %{y}<br> %{x}<extra></extra>",
         "marker": {
          "color": "#0d6efd"
         },
         "name": "Laki-laki",
         "orientation": "h",
         "type": "bar",
         "x": [
          7655,
          31161,
          59619,
          62885,
          67733,
          63400,
          50836,
          44164,
          43901,
          43060,
          37852,
          35784,
          23180,
          16926,
          10960,
          7635,
          8956
         ],
         "y": [
          "0 - 1",
          "2 - 4",
          "5 - 9",
          "10 - 14",
          "15 - 19",
          "20 - 24",
          "25 - 29",
          "30 - 34",
          "35 - 39",
          "40 - 44",
          "45 - 49",
          "50 - 54",
          "55 - 59",
          "60 - 64",
          "65 - 69",
          "70 - 74",
          "75+"
         ]
        }
       ],
       "layout": {
        "bargap": 0,
        "bargroupgap": 0,
        "barmode": "relative",
        "legend": {
         "orientation": "h",
         "x": 0.5,
         "xanchor": "center",
         "y": -0.3,
         "yanchor": "bottom"
        },
        "paper_bgcolor": "#f6f8fa",
        "plot_bgcolor": "#f6f8fa",
        "template": {
         "data": {
          "bar": [
           {
            "error_x": {
             "color": "#2a3f5f"
            },
            "error_y": {
             "color": "#2a3f5f"
            },
            "marker": {
             "line": {
              "color": "#E5ECF6",
              "width": 0.5
             },
             "pattern": {
              "fillmode": "overlay",
              "size": 10,
              "solidity": 0.2
             }
            },
            "type": "bar"
           }
          ],
          "barpolar": [
           {
            "marker": {
             "line": {
              "color": "#E5ECF6",
              "width": 0.5
             },
             "pattern": {
              "fillmode": "overlay",
              "size": 10,
              "solidity": 0.2
             }
            },
            "type": "barpolar"
           }
          ],
          "carpet": [
           {
            "aaxis": {
             "endlinecolor": "#2a3f5f",
             "gridcolor": "white",
             "linecolor": "white",
             "minorgridcolor": "white",
             "startlinecolor": "#2a3f5f"
            },
            "baxis": {
             "endlinecolor": "#2a3f5f",
             "gridcolor": "white",
             "linecolor": "white",
             "minorgridcolor": "white",
             "startlinecolor": "#2a3f5f"
            },
            "type": "carpet"
           }
          ],
          "choropleth": [
           {
            "colorbar": {
             "outlinewidth": 0,
             "ticks": ""
            },
            "type": "choropleth"
           }
          ],
          "contour": [
           {
            "colorbar": {
             "outlinewidth": 0,
             "ticks": ""
            },
            "colorscale": [
             [
              0,
              "#0d0887"
             ],
             [
              0.1111111111111111,
              "#46039f"
             ],
             [
              0.2222222222222222,
              "#7201a8"
             ],
             [
              0.3333333333333333,
              "#9c179e"
             ],
             [
              0.4444444444444444,
              "#bd3786"
             ],
             [
              0.5555555555555556,
              "#d8576b"
             ],
             [
              0.6666666666666666,
              "#ed7953"
             ],
             [
              0.7777777777777778,
              "#fb9f3a"
             ],
             [
              0.8888888888888888,
              "#fdca26"
             ],
             [
              1,
              "#f0f921"
             ]
            ],
            "type": "contour"
           }
          ],
          "contourcarpet": [
           {
            "colorbar": {
             "outlinewidth": 0,
             "ticks": ""
            },
            "type": "contourcarpet"
           }
          ],
          "heatmap": [
           {
            "colorbar": {
             "outlinewidth": 0,
             "ticks": ""
            },
            "colorscale": [
             [
              0,
              "#0d0887"
             ],
             [
              0.1111111111111111,
              "#46039f"
             ],
             [
              0.2222222222222222,
              "#7201a8"
             ],
             [
              0.3333333333333333,
              "#9c179e"
             ],
             [
              0.4444444444444444,
              "#bd3786"
             ],
             [
              0.5555555555555556,
              "#d8576b"
             ],
             [
              0.6666666666666666,
              "#ed7953"
             ],
             [
              0.7777777777777778,
              "#fb9f3a"
             ],
             [
              0.8888888888888888,
              "#fdca26"
             ],
             [
              1,
              "#f0f921"
             ]
            ],
            "type": "heatmap"
           }
          ],
          "heatmapgl": [
           {
            "colorbar": {
             "outlinewidth": 0,
             "ticks": ""
            },
            "colorscale": [
             [
              0,
              "#0d0887"
             ],
             [
              0.1111111111111111,
              "#46039f"
             ],
             [
              0.2222222222222222,
              "#7201a8"
             ],
             [
              0.3333333333333333,
              "#9c179e"
             ],
             [
              0.4444444444444444,
              "#bd3786"
             ],
             [
              0.5555555555555556,
              "#d8576b"
             ],
             [
              0.6666666666666666,
              "#ed7953"
             ],
             [
              0.7777777777777778,
              "#fb9f3a"
             ],
             [
              0.8888888888888888,
              "#fdca26"
             ],
             [
              1,
              "#f0f921"
             ]
            ],
            "type": "heatmapgl"
           }
          ],
          "histogram": [
           {
            "marker": {
             "pattern": {
              "fillmode": "overlay",
              "size": 10,
              "solidity": 0.2
             }
            },
            "type": "histogram"
           }
          ],
          "histogram2d": [
           {
            "colorbar": {
             "outlinewidth": 0,
             "ticks": ""
            },
            "colorscale": [
             [
              0,
              "#0d0887"
             ],
             [
              0.1111111111111111,
              "#46039f"
             ],
             [
              0.2222222222222222,
              "#7201a8"
             ],
             [
              0.3333333333333333,
              "#9c179e"
             ],
             [
              0.4444444444444444,
              "#bd3786"
             ],
             [
              0.5555555555555556,
              "#d8576b"
             ],
             [
              0.6666666666666666,
              "#ed7953"
             ],
             [
              0.7777777777777778,
              "#fb9f3a"
             ],
             [
              0.8888888888888888,
              "#fdca26"
             ],
             [
              1,
              "#f0f921"
             ]
            ],
            "type": "histogram2d"
           }
          ],
          "histogram2dcontour": [
           {
            "colorbar": {
             "outlinewidth": 0,
             "ticks": ""
            },
            "colorscale": [
             [
              0,
              "#0d0887"
             ],
             [
              0.1111111111111111,
              "#46039f"
             ],
             [
              0.2222222222222222,
              "#7201a8"
             ],
             [
              0.3333333333333333,
              "#9c179e"
             ],
             [
              0.4444444444444444,
              "#bd3786"
             ],
             [
              0.5555555555555556,
              "#d8576b"
             ],
             [
              0.6666666666666666,
              "#ed7953"
             ],
             [
              0.7777777777777778,
              "#fb9f3a"
             ],
             [
              0.8888888888888888,
              "#fdca26"
             ],
             [
              1,
              "#f0f921"
             ]
            ],
            "type": "histogram2dcontour"
           }
          ],
          "mesh3d": [
           {
            "colorbar": {
             "outlinewidth": 0,
             "ticks": ""
            },
            "type": "mesh3d"
           }
          ],
          "parcoords": [
           {
            "line": {
             "colorbar": {
              "outlinewidth": 0,
              "ticks": ""
             }
            },
            "type": "parcoords"
           }
          ],
          "pie": [
           {
            "automargin": true,
            "type": "pie"
           }
          ],
          "scatter": [
           {
            "fillpattern": {
             "fillmode": "overlay",
             "size": 10,
             "solidity": 0.2
            },
            "type": "scatter"
           }
          ],
          "scatter3d": [
           {
            "line": {
             "colorbar": {
              "outlinewidth": 0,
              "ticks": ""
             }
            },
            "marker": {
             "colorbar": {
              "outlinewidth": 0,
              "ticks": ""
             }
            },
            "type": "scatter3d"
           }
          ],
          "scattercarpet": [
           {
            "marker": {
             "colorbar": {
              "outlinewidth": 0,
              "ticks": ""
             }
            },
            "type": "scattercarpet"
           }
          ],
          "scattergeo": [
           {
            "marker": {
             "colorbar": {
              "outlinewidth": 0,
              "ticks": ""
             }
            },
            "type": "scattergeo"
           }
          ],
          "scattergl": [
           {
            "marker": {
             "colorbar": {
              "outlinewidth": 0,
              "ticks": ""
             }
            },
            "type": "scattergl"
           }
          ],
          "scattermapbox": [
           {
            "marker": {
             "colorbar": {
              "outlinewidth": 0,
              "ticks": ""
             }
            },
            "type": "scattermapbox"
           }
          ],
          "scatterpolar": [
           {
            "marker": {
             "colorbar": {
              "outlinewidth": 0,
              "ticks": ""
             }
            },
            "type": "scatterpolar"
           }
          ],
          "scatterpolargl": [
           {
            "marker": {
             "colorbar": {
              "outlinewidth": 0,
              "ticks": ""
             }
            },
            "type": "scatterpolargl"
           }
          ],
          "scatterternary": [
           {
            "marker": {
             "colorbar": {
              "outlinewidth": 0,
              "ticks": ""
             }
            },
            "type": "scatterternary"
           }
          ],
          "surface": [
           {
            "colorbar": {
             "outlinewidth": 0,
             "ticks": ""
            },
            "colorscale": [
             [
              0,
              "#0d0887"
             ],
             [
              0.1111111111111111,
              "#46039f"
             ],
             [
              0.2222222222222222,
              "#7201a8"
             ],
             [
              0.3333333333333333,
              "#9c179e"
             ],
             [
              0.4444444444444444,
              "#bd3786"
             ],
             [
              0.5555555555555556,
              "#d8576b"
             ],
             [
              0.6666666666666666,
              "#ed7953"
             ],
             [
              0.7777777777777778,
              "#fb9f3a"
             ],
             [
              0.8888888888888888,
              "#fdca26"
             ],
             [
              1,
              "#f0f921"
             ]
            ],
            "type": "surface"
           }
          ],
          "table": [
           {
            "cells": {
             "fill": {
              "color": "#EBF0F8"
             },
             "line": {
              "color": "white"
             }
            },
            "header": {
             "fill": {
              "color": "#C8D4E3"
             },
             "line": {
              "color": "white"
             }
            },
            "type": "table"
           }
          ]
         },
         "layout": {
          "annotationdefaults": {
           "arrowcolor": "#2a3f5f",
           "arrowhead": 0,
           "arrowwidth": 1
          },
          "autotypenumbers": "strict",
          "coloraxis": {
           "colorbar": {
            "outlinewidth": 0,
            "ticks": ""
           }
          },
          "colorscale": {
           "diverging": [
            [
             0,
             "#8e0152"
            ],
            [
             0.1,
             "#c51b7d"
            ],
            [
             0.2,
             "#de77ae"
            ],
            [
             0.3,
             "#f1b6da"
            ],
            [
             0.4,
             "#fde0ef"
            ],
            [
             0.5,
             "#f7f7f7"
            ],
            [
             0.6,
             "#e6f5d0"
            ],
            [
             0.7,
             "#b8e186"
            ],
            [
             0.8,
             "#7fbc41"
            ],
            [
             0.9,
             "#4d9221"
            ],
            [
             1,
             "#276419"
            ]
           ],
           "sequential": [
            [
             0,
             "#0d0887"
            ],
            [
             0.1111111111111111,
             "#46039f"
            ],
            [
             0.2222222222222222,
             "#7201a8"
            ],
            [
             0.3333333333333333,
             "#9c179e"
            ],
            [
             0.4444444444444444,
             "#bd3786"
            ],
            [
             0.5555555555555556,
             "#d8576b"
            ],
            [
             0.6666666666666666,
             "#ed7953"
            ],
            [
             0.7777777777777778,
             "#fb9f3a"
            ],
            [
             0.8888888888888888,
             "#fdca26"
            ],
            [
             1,
             "#f0f921"
            ]
           ],
           "sequentialminus": [
            [
             0,
             "#0d0887"
            ],
            [
             0.1111111111111111,
             "#46039f"
            ],
            [
             0.2222222222222222,
             "#7201a8"
            ],
            [
             0.3333333333333333,
             "#9c179e"
            ],
            [
             0.4444444444444444,
             "#bd3786"
            ],
            [
             0.5555555555555556,
             "#d8576b"
            ],
            [
             0.6666666666666666,
             "#ed7953"
            ],
            [
             0.7777777777777778,
             "#fb9f3a"
            ],
            [
             0.8888888888888888,
             "#fdca26"
            ],
            [
             1,
             "#f0f921"
            ]
           ]
          },
          "colorway": [
           "#636efa",
           "#EF553B",
           "#00cc96",
           "#ab63fa",
           "#FFA15A",
           "#19d3f3",
           "#FF6692",
           "#B6E880",
           "#FF97FF",
           "#FECB52"
          ],
          "font": {
           "color": "#2a3f5f"
          },
          "geo": {
           "bgcolor": "white",
           "lakecolor": "white",
           "landcolor": "#E5ECF6",
           "showlakes": true,
           "showland": true,
           "subunitcolor": "white"
          },
          "hoverlabel": {
           "align": "left"
          },
          "hovermode": "closest",
          "mapbox": {
           "style": "light"
          },
          "paper_bgcolor": "white",
          "plot_bgcolor": "#E5ECF6",
          "polar": {
           "angularaxis": {
            "gridcolor": "white",
            "linecolor": "white",
            "ticks": ""
           },
           "bgcolor": "#E5ECF6",
           "radialaxis": {
            "gridcolor": "white",
            "linecolor": "white",
            "ticks": ""
           }
          },
          "scene": {
           "xaxis": {
            "backgroundcolor": "#E5ECF6",
            "gridcolor": "white",
            "gridwidth": 2,
            "linecolor": "white",
            "showbackground": true,
            "ticks": "",
            "zerolinecolor": "white"
           },
           "yaxis": {
            "backgroundcolor": "#E5ECF6",
            "gridcolor": "white",
            "gridwidth": 2,
            "linecolor": "white",
            "showbackground": true,
            "ticks": "",
            "zerolinecolor": "white"
           },
           "zaxis": {
            "backgroundcolor": "#E5ECF6",
            "gridcolor": "white",
            "gridwidth": 2,
            "linecolor": "white",
            "showbackground": true,
            "ticks": "",
            "zerolinecolor": "white"
           }
          },
          "shapedefaults": {
           "line": {
            "color": "#2a3f5f"
           }
          },
          "ternary": {
           "aaxis": {
            "gridcolor": "white",
            "linecolor": "white",
            "ticks": ""
           },
           "baxis": {
            "gridcolor": "white",
            "linecolor": "white",
            "ticks": ""
           },
           "bgcolor": "#E5ECF6",
           "caxis": {
            "gridcolor": "white",
            "linecolor": "white",
            "ticks": ""
           }
          },
          "title": {
           "x": 0.05
          },
          "xaxis": {
           "automargin": true,
           "gridcolor": "white",
           "linecolor": "white",
           "ticks": "",
           "title": {
            "standoff": 15
           },
           "zerolinecolor": "white",
           "zerolinewidth": 2
          },
          "yaxis": {
           "automargin": true,
           "gridcolor": "white",
           "linecolor": "white",
           "ticks": "",
           "title": {
            "standoff": 15
           },
           "zerolinecolor": "white",
           "zerolinewidth": 2
          }
         }
        },
        "title": {
         "font": {
          "size": 22
         },
         "text": "Piramida Penduduk"
        },
        "xaxis": {
         "ticktext": [
          "70000",
          "50000",
          "30000",
          "0",
          "70000",
          "50000",
          "30000"
         ],
         "tickvals": [
          -70000,
          -50000,
          -30000,
          0,
          70000,
          50000,
          30000
         ],
         "title": {
          "font": {
           "size": 14
          },
          "text": "Jumlah"
         }
        }
       }
      }
     },
     "metadata": {},
     "output_type": "display_data"
    }
   ],
   "source": [
    "import plotly.graph_objects as gp\n",
    "# Creating instance of the figure \n",
    "fig = gp.Figure() \n",
    "  \n",
    "\n",
    "# Adding Female data to the figure \n",
    "fig.add_trace(gp.Bar(y = y_age, x = x_F, \n",
    "                     name = 'Perempuan', orientation = 'h',\n",
    "                     marker=dict(color='#ffc107'),\n",
    "                     hovertemplate='Perempuan Umur %{y}<br>Jumlah: %{customdata}<extra></extra>',\n",
    "                     customdata=[abs(x) for x in x_F]\n",
    "                     )) \n",
    "\n",
    "# Adding Male data to the figure \n",
    "fig.add_trace(gp.Bar(y= y_age, x = x_M,  \n",
    "                     name = 'Laki-laki',  \n",
    "                     orientation = 'h',\n",
    "                     marker=dict(color='#0d6efd'),\n",
    "                     hovertemplate='Laki-laki Umur %{y}<br> %{x}<extra></extra>')) \n",
    "\n",
    "  \n",
    "# Updating the layout for our graph \n",
    "fig.update_layout(title = 'Piramida Penduduk', \n",
    "                 title_font_size = 22, barmode = 'relative', \n",
    "                 bargap = 0.0, bargroupgap = 0, \n",
    "                 xaxis = dict(tickvals = tick_vals, \n",
    "                              ticktext = tick_str, \n",
    "                              title = 'Jumlah', \n",
    "                              title_font_size = 14),\n",
    "                legend=dict(\n",
    "                        orientation='h',\n",
    "                        yanchor='bottom',\n",
    "                        y=-0.3,  # Adjust this value to move the legend up or down\n",
    "                        xanchor='center',\n",
    "                        x=0.5\n",
    "                ),\n",
    "                plot_bgcolor='#f6f8fa',  # Set background color of the plot area to green\n",
    "                paper_bgcolor='#f6f8fa'  # Set background color of the entire canvas to green \n",
    ")\n",
    "  \n",
    "fig.show()"
   ]
  },
  {
   "cell_type": "code",
   "execution_count": 51,
   "metadata": {},
   "outputs": [
    {
     "data": {
      "application/vnd.plotly.v1+json": {
       "config": {
        "plotlyServerURL": "https://plot.ly"
       },
       "data": [
        {
         "customdata": [
          7111,
          28925,
          55267,
          58918,
          62332,
          60634,
          49743,
          44449,
          44751,
          42947,
          38118,
          33159,
          22622,
          16619,
          11118,
          8090,
          10386
         ],
         "hovertemplate": "Perempuan Umur %{y}<br>Jumlah: %{customdata}<extra></extra>",
         "marker": {
          "color": "#ffc107"
         },
         "name": "Perempuan",
         "orientation": "h",
         "type": "bar",
         "x": [
          -7111,
          -28925,
          -55267,
          -58918,
          -62332,
          -60634,
          -49743,
          -44449,
          -44751,
          -42947,
          -38118,
          -33159,
          -22622,
          -16619,
          -11118,
          -8090,
          -10386
         ],
         "y": [
          "0 - 1",
          "2 - 4",
          "5 - 9",
          "10 - 14",
          "15 - 19",
          "20 - 24",
          "25 - 29",
          "30 - 34",
          "35 - 39",
          "40 - 44",
          "45 - 49",
          "50 - 54",
          "55 - 59",
          "60 - 64",
          "65 - 69",
          "70 - 74",
          "75+"
         ]
        },
        {
         "hovertemplate": "Laki-laki Umur %{y}<br> %{x}<extra></extra>",
         "marker": {
          "color": "#0d6efd"
         },
         "name": "Laki-laki",
         "orientation": "h",
         "type": "bar",
         "x": [
          7655,
          31161,
          59619,
          62885,
          67733,
          63400,
          50836,
          44164,
          43901,
          43060,
          37852,
          35784,
          23180,
          16926,
          10960,
          7635,
          8956
         ],
         "y": [
          "0 - 1",
          "2 - 4",
          "5 - 9",
          "10 - 14",
          "15 - 19",
          "20 - 24",
          "25 - 29",
          "30 - 34",
          "35 - 39",
          "40 - 44",
          "45 - 49",
          "50 - 54",
          "55 - 59",
          "60 - 64",
          "65 - 69",
          "70 - 74",
          "75+"
         ]
        }
       ],
       "layout": {
        "bargap": 0,
        "bargroupgap": 0,
        "barmode": "relative",
        "legend": {
         "orientation": "h",
         "x": 0.5,
         "xanchor": "center",
         "y": -0.3,
         "yanchor": "bottom"
        },
        "paper_bgcolor": "#f6f8fa",
        "plot_bgcolor": "#f6f8fa",
        "template": {
         "data": {
          "bar": [
           {
            "error_x": {
             "color": "#2a3f5f"
            },
            "error_y": {
             "color": "#2a3f5f"
            },
            "marker": {
             "line": {
              "color": "#E5ECF6",
              "width": 0.5
             },
             "pattern": {
              "fillmode": "overlay",
              "size": 10,
              "solidity": 0.2
             }
            },
            "type": "bar"
           }
          ],
          "barpolar": [
           {
            "marker": {
             "line": {
              "color": "#E5ECF6",
              "width": 0.5
             },
             "pattern": {
              "fillmode": "overlay",
              "size": 10,
              "solidity": 0.2
             }
            },
            "type": "barpolar"
           }
          ],
          "carpet": [
           {
            "aaxis": {
             "endlinecolor": "#2a3f5f",
             "gridcolor": "white",
             "linecolor": "white",
             "minorgridcolor": "white",
             "startlinecolor": "#2a3f5f"
            },
            "baxis": {
             "endlinecolor": "#2a3f5f",
             "gridcolor": "white",
             "linecolor": "white",
             "minorgridcolor": "white",
             "startlinecolor": "#2a3f5f"
            },
            "type": "carpet"
           }
          ],
          "choropleth": [
           {
            "colorbar": {
             "outlinewidth": 0,
             "ticks": ""
            },
            "type": "choropleth"
           }
          ],
          "contour": [
           {
            "colorbar": {
             "outlinewidth": 0,
             "ticks": ""
            },
            "colorscale": [
             [
              0,
              "#0d0887"
             ],
             [
              0.1111111111111111,
              "#46039f"
             ],
             [
              0.2222222222222222,
              "#7201a8"
             ],
             [
              0.3333333333333333,
              "#9c179e"
             ],
             [
              0.4444444444444444,
              "#bd3786"
             ],
             [
              0.5555555555555556,
              "#d8576b"
             ],
             [
              0.6666666666666666,
              "#ed7953"
             ],
             [
              0.7777777777777778,
              "#fb9f3a"
             ],
             [
              0.8888888888888888,
              "#fdca26"
             ],
             [
              1,
              "#f0f921"
             ]
            ],
            "type": "contour"
           }
          ],
          "contourcarpet": [
           {
            "colorbar": {
             "outlinewidth": 0,
             "ticks": ""
            },
            "type": "contourcarpet"
           }
          ],
          "heatmap": [
           {
            "colorbar": {
             "outlinewidth": 0,
             "ticks": ""
            },
            "colorscale": [
             [
              0,
              "#0d0887"
             ],
             [
              0.1111111111111111,
              "#46039f"
             ],
             [
              0.2222222222222222,
              "#7201a8"
             ],
             [
              0.3333333333333333,
              "#9c179e"
             ],
             [
              0.4444444444444444,
              "#bd3786"
             ],
             [
              0.5555555555555556,
              "#d8576b"
             ],
             [
              0.6666666666666666,
              "#ed7953"
             ],
             [
              0.7777777777777778,
              "#fb9f3a"
             ],
             [
              0.8888888888888888,
              "#fdca26"
             ],
             [
              1,
              "#f0f921"
             ]
            ],
            "type": "heatmap"
           }
          ],
          "heatmapgl": [
           {
            "colorbar": {
             "outlinewidth": 0,
             "ticks": ""
            },
            "colorscale": [
             [
              0,
              "#0d0887"
             ],
             [
              0.1111111111111111,
              "#46039f"
             ],
             [
              0.2222222222222222,
              "#7201a8"
             ],
             [
              0.3333333333333333,
              "#9c179e"
             ],
             [
              0.4444444444444444,
              "#bd3786"
             ],
             [
              0.5555555555555556,
              "#d8576b"
             ],
             [
              0.6666666666666666,
              "#ed7953"
             ],
             [
              0.7777777777777778,
              "#fb9f3a"
             ],
             [
              0.8888888888888888,
              "#fdca26"
             ],
             [
              1,
              "#f0f921"
             ]
            ],
            "type": "heatmapgl"
           }
          ],
          "histogram": [
           {
            "marker": {
             "pattern": {
              "fillmode": "overlay",
              "size": 10,
              "solidity": 0.2
             }
            },
            "type": "histogram"
           }
          ],
          "histogram2d": [
           {
            "colorbar": {
             "outlinewidth": 0,
             "ticks": ""
            },
            "colorscale": [
             [
              0,
              "#0d0887"
             ],
             [
              0.1111111111111111,
              "#46039f"
             ],
             [
              0.2222222222222222,
              "#7201a8"
             ],
             [
              0.3333333333333333,
              "#9c179e"
             ],
             [
              0.4444444444444444,
              "#bd3786"
             ],
             [
              0.5555555555555556,
              "#d8576b"
             ],
             [
              0.6666666666666666,
              "#ed7953"
             ],
             [
              0.7777777777777778,
              "#fb9f3a"
             ],
             [
              0.8888888888888888,
              "#fdca26"
             ],
             [
              1,
              "#f0f921"
             ]
            ],
            "type": "histogram2d"
           }
          ],
          "histogram2dcontour": [
           {
            "colorbar": {
             "outlinewidth": 0,
             "ticks": ""
            },
            "colorscale": [
             [
              0,
              "#0d0887"
             ],
             [
              0.1111111111111111,
              "#46039f"
             ],
             [
              0.2222222222222222,
              "#7201a8"
             ],
             [
              0.3333333333333333,
              "#9c179e"
             ],
             [
              0.4444444444444444,
              "#bd3786"
             ],
             [
              0.5555555555555556,
              "#d8576b"
             ],
             [
              0.6666666666666666,
              "#ed7953"
             ],
             [
              0.7777777777777778,
              "#fb9f3a"
             ],
             [
              0.8888888888888888,
              "#fdca26"
             ],
             [
              1,
              "#f0f921"
             ]
            ],
            "type": "histogram2dcontour"
           }
          ],
          "mesh3d": [
           {
            "colorbar": {
             "outlinewidth": 0,
             "ticks": ""
            },
            "type": "mesh3d"
           }
          ],
          "parcoords": [
           {
            "line": {
             "colorbar": {
              "outlinewidth": 0,
              "ticks": ""
             }
            },
            "type": "parcoords"
           }
          ],
          "pie": [
           {
            "automargin": true,
            "type": "pie"
           }
          ],
          "scatter": [
           {
            "fillpattern": {
             "fillmode": "overlay",
             "size": 10,
             "solidity": 0.2
            },
            "type": "scatter"
           }
          ],
          "scatter3d": [
           {
            "line": {
             "colorbar": {
              "outlinewidth": 0,
              "ticks": ""
             }
            },
            "marker": {
             "colorbar": {
              "outlinewidth": 0,
              "ticks": ""
             }
            },
            "type": "scatter3d"
           }
          ],
          "scattercarpet": [
           {
            "marker": {
             "colorbar": {
              "outlinewidth": 0,
              "ticks": ""
             }
            },
            "type": "scattercarpet"
           }
          ],
          "scattergeo": [
           {
            "marker": {
             "colorbar": {
              "outlinewidth": 0,
              "ticks": ""
             }
            },
            "type": "scattergeo"
           }
          ],
          "scattergl": [
           {
            "marker": {
             "colorbar": {
              "outlinewidth": 0,
              "ticks": ""
             }
            },
            "type": "scattergl"
           }
          ],
          "scattermapbox": [
           {
            "marker": {
             "colorbar": {
              "outlinewidth": 0,
              "ticks": ""
             }
            },
            "type": "scattermapbox"
           }
          ],
          "scatterpolar": [
           {
            "marker": {
             "colorbar": {
              "outlinewidth": 0,
              "ticks": ""
             }
            },
            "type": "scatterpolar"
           }
          ],
          "scatterpolargl": [
           {
            "marker": {
             "colorbar": {
              "outlinewidth": 0,
              "ticks": ""
             }
            },
            "type": "scatterpolargl"
           }
          ],
          "scatterternary": [
           {
            "marker": {
             "colorbar": {
              "outlinewidth": 0,
              "ticks": ""
             }
            },
            "type": "scatterternary"
           }
          ],
          "surface": [
           {
            "colorbar": {
             "outlinewidth": 0,
             "ticks": ""
            },
            "colorscale": [
             [
              0,
              "#0d0887"
             ],
             [
              0.1111111111111111,
              "#46039f"
             ],
             [
              0.2222222222222222,
              "#7201a8"
             ],
             [
              0.3333333333333333,
              "#9c179e"
             ],
             [
              0.4444444444444444,
              "#bd3786"
             ],
             [
              0.5555555555555556,
              "#d8576b"
             ],
             [
              0.6666666666666666,
              "#ed7953"
             ],
             [
              0.7777777777777778,
              "#fb9f3a"
             ],
             [
              0.8888888888888888,
              "#fdca26"
             ],
             [
              1,
              "#f0f921"
             ]
            ],
            "type": "surface"
           }
          ],
          "table": [
           {
            "cells": {
             "fill": {
              "color": "#EBF0F8"
             },
             "line": {
              "color": "white"
             }
            },
            "header": {
             "fill": {
              "color": "#C8D4E3"
             },
             "line": {
              "color": "white"
             }
            },
            "type": "table"
           }
          ]
         },
         "layout": {
          "annotationdefaults": {
           "arrowcolor": "#2a3f5f",
           "arrowhead": 0,
           "arrowwidth": 1
          },
          "autotypenumbers": "strict",
          "coloraxis": {
           "colorbar": {
            "outlinewidth": 0,
            "ticks": ""
           }
          },
          "colorscale": {
           "diverging": [
            [
             0,
             "#8e0152"
            ],
            [
             0.1,
             "#c51b7d"
            ],
            [
             0.2,
             "#de77ae"
            ],
            [
             0.3,
             "#f1b6da"
            ],
            [
             0.4,
             "#fde0ef"
            ],
            [
             0.5,
             "#f7f7f7"
            ],
            [
             0.6,
             "#e6f5d0"
            ],
            [
             0.7,
             "#b8e186"
            ],
            [
             0.8,
             "#7fbc41"
            ],
            [
             0.9,
             "#4d9221"
            ],
            [
             1,
             "#276419"
            ]
           ],
           "sequential": [
            [
             0,
             "#0d0887"
            ],
            [
             0.1111111111111111,
             "#46039f"
            ],
            [
             0.2222222222222222,
             "#7201a8"
            ],
            [
             0.3333333333333333,
             "#9c179e"
            ],
            [
             0.4444444444444444,
             "#bd3786"
            ],
            [
             0.5555555555555556,
             "#d8576b"
            ],
            [
             0.6666666666666666,
             "#ed7953"
            ],
            [
             0.7777777777777778,
             "#fb9f3a"
            ],
            [
             0.8888888888888888,
             "#fdca26"
            ],
            [
             1,
             "#f0f921"
            ]
           ],
           "sequentialminus": [
            [
             0,
             "#0d0887"
            ],
            [
             0.1111111111111111,
             "#46039f"
            ],
            [
             0.2222222222222222,
             "#7201a8"
            ],
            [
             0.3333333333333333,
             "#9c179e"
            ],
            [
             0.4444444444444444,
             "#bd3786"
            ],
            [
             0.5555555555555556,
             "#d8576b"
            ],
            [
             0.6666666666666666,
             "#ed7953"
            ],
            [
             0.7777777777777778,
             "#fb9f3a"
            ],
            [
             0.8888888888888888,
             "#fdca26"
            ],
            [
             1,
             "#f0f921"
            ]
           ]
          },
          "colorway": [
           "#636efa",
           "#EF553B",
           "#00cc96",
           "#ab63fa",
           "#FFA15A",
           "#19d3f3",
           "#FF6692",
           "#B6E880",
           "#FF97FF",
           "#FECB52"
          ],
          "font": {
           "color": "#2a3f5f"
          },
          "geo": {
           "bgcolor": "white",
           "lakecolor": "white",
           "landcolor": "#E5ECF6",
           "showlakes": true,
           "showland": true,
           "subunitcolor": "white"
          },
          "hoverlabel": {
           "align": "left"
          },
          "hovermode": "closest",
          "mapbox": {
           "style": "light"
          },
          "paper_bgcolor": "white",
          "plot_bgcolor": "#E5ECF6",
          "polar": {
           "angularaxis": {
            "gridcolor": "white",
            "linecolor": "white",
            "ticks": ""
           },
           "bgcolor": "#E5ECF6",
           "radialaxis": {
            "gridcolor": "white",
            "linecolor": "white",
            "ticks": ""
           }
          },
          "scene": {
           "xaxis": {
            "backgroundcolor": "#E5ECF6",
            "gridcolor": "white",
            "gridwidth": 2,
            "linecolor": "white",
            "showbackground": true,
            "ticks": "",
            "zerolinecolor": "white"
           },
           "yaxis": {
            "backgroundcolor": "#E5ECF6",
            "gridcolor": "white",
            "gridwidth": 2,
            "linecolor": "white",
            "showbackground": true,
            "ticks": "",
            "zerolinecolor": "white"
           },
           "zaxis": {
            "backgroundcolor": "#E5ECF6",
            "gridcolor": "white",
            "gridwidth": 2,
            "linecolor": "white",
            "showbackground": true,
            "ticks": "",
            "zerolinecolor": "white"
           }
          },
          "shapedefaults": {
           "line": {
            "color": "#2a3f5f"
           }
          },
          "ternary": {
           "aaxis": {
            "gridcolor": "white",
            "linecolor": "white",
            "ticks": ""
           },
           "baxis": {
            "gridcolor": "white",
            "linecolor": "white",
            "ticks": ""
           },
           "bgcolor": "#E5ECF6",
           "caxis": {
            "gridcolor": "white",
            "linecolor": "white",
            "ticks": ""
           }
          },
          "title": {
           "x": 0.05
          },
          "xaxis": {
           "automargin": true,
           "gridcolor": "white",
           "linecolor": "white",
           "ticks": "",
           "title": {
            "standoff": 15
           },
           "zerolinecolor": "white",
           "zerolinewidth": 2
          },
          "yaxis": {
           "automargin": true,
           "gridcolor": "white",
           "linecolor": "white",
           "ticks": "",
           "title": {
            "standoff": 15
           },
           "zerolinecolor": "white",
           "zerolinewidth": 2
          }
         }
        },
        "title": {
         "font": {
          "size": 22
         },
         "text": "Piramida Penduduk"
        },
        "xaxis": {
         "ticktext": [
          "70000",
          "50000",
          "30000",
          "0",
          "70000",
          "50000",
          "30000"
         ],
         "tickvals": [
          -70000,
          -50000,
          -30000,
          0,
          70000,
          50000,
          30000
         ],
         "title": {
          "font": {
           "size": 14
          },
          "text": "Jumlah"
         }
        }
       }
      }
     },
     "metadata": {},
     "output_type": "display_data"
    }
   ],
   "source": [
    "kelompok_umur_lk = pl.read_csv('data/PIRAMIDA PENDUDUK - Laki-laki.csv')\n",
    "# Mendefinisikan range kolom yang akan dijumlahkan\n",
    "columns_to_sum = [kelompok_umur_lk.columns[i] for i in range(6, 23)]\n",
    "\n",
    "# Membuat daftar agregasi\n",
    "aggregations = [pl.sum(col) for col in columns_to_sum]\n",
    "\n",
    "# Melakukan pengelompokan dan agregasi\n",
    "result = kelompok_umur_lk.group_by(\"PROVINSI\").agg(aggregations)\n",
    "\n",
    "# Asumsi bahwa 'result' adalah DataFrame yang dihasilkan dari kode sebelumnya\n",
    "columns_to_melt = [col for col in result.columns if col != \"PROVINSI\"]\n",
    "\n",
    "# Melakukan melt pada DataFrame\n",
    "melted_result_lk = result.melt(\n",
    "    id_vars=[\"PROVINSI\"], \n",
    "    value_vars=columns_to_melt, \n",
    "    variable_name=\"Age_Group\", \n",
    "    value_name=\"Laki-laki\"\n",
    ")\n",
    "\n",
    "kelompok_umur_pr = pl.read_csv('data/PIRAMIDA PENDUDUK - Perempuan.csv')\n",
    "# Mendefinisikan range kolom yang akan dijumlahkan\n",
    "columns_to_sum = [kelompok_umur_pr.columns[i] for i in range(6, 23)]\n",
    "\n",
    "# Membuat daftar agregasi\n",
    "aggregations = [pl.sum(col) for col in columns_to_sum]\n",
    "\n",
    "# Melakukan pengelompokan dan agregasi\n",
    "result = kelompok_umur_pr.group_by(\"PROVINSI\").agg(aggregations)\n",
    "\n",
    "# Asumsi bahwa 'result' adalah DataFrame yang dihasilkan dari kode sebelumnya\n",
    "columns_to_melt = [col for col in result.columns if col != \"PROVINSI\"]\n",
    "\n",
    "# Melakukan melt pada DataFrame\n",
    "melted_result_pr = result.melt(\n",
    "    id_vars=[\"PROVINSI\"], \n",
    "    value_vars=columns_to_melt, \n",
    "    variable_name=\"Age_Group\", \n",
    "    value_name=\"Perempuan\"\n",
    ")\n",
    "\n",
    "df_horizontal_join = melted_result_pr.join(melted_result_lk, on=\"Age_Group\", how=\"inner\")\n",
    "\n",
    "# Daftar kategori usia\n",
    "ku = [\"0 - 1\", \"2 - 4\", \"5 - 9\", \"10 - 14\", \"15 - 19\", \n",
    "      \"20 - 24\", \"25 - 29\", \"30 - 34\", \"35 - 39\", \"40 - 44\", \n",
    "      \"45 - 49\", \"50 - 54\", \"55 - 59\", \"60 - 64\", \n",
    "      \"65 - 69\", \"70 - 74\", \"75+\"]\n",
    "\n",
    "# Menghitung berapa kali daftar ku perlu diulang\n",
    "repeat_count = df_horizontal_join.shape[0] // len(ku) + 1\n",
    "repeated_ku = (ku * repeat_count)[:df_horizontal_join.shape[0]]\n",
    "\n",
    "# Menambahkan kolom kategori umur\n",
    "df_horizontal_join = df_horizontal_join.with_columns([pl.Series(name=\"Kategori_Umur\", values=repeated_ku)])\n",
    "\n",
    "y_age = df_horizontal_join['Kategori_Umur'] \n",
    "x_M = df_horizontal_join['Laki-laki'] \n",
    "x_F = df_horizontal_join['Perempuan'] * -1\n",
    "\n",
    "if max(x_M) >= max(x_F):\n",
    "    maks = max(x_M)\n",
    "else:\n",
    "    maks = max(x_F)\n",
    "\n",
    "import math\n",
    "\n",
    "def round_up_to_nearest(number, base):\n",
    "    return base * math.ceil(number / base)\n",
    "\n",
    "def auto_round_up(number):\n",
    "    if number == 0:\n",
    "        return 0\n",
    "    base = 10 ** (len(str(number)) - 1)\n",
    "    return round_up_to_nearest(number, base)\n",
    "\n",
    "maks1 = auto_round_up(maks)\n",
    "maks2 = auto_round_up(int(maks - (maks * 1 / 3)))\n",
    "maks3 = auto_round_up(int(maks - (maks * 2 / 3)))\n",
    "\n",
    "tick_vals = [-maks1, -maks2, -maks3, 0, maks1, maks2, maks3]\n",
    "tick_str = [str(abs(value)) for value in tick_vals]\n",
    "\n",
    "import plotly.graph_objects as gp\n",
    "# Creating instance of the figure \n",
    "fig = gp.Figure() \n",
    "  \n",
    "\n",
    "# Adding Female data to the figure \n",
    "fig.add_trace(gp.Bar(y = y_age, x = x_F, \n",
    "                     name = 'Perempuan', orientation = 'h',\n",
    "                     marker=dict(color='#ffc107'),\n",
    "                     hovertemplate='Perempuan Umur %{y}<br>Jumlah: %{customdata}<extra></extra>',\n",
    "                     customdata=[abs(x) for x in x_F]\n",
    "                     )) \n",
    "\n",
    "# Adding Male data to the figure \n",
    "fig.add_trace(gp.Bar(y= y_age, x = x_M,  \n",
    "                     name = 'Laki-laki',  \n",
    "                     orientation = 'h',\n",
    "                     marker=dict(color='#0d6efd'),\n",
    "                     hovertemplate='Laki-laki Umur %{y}<br> %{x}<extra></extra>')) \n",
    "\n",
    "  \n",
    "# Updating the layout for our graph \n",
    "fig.update_layout(title = 'Piramida Penduduk', \n",
    "                 title_font_size = 22, barmode = 'relative', \n",
    "                 bargap = 0.0, bargroupgap = 0, \n",
    "                 xaxis = dict(tickvals = tick_vals, \n",
    "                              ticktext = tick_str, \n",
    "                              title = 'Jumlah', \n",
    "                              title_font_size = 14),\n",
    "                legend=dict(\n",
    "                        orientation='h',\n",
    "                        yanchor='bottom',\n",
    "                        y=-0.3,  # Adjust this value to move the legend up or down\n",
    "                        xanchor='center',\n",
    "                        x=0.5\n",
    "                ),\n",
    "                plot_bgcolor='#f6f8fa',  # Set background color of the plot area to green\n",
    "                paper_bgcolor='#f6f8fa'  # Set background color of the entire canvas to green \n",
    ")\n",
    "  \n",
    "fig.show()"
   ]
  },
  {
   "cell_type": "code",
   "execution_count": 56,
   "metadata": {},
   "outputs": [
    {
     "data": {
      "text/html": [
       "<div><style>\n",
       ".dataframe > thead > tr,\n",
       ".dataframe > tbody > tr {\n",
       "  text-align: right;\n",
       "  white-space: pre-wrap;\n",
       "}\n",
       "</style>\n",
       "<small>shape: (17, 3)</small><table border=\"1\" class=\"dataframe\"><thead><tr><th>Kategori_Umur</th><th>Perempuan</th><th>Laki-laki</th></tr><tr><td>str</td><td>i64</td><td>i64</td></tr></thead><tbody><tr><td>&quot;0 - 1&quot;</td><td>7111</td><td>7655</td></tr><tr><td>&quot;2 - 4&quot;</td><td>28925</td><td>31161</td></tr><tr><td>&quot;5 - 9&quot;</td><td>55267</td><td>59619</td></tr><tr><td>&quot;10 - 14&quot;</td><td>58918</td><td>62885</td></tr><tr><td>&quot;15 - 19&quot;</td><td>62332</td><td>67733</td></tr><tr><td>&quot;20 - 24&quot;</td><td>60634</td><td>63400</td></tr><tr><td>&quot;25 - 29&quot;</td><td>49743</td><td>50836</td></tr><tr><td>&quot;30 - 34&quot;</td><td>44449</td><td>44164</td></tr><tr><td>&quot;35 - 39&quot;</td><td>44751</td><td>43901</td></tr><tr><td>&quot;40 - 44&quot;</td><td>42947</td><td>43060</td></tr><tr><td>&quot;45 - 49&quot;</td><td>38118</td><td>37852</td></tr><tr><td>&quot;50 - 54&quot;</td><td>33159</td><td>35784</td></tr><tr><td>&quot;55 - 59&quot;</td><td>22622</td><td>23180</td></tr><tr><td>&quot;60 - 64&quot;</td><td>16619</td><td>16926</td></tr><tr><td>&quot;65 - 69&quot;</td><td>11118</td><td>10960</td></tr><tr><td>&quot;70 - 74&quot;</td><td>8090</td><td>7635</td></tr><tr><td>&quot;75+&quot;</td><td>10386</td><td>8956</td></tr></tbody></table></div>"
      ],
      "text/plain": [
       "shape: (17, 3)\n",
       "┌───────────────┬───────────┬───────────┐\n",
       "│ Kategori_Umur ┆ Perempuan ┆ Laki-laki │\n",
       "│ ---           ┆ ---       ┆ ---       │\n",
       "│ str           ┆ i64       ┆ i64       │\n",
       "╞═══════════════╪═══════════╪═══════════╡\n",
       "│ 0 - 1         ┆ 7111      ┆ 7655      │\n",
       "│ 2 - 4         ┆ 28925     ┆ 31161     │\n",
       "│ 5 - 9         ┆ 55267     ┆ 59619     │\n",
       "│ 10 - 14       ┆ 58918     ┆ 62885     │\n",
       "│ 15 - 19       ┆ 62332     ┆ 67733     │\n",
       "│ …             ┆ …         ┆ …         │\n",
       "│ 55 - 59       ┆ 22622     ┆ 23180     │\n",
       "│ 60 - 64       ┆ 16619     ┆ 16926     │\n",
       "│ 65 - 69       ┆ 11118     ┆ 10960     │\n",
       "│ 70 - 74       ┆ 8090      ┆ 7635      │\n",
       "│ 75+           ┆ 10386     ┆ 8956      │\n",
       "└───────────────┴───────────┴───────────┘"
      ]
     },
     "execution_count": 56,
     "metadata": {},
     "output_type": "execute_result"
    }
   ],
   "source": [
    "df_horizontal_join.select('Kategori_Umur', 'Perempuan', 'Laki-laki')"
   ]
  },
  {
   "cell_type": "code",
   "execution_count": null,
   "metadata": {},
   "outputs": [],
   "source": []
  }
 ],
 "metadata": {
  "kernelspec": {
   "display_name": "Python 3",
   "language": "python",
   "name": "python3"
  },
  "language_info": {
   "codemirror_mode": {
    "name": "ipython",
    "version": 3
   },
   "file_extension": ".py",
   "mimetype": "text/x-python",
   "name": "python",
   "nbconvert_exporter": "python",
   "pygments_lexer": "ipython3",
   "version": "3.10.12"
  }
 },
 "nbformat": 4,
 "nbformat_minor": 2
}
